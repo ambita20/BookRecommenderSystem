{
 "cells": [
  {
   "cell_type": "markdown",
   "metadata": {},
   "source": [
    "# Book Recommender System\n",
    "## MS Capstone Project\n",
    "<div>\n",
    "<img src=\"https://miro.medium.com/max/2722/1*BE61Ks1IZdXMv2MnIKSH1g.png\" width=\"900\"/>\n",
    "</div>\n",
    "Recommender systems have become an integral part of many e-commerce companies. From Amazon to Netflix, recommender systems help users to explore items/ songs/ movies which are similar to their tastes. They also have significantly impacted businesses by increasing purchases resulting in increased revenue. This project builds a recommender system from books whose details are stored in the good reads database. Many advances have been made in identifying best algorithms to make these recommendations. This project explores 3 popular ones. Content-based filtering approach uses the book titles and ratings to suggest books to users. In the collaborative filtering (CF) approach, user-user as well as item-item approach have been explored. Finally, I have applied the Singular Value Decomposition (SVD) which is one of the most popular approaches.\n"
   ]
  },
  {
   "cell_type": "markdown",
   "metadata": {},
   "source": [
    "### Importing the libraries"
   ]
  },
  {
   "cell_type": "code",
   "execution_count": 94,
   "metadata": {},
   "outputs": [],
   "source": [
    "#importing libraries\n",
    "import numpy as np\n",
    "import pandas as pd\n",
    "import matplotlib.pyplot as plt\n",
    "import seaborn as sns\n",
    "import string\n",
    "from sklearn.feature_extraction.text import CountVectorizer,TfidfVectorizer #Perform TF-IDF\n",
    "from spacy import displacy\n",
    "from sklearn.model_selection import train_test_split\n",
    "from IPython.display import Image, HTML   #Displaying images\n",
    "from wordcloud import WordCloud, ImageColorGenerator #Form wordcloud\n",
    "from sklearn.metrics.pairwise import cosine_similarity #Find cosine similarity\n",
    "from sklearn.metrics.pairwise import pairwise_distances #Compute the distance matrix from a vector array X and optional Y\n",
    "from sklearn.metrics import mean_squared_error\n",
    "from math import sqrt\n",
    "sns.set_style(\"whitegrid\")"
   ]
  },
  {
   "cell_type": "markdown",
   "metadata": {},
   "source": [
    "### Reading the data"
   ]
  },
  {
   "cell_type": "code",
   "execution_count": 77,
   "metadata": {},
   "outputs": [
    {
     "data": {
      "text/html": [
       "<div>\n",
       "<style scoped>\n",
       "    .dataframe tbody tr th:only-of-type {\n",
       "        vertical-align: middle;\n",
       "    }\n",
       "\n",
       "    .dataframe tbody tr th {\n",
       "        vertical-align: top;\n",
       "    }\n",
       "\n",
       "    .dataframe thead th {\n",
       "        text-align: right;\n",
       "    }\n",
       "</style>\n",
       "<table border=\"1\" class=\"dataframe\">\n",
       "  <thead>\n",
       "    <tr style=\"text-align: right;\">\n",
       "      <th></th>\n",
       "      <th>id</th>\n",
       "      <th>book_id</th>\n",
       "      <th>best_book_id</th>\n",
       "      <th>work_id</th>\n",
       "      <th>books_count</th>\n",
       "      <th>isbn</th>\n",
       "      <th>isbn13</th>\n",
       "      <th>authors</th>\n",
       "      <th>original_publication_year</th>\n",
       "      <th>original_title</th>\n",
       "      <th>...</th>\n",
       "      <th>ratings_count</th>\n",
       "      <th>work_ratings_count</th>\n",
       "      <th>work_text_reviews_count</th>\n",
       "      <th>ratings_1</th>\n",
       "      <th>ratings_2</th>\n",
       "      <th>ratings_3</th>\n",
       "      <th>ratings_4</th>\n",
       "      <th>ratings_5</th>\n",
       "      <th>image_url</th>\n",
       "      <th>small_image_url</th>\n",
       "    </tr>\n",
       "  </thead>\n",
       "  <tbody>\n",
       "    <tr>\n",
       "      <th>0</th>\n",
       "      <td>1</td>\n",
       "      <td>2767052</td>\n",
       "      <td>2767052</td>\n",
       "      <td>2792775</td>\n",
       "      <td>272</td>\n",
       "      <td>439023483</td>\n",
       "      <td>9.780439e+12</td>\n",
       "      <td>Suzanne Collins</td>\n",
       "      <td>2008.0</td>\n",
       "      <td>The Hunger Games</td>\n",
       "      <td>...</td>\n",
       "      <td>4780653</td>\n",
       "      <td>4942365</td>\n",
       "      <td>155254</td>\n",
       "      <td>66715</td>\n",
       "      <td>127936</td>\n",
       "      <td>560092</td>\n",
       "      <td>1481305</td>\n",
       "      <td>2706317</td>\n",
       "      <td>https://images.gr-assets.com/books/1447303603m/2767052.jpg</td>\n",
       "      <td>https://images.gr-assets.com/books/1447303603s/2767052.jpg</td>\n",
       "    </tr>\n",
       "    <tr>\n",
       "      <th>1</th>\n",
       "      <td>2</td>\n",
       "      <td>3</td>\n",
       "      <td>3</td>\n",
       "      <td>4640799</td>\n",
       "      <td>491</td>\n",
       "      <td>439554934</td>\n",
       "      <td>9.780440e+12</td>\n",
       "      <td>J.K. Rowling, Mary GrandPrÃ©</td>\n",
       "      <td>1997.0</td>\n",
       "      <td>Harry Potter and the Philosopher's Stone</td>\n",
       "      <td>...</td>\n",
       "      <td>4602479</td>\n",
       "      <td>4800065</td>\n",
       "      <td>75867</td>\n",
       "      <td>75504</td>\n",
       "      <td>101676</td>\n",
       "      <td>455024</td>\n",
       "      <td>1156318</td>\n",
       "      <td>3011543</td>\n",
       "      <td>https://images.gr-assets.com/books/1474154022m/3.jpg</td>\n",
       "      <td>https://images.gr-assets.com/books/1474154022s/3.jpg</td>\n",
       "    </tr>\n",
       "    <tr>\n",
       "      <th>2</th>\n",
       "      <td>3</td>\n",
       "      <td>41865</td>\n",
       "      <td>41865</td>\n",
       "      <td>3212258</td>\n",
       "      <td>226</td>\n",
       "      <td>316015849</td>\n",
       "      <td>9.780316e+12</td>\n",
       "      <td>Stephenie Meyer</td>\n",
       "      <td>2005.0</td>\n",
       "      <td>Twilight</td>\n",
       "      <td>...</td>\n",
       "      <td>3866839</td>\n",
       "      <td>3916824</td>\n",
       "      <td>95009</td>\n",
       "      <td>456191</td>\n",
       "      <td>436802</td>\n",
       "      <td>793319</td>\n",
       "      <td>875073</td>\n",
       "      <td>1355439</td>\n",
       "      <td>https://images.gr-assets.com/books/1361039443m/41865.jpg</td>\n",
       "      <td>https://images.gr-assets.com/books/1361039443s/41865.jpg</td>\n",
       "    </tr>\n",
       "    <tr>\n",
       "      <th>3</th>\n",
       "      <td>4</td>\n",
       "      <td>2657</td>\n",
       "      <td>2657</td>\n",
       "      <td>3275794</td>\n",
       "      <td>487</td>\n",
       "      <td>61120081</td>\n",
       "      <td>9.780061e+12</td>\n",
       "      <td>Harper Lee</td>\n",
       "      <td>1960.0</td>\n",
       "      <td>To Kill a Mockingbird</td>\n",
       "      <td>...</td>\n",
       "      <td>3198671</td>\n",
       "      <td>3340896</td>\n",
       "      <td>72586</td>\n",
       "      <td>60427</td>\n",
       "      <td>117415</td>\n",
       "      <td>446835</td>\n",
       "      <td>1001952</td>\n",
       "      <td>1714267</td>\n",
       "      <td>https://images.gr-assets.com/books/1361975680m/2657.jpg</td>\n",
       "      <td>https://images.gr-assets.com/books/1361975680s/2657.jpg</td>\n",
       "    </tr>\n",
       "    <tr>\n",
       "      <th>4</th>\n",
       "      <td>5</td>\n",
       "      <td>4671</td>\n",
       "      <td>4671</td>\n",
       "      <td>245494</td>\n",
       "      <td>1356</td>\n",
       "      <td>743273567</td>\n",
       "      <td>9.780743e+12</td>\n",
       "      <td>F. Scott Fitzgerald</td>\n",
       "      <td>1925.0</td>\n",
       "      <td>The Great Gatsby</td>\n",
       "      <td>...</td>\n",
       "      <td>2683664</td>\n",
       "      <td>2773745</td>\n",
       "      <td>51992</td>\n",
       "      <td>86236</td>\n",
       "      <td>197621</td>\n",
       "      <td>606158</td>\n",
       "      <td>936012</td>\n",
       "      <td>947718</td>\n",
       "      <td>https://images.gr-assets.com/books/1490528560m/4671.jpg</td>\n",
       "      <td>https://images.gr-assets.com/books/1490528560s/4671.jpg</td>\n",
       "    </tr>\n",
       "  </tbody>\n",
       "</table>\n",
       "<p>5 rows × 23 columns</p>\n",
       "</div>"
      ],
      "text/plain": [
       "   id  book_id  best_book_id  work_id  books_count       isbn        isbn13  \\\n",
       "0  1   2767052  2767052       2792775  272          439023483  9.780439e+12   \n",
       "1  2   3        3             4640799  491          439554934  9.780440e+12   \n",
       "2  3   41865    41865         3212258  226          316015849  9.780316e+12   \n",
       "3  4   2657     2657          3275794  487          61120081   9.780061e+12   \n",
       "4  5   4671     4671          245494   1356         743273567  9.780743e+12   \n",
       "\n",
       "                        authors  original_publication_year  \\\n",
       "0  Suzanne Collins               2008.0                      \n",
       "1  J.K. Rowling, Mary GrandPrÃ©  1997.0                      \n",
       "2  Stephenie Meyer               2005.0                      \n",
       "3  Harper Lee                    1960.0                      \n",
       "4  F. Scott Fitzgerald           1925.0                      \n",
       "\n",
       "                             original_title  ... ratings_count  \\\n",
       "0  The Hunger Games                          ...  4780653        \n",
       "1  Harry Potter and the Philosopher's Stone  ...  4602479        \n",
       "2  Twilight                                  ...  3866839        \n",
       "3  To Kill a Mockingbird                     ...  3198671        \n",
       "4  The Great Gatsby                          ...  2683664        \n",
       "\n",
       "  work_ratings_count  work_text_reviews_count  ratings_1  ratings_2  \\\n",
       "0  4942365            155254                   66715      127936      \n",
       "1  4800065            75867                    75504      101676      \n",
       "2  3916824            95009                    456191     436802      \n",
       "3  3340896            72586                    60427      117415      \n",
       "4  2773745            51992                    86236      197621      \n",
       "\n",
       "   ratings_3  ratings_4  ratings_5  \\\n",
       "0  560092     1481305    2706317     \n",
       "1  455024     1156318    3011543     \n",
       "2  793319     875073     1355439     \n",
       "3  446835     1001952    1714267     \n",
       "4  606158     936012     947718      \n",
       "\n",
       "                                                    image_url  \\\n",
       "0  https://images.gr-assets.com/books/1447303603m/2767052.jpg   \n",
       "1  https://images.gr-assets.com/books/1474154022m/3.jpg         \n",
       "2  https://images.gr-assets.com/books/1361039443m/41865.jpg     \n",
       "3  https://images.gr-assets.com/books/1361975680m/2657.jpg      \n",
       "4  https://images.gr-assets.com/books/1490528560m/4671.jpg      \n",
       "\n",
       "                                              small_image_url  \n",
       "0  https://images.gr-assets.com/books/1447303603s/2767052.jpg  \n",
       "1  https://images.gr-assets.com/books/1474154022s/3.jpg        \n",
       "2  https://images.gr-assets.com/books/1361039443s/41865.jpg    \n",
       "3  https://images.gr-assets.com/books/1361975680s/2657.jpg     \n",
       "4  https://images.gr-assets.com/books/1490528560s/4671.jpg     \n",
       "\n",
       "[5 rows x 23 columns]"
      ]
     },
     "execution_count": 77,
     "metadata": {},
     "output_type": "execute_result"
    }
   ],
   "source": [
    "#reading the books file\n",
    "books = pd.read_csv('data/books.csv', encoding = \"ISO-8859-1\")\n",
    "books.head()"
   ]
  },
  {
   "cell_type": "code",
   "execution_count": 3,
   "metadata": {},
   "outputs": [
    {
     "data": {
      "text/plain": [
       "(10000, 23)"
      ]
     },
     "execution_count": 3,
     "metadata": {},
     "output_type": "execute_result"
    }
   ],
   "source": [
    "books.shape"
   ]
  },
  {
   "cell_type": "markdown",
   "metadata": {},
   "source": [
    "The books table has 10,000 observations and 23 columns."
   ]
  },
  {
   "cell_type": "code",
   "execution_count": 78,
   "metadata": {},
   "outputs": [
    {
     "data": {
      "text/html": [
       "<div>\n",
       "<style scoped>\n",
       "    .dataframe tbody tr th:only-of-type {\n",
       "        vertical-align: middle;\n",
       "    }\n",
       "\n",
       "    .dataframe tbody tr th {\n",
       "        vertical-align: top;\n",
       "    }\n",
       "\n",
       "    .dataframe thead th {\n",
       "        text-align: right;\n",
       "    }\n",
       "</style>\n",
       "<table border=\"1\" class=\"dataframe\">\n",
       "  <thead>\n",
       "    <tr style=\"text-align: right;\">\n",
       "      <th></th>\n",
       "      <th>goodreads_book_id</th>\n",
       "      <th>tag_id</th>\n",
       "      <th>count</th>\n",
       "    </tr>\n",
       "  </thead>\n",
       "  <tbody>\n",
       "    <tr>\n",
       "      <th>0</th>\n",
       "      <td>1</td>\n",
       "      <td>30574</td>\n",
       "      <td>167697</td>\n",
       "    </tr>\n",
       "    <tr>\n",
       "      <th>1</th>\n",
       "      <td>1</td>\n",
       "      <td>11305</td>\n",
       "      <td>37174</td>\n",
       "    </tr>\n",
       "    <tr>\n",
       "      <th>2</th>\n",
       "      <td>1</td>\n",
       "      <td>11557</td>\n",
       "      <td>34173</td>\n",
       "    </tr>\n",
       "    <tr>\n",
       "      <th>3</th>\n",
       "      <td>1</td>\n",
       "      <td>8717</td>\n",
       "      <td>12986</td>\n",
       "    </tr>\n",
       "    <tr>\n",
       "      <th>4</th>\n",
       "      <td>1</td>\n",
       "      <td>33114</td>\n",
       "      <td>12716</td>\n",
       "    </tr>\n",
       "  </tbody>\n",
       "</table>\n",
       "</div>"
      ],
      "text/plain": [
       "   goodreads_book_id  tag_id   count\n",
       "0  1                  30574   167697\n",
       "1  1                  11305   37174 \n",
       "2  1                  11557   34173 \n",
       "3  1                  8717    12986 \n",
       "4  1                  33114   12716 "
      ]
     },
     "execution_count": 78,
     "metadata": {},
     "output_type": "execute_result"
    }
   ],
   "source": [
    "#reading the book tags file\n",
    "book_tags = pd.read_csv('data/book_tags.csv', encoding = \"ISO-8859-1\")\n",
    "book_tags.head()"
   ]
  },
  {
   "cell_type": "code",
   "execution_count": 5,
   "metadata": {},
   "outputs": [
    {
     "data": {
      "text/plain": [
       "(999912, 3)"
      ]
     },
     "execution_count": 5,
     "metadata": {},
     "output_type": "execute_result"
    }
   ],
   "source": [
    "book_tags.shape"
   ]
  },
  {
   "cell_type": "markdown",
   "metadata": {},
   "source": [
    "The book tags table has 999912 observations and 3 columns"
   ]
  },
  {
   "cell_type": "code",
   "execution_count": 80,
   "metadata": {},
   "outputs": [
    {
     "data": {
      "text/html": [
       "<div>\n",
       "<style scoped>\n",
       "    .dataframe tbody tr th:only-of-type {\n",
       "        vertical-align: middle;\n",
       "    }\n",
       "\n",
       "    .dataframe tbody tr th {\n",
       "        vertical-align: top;\n",
       "    }\n",
       "\n",
       "    .dataframe thead th {\n",
       "        text-align: right;\n",
       "    }\n",
       "</style>\n",
       "<table border=\"1\" class=\"dataframe\">\n",
       "  <thead>\n",
       "    <tr style=\"text-align: right;\">\n",
       "      <th></th>\n",
       "      <th>book_id</th>\n",
       "      <th>user_id</th>\n",
       "      <th>rating</th>\n",
       "    </tr>\n",
       "  </thead>\n",
       "  <tbody>\n",
       "    <tr>\n",
       "      <th>0</th>\n",
       "      <td>1</td>\n",
       "      <td>314</td>\n",
       "      <td>5</td>\n",
       "    </tr>\n",
       "    <tr>\n",
       "      <th>1</th>\n",
       "      <td>1</td>\n",
       "      <td>439</td>\n",
       "      <td>3</td>\n",
       "    </tr>\n",
       "    <tr>\n",
       "      <th>2</th>\n",
       "      <td>1</td>\n",
       "      <td>588</td>\n",
       "      <td>5</td>\n",
       "    </tr>\n",
       "    <tr>\n",
       "      <th>3</th>\n",
       "      <td>1</td>\n",
       "      <td>1169</td>\n",
       "      <td>4</td>\n",
       "    </tr>\n",
       "    <tr>\n",
       "      <th>4</th>\n",
       "      <td>1</td>\n",
       "      <td>1185</td>\n",
       "      <td>4</td>\n",
       "    </tr>\n",
       "  </tbody>\n",
       "</table>\n",
       "</div>"
      ],
      "text/plain": [
       "   book_id  user_id  rating\n",
       "0  1        314      5     \n",
       "1  1        439      3     \n",
       "2  1        588      5     \n",
       "3  1        1169     4     \n",
       "4  1        1185     4     "
      ]
     },
     "execution_count": 80,
     "metadata": {},
     "output_type": "execute_result"
    }
   ],
   "source": [
    "#reading the ratings file\n",
    "ratings = pd.read_csv('data/ratings.csv', encoding = \"ISO-8859-1\")\n",
    "ratings.head()\n"
   ]
  },
  {
   "cell_type": "code",
   "execution_count": 81,
   "metadata": {},
   "outputs": [
    {
     "data": {
      "text/plain": [
       "(981756, 3)"
      ]
     },
     "execution_count": 81,
     "metadata": {},
     "output_type": "execute_result"
    }
   ],
   "source": [
    "ratings.shape"
   ]
  },
  {
   "cell_type": "code",
   "execution_count": 82,
   "metadata": {},
   "outputs": [
    {
     "name": "stdout",
     "output_type": "stream",
     "text": [
      "<class 'pandas.core.frame.DataFrame'>\n",
      "RangeIndex: 981756 entries, 0 to 981755\n",
      "Data columns (total 3 columns):\n",
      "book_id    981756 non-null int64\n",
      "user_id    981756 non-null int64\n",
      "rating     981756 non-null int64\n",
      "dtypes: int64(3)\n",
      "memory usage: 22.5 MB\n"
     ]
    }
   ],
   "source": [
    "ratings.info()"
   ]
  },
  {
   "cell_type": "raw",
   "metadata": {},
   "source": [
    "Ratings has 981756 observations and 3 columns"
   ]
  },
  {
   "cell_type": "code",
   "execution_count": 83,
   "metadata": {},
   "outputs": [
    {
     "data": {
      "text/html": [
       "<div>\n",
       "<style scoped>\n",
       "    .dataframe tbody tr th:only-of-type {\n",
       "        vertical-align: middle;\n",
       "    }\n",
       "\n",
       "    .dataframe tbody tr th {\n",
       "        vertical-align: top;\n",
       "    }\n",
       "\n",
       "    .dataframe thead th {\n",
       "        text-align: right;\n",
       "    }\n",
       "</style>\n",
       "<table border=\"1\" class=\"dataframe\">\n",
       "  <thead>\n",
       "    <tr style=\"text-align: right;\">\n",
       "      <th></th>\n",
       "      <th>tag_id</th>\n",
       "      <th>tag_name</th>\n",
       "    </tr>\n",
       "  </thead>\n",
       "  <tbody>\n",
       "    <tr>\n",
       "      <th>0</th>\n",
       "      <td>0</td>\n",
       "      <td>-</td>\n",
       "    </tr>\n",
       "    <tr>\n",
       "      <th>1</th>\n",
       "      <td>1</td>\n",
       "      <td>--1-</td>\n",
       "    </tr>\n",
       "    <tr>\n",
       "      <th>2</th>\n",
       "      <td>2</td>\n",
       "      <td>--10-</td>\n",
       "    </tr>\n",
       "    <tr>\n",
       "      <th>3</th>\n",
       "      <td>3</td>\n",
       "      <td>--12-</td>\n",
       "    </tr>\n",
       "    <tr>\n",
       "      <th>4</th>\n",
       "      <td>4</td>\n",
       "      <td>--122-</td>\n",
       "    </tr>\n",
       "  </tbody>\n",
       "</table>\n",
       "</div>"
      ],
      "text/plain": [
       "   tag_id tag_name\n",
       "0  0       -      \n",
       "1  1       --1-   \n",
       "2  2       --10-  \n",
       "3  3       --12-  \n",
       "4  4       --122- "
      ]
     },
     "execution_count": 83,
     "metadata": {},
     "output_type": "execute_result"
    }
   ],
   "source": [
    "#reading the tags file\n",
    "tags = pd.read_csv('data/tags.csv', encoding = \"ISO-8859-1\")\n",
    "tags.head()"
   ]
  },
  {
   "cell_type": "code",
   "execution_count": 84,
   "metadata": {},
   "outputs": [
    {
     "data": {
      "text/plain": [
       "(34252, 2)"
      ]
     },
     "execution_count": 84,
     "metadata": {},
     "output_type": "execute_result"
    }
   ],
   "source": [
    "tags.shape"
   ]
  },
  {
   "cell_type": "markdown",
   "metadata": {},
   "source": [
    "The tags table has 34252 rows and 2 columns"
   ]
  },
  {
   "cell_type": "code",
   "execution_count": 85,
   "metadata": {},
   "outputs": [
    {
     "data": {
      "text/html": [
       "<div>\n",
       "<style scoped>\n",
       "    .dataframe tbody tr th:only-of-type {\n",
       "        vertical-align: middle;\n",
       "    }\n",
       "\n",
       "    .dataframe tbody tr th {\n",
       "        vertical-align: top;\n",
       "    }\n",
       "\n",
       "    .dataframe thead th {\n",
       "        text-align: right;\n",
       "    }\n",
       "</style>\n",
       "<table border=\"1\" class=\"dataframe\">\n",
       "  <thead>\n",
       "    <tr style=\"text-align: right;\">\n",
       "      <th></th>\n",
       "      <th>user_id</th>\n",
       "      <th>book_id</th>\n",
       "    </tr>\n",
       "  </thead>\n",
       "  <tbody>\n",
       "    <tr>\n",
       "      <th>0</th>\n",
       "      <td>1</td>\n",
       "      <td>112</td>\n",
       "    </tr>\n",
       "    <tr>\n",
       "      <th>1</th>\n",
       "      <td>1</td>\n",
       "      <td>235</td>\n",
       "    </tr>\n",
       "    <tr>\n",
       "      <th>2</th>\n",
       "      <td>1</td>\n",
       "      <td>533</td>\n",
       "    </tr>\n",
       "    <tr>\n",
       "      <th>3</th>\n",
       "      <td>1</td>\n",
       "      <td>1198</td>\n",
       "    </tr>\n",
       "    <tr>\n",
       "      <th>4</th>\n",
       "      <td>1</td>\n",
       "      <td>1874</td>\n",
       "    </tr>\n",
       "  </tbody>\n",
       "</table>\n",
       "</div>"
      ],
      "text/plain": [
       "   user_id  book_id\n",
       "0  1        112    \n",
       "1  1        235    \n",
       "2  1        533    \n",
       "3  1        1198   \n",
       "4  1        1874   "
      ]
     },
     "execution_count": 85,
     "metadata": {},
     "output_type": "execute_result"
    }
   ],
   "source": [
    "#reading the to_read file\n",
    "to_read = pd.read_csv('data/to_read.csv', encoding = \"ISO-8859-1\")\n",
    "to_read.head()"
   ]
  },
  {
   "cell_type": "code",
   "execution_count": 12,
   "metadata": {},
   "outputs": [
    {
     "data": {
      "text/plain": [
       "(912705, 2)"
      ]
     },
     "execution_count": 12,
     "metadata": {},
     "output_type": "execute_result"
    }
   ],
   "source": [
    "to_read.shape"
   ]
  },
  {
   "cell_type": "markdown",
   "metadata": {},
   "source": [
    "The table to_read has 912705 observations and 2 columns"
   ]
  },
  {
   "cell_type": "markdown",
   "metadata": {},
   "source": [
    "### Data Pre-processing\n",
    "The next step is pre-processing our data. We will perform the following steps in cleaning the data.\n",
    "1. Remove missing values\n",
    "2. Remove duplicates\n",
    "3. Remove all non-ASCII characters from book names\n",
    "4. Remove user-rating pairs which are very few"
   ]
  },
  {
   "cell_type": "markdown",
   "metadata": {},
   "source": [
    "1. Missing values"
   ]
  },
  {
   "cell_type": "code",
   "execution_count": 88,
   "metadata": {},
   "outputs": [
    {
     "data": {
      "text/plain": [
       "id                           0.0\n",
       "book_id                      0.0\n",
       "best_book_id                 0.0\n",
       "work_id                      0.0\n",
       "books_count                  0.0\n",
       "isbn                         0.0\n",
       "isbn13                       0.0\n",
       "authors                      0.0\n",
       "original_publication_year    0.0\n",
       "original_title               0.0\n",
       "title                        0.0\n",
       "language_code                0.0\n",
       "average_rating               0.0\n",
       "ratings_count                0.0\n",
       "work_ratings_count           0.0\n",
       "work_text_reviews_count      0.0\n",
       "ratings_1                    0.0\n",
       "ratings_2                    0.0\n",
       "ratings_3                    0.0\n",
       "ratings_4                    0.0\n",
       "ratings_5                    0.0\n",
       "image_url                    0.0\n",
       "small_image_url              0.0\n",
       "dtype: float64"
      ]
     },
     "execution_count": 88,
     "metadata": {},
     "output_type": "execute_result"
    }
   ],
   "source": [
    "books.isna().mean()"
   ]
  },
  {
   "cell_type": "markdown",
   "metadata": {},
   "source": [
    "Language code, isbn and original title have missing values. We can drop rows where original title is missing"
   ]
  },
  {
   "cell_type": "code",
   "execution_count": 87,
   "metadata": {},
   "outputs": [
    {
     "data": {
      "text/plain": [
       "(7860, 23)"
      ]
     },
     "execution_count": 87,
     "metadata": {},
     "output_type": "execute_result"
    }
   ],
   "source": [
    "books = books.dropna(how='any')\n",
    "books.shape"
   ]
  },
  {
   "cell_type": "markdown",
   "metadata": {},
   "source": [
    "2140 records have been dropped."
   ]
  },
  {
   "cell_type": "code",
   "execution_count": 89,
   "metadata": {},
   "outputs": [
    {
     "data": {
      "text/plain": [
       "goodreads_book_id    0.0\n",
       "tag_id               0.0\n",
       "count                0.0\n",
       "dtype: float64"
      ]
     },
     "execution_count": 89,
     "metadata": {},
     "output_type": "execute_result"
    }
   ],
   "source": [
    "book_tags.isna().mean()"
   ]
  },
  {
   "cell_type": "code",
   "execution_count": 93,
   "metadata": {},
   "outputs": [
    {
     "data": {
      "text/plain": [
       "book_id    0.0\n",
       "user_id    0.0\n",
       "rating     0.0\n",
       "dtype: float64"
      ]
     },
     "execution_count": 93,
     "metadata": {},
     "output_type": "execute_result"
    }
   ],
   "source": [
    "ratings.isna().mean()"
   ]
  },
  {
   "cell_type": "code",
   "execution_count": 91,
   "metadata": {},
   "outputs": [
    {
     "data": {
      "text/plain": [
       "tag_id      0.0\n",
       "tag_name    0.0\n",
       "dtype: float64"
      ]
     },
     "execution_count": 91,
     "metadata": {},
     "output_type": "execute_result"
    }
   ],
   "source": [
    "tags.isna().mean()"
   ]
  },
  {
   "cell_type": "code",
   "execution_count": 92,
   "metadata": {},
   "outputs": [
    {
     "data": {
      "text/plain": [
       "user_id    0.0\n",
       "book_id    0.0\n",
       "dtype: float64"
      ]
     },
     "execution_count": 92,
     "metadata": {},
     "output_type": "execute_result"
    }
   ],
   "source": [
    "to_read.isna().mean()"
   ]
  },
  {
   "cell_type": "markdown",
   "metadata": {},
   "source": [
    "Rest of the samples do not have any missing values. Let's also remove the duplicate values.\n",
    "\n",
    "2. Removing Duplicates"
   ]
  },
  {
   "cell_type": "code",
   "execution_count": 95,
   "metadata": {},
   "outputs": [
    {
     "data": {
      "text/plain": [
       "(977269, 3)"
      ]
     },
     "execution_count": 95,
     "metadata": {},
     "output_type": "execute_result"
    }
   ],
   "source": [
    "ratings.drop_duplicates(subset =[\"user_id\",\"book_id\"], \n",
    "                     keep = False, inplace = True) \n",
    "ratings.shape"
   ]
  },
  {
   "cell_type": "markdown",
   "metadata": {},
   "source": [
    " 4487 duplicates were removed"
   ]
  },
  {
   "cell_type": "code",
   "execution_count": 96,
   "metadata": {},
   "outputs": [
    {
     "name": "stdout",
     "output_type": "stream",
     "text": [
      "(7860, 23)\n",
      "(7661, 23)\n"
     ]
    }
   ],
   "source": [
    "print(books.shape)\n",
    "books.drop_duplicates(subset='original_title',keep=False,inplace=True)\n",
    "print(books.shape)"
   ]
  },
  {
   "cell_type": "markdown",
   "metadata": {},
   "source": [
    "199 rows removed."
   ]
  },
  {
   "cell_type": "code",
   "execution_count": 97,
   "metadata": {},
   "outputs": [
    {
     "name": "stdout",
     "output_type": "stream",
     "text": [
      "(34252, 2)\n",
      "(34252, 2)\n"
     ]
    }
   ],
   "source": [
    "print(tags.shape)\n",
    "tags.drop_duplicates(subset='tag_id',keep=False,inplace=True)\n",
    "print(tags.shape)"
   ]
  },
  {
   "cell_type": "markdown",
   "metadata": {},
   "source": [
    "There are no duplicates in tags."
   ]
  },
  {
   "cell_type": "code",
   "execution_count": 98,
   "metadata": {},
   "outputs": [
    {
     "name": "stdout",
     "output_type": "stream",
     "text": [
      "(999912, 3)\n",
      "(999896, 3)\n"
     ]
    }
   ],
   "source": [
    "print(book_tags.shape)\n",
    "book_tags.drop_duplicates(subset=['tag_id','goodreads_book_id'],keep=False,inplace=True)\n",
    "print(book_tags.shape)"
   ]
  },
  {
   "cell_type": "markdown",
   "metadata": {},
   "source": [
    "3. Remove Non-ASCII characters from book names"
   ]
  },
  {
   "cell_type": "code",
   "execution_count": 101,
   "metadata": {},
   "outputs": [
    {
     "data": {
      "text/plain": [
       "(7144, 23)"
      ]
     },
     "execution_count": 101,
     "metadata": {},
     "output_type": "execute_result"
    }
   ],
   "source": [
    "books = books[~books.original_title.str.contains(r'[^\\x00-\\x7F]')]\n",
    "books = books[~books.authors.str.contains(r'[^\\x00-\\x7F]')]\n",
    "books.shape"
   ]
  },
  {
   "cell_type": "markdown",
   "metadata": {},
   "source": [
    "4. Removing entries having few ratings\n",
    "The ratings data is huge with 981,756 entries. This will result is a memory error when we try to vectorize the features. Hence we'll remove ratings which were not frequent."
   ]
  },
  {
   "cell_type": "code",
   "execution_count": 194,
   "metadata": {},
   "outputs": [
    {
     "data": {
      "image/png": "[encoded data removed]",
      "text/plain": [
       "<Figure size 720x360 with 1 Axes>"
      ]
     },
     "metadata": {},
     "output_type": "display_data"
    }
   ],
   "source": [
    "plt.figure(figsize=(10,5))\n",
    "grouped_ratings=ratings.groupby('user_id').agg({'rating':'count'})\n",
    "sns.boxplot(grouped_ratings);"
   ]
  },
  {
   "cell_type": "code",
   "execution_count": 106,
   "metadata": {},
   "outputs": [
    {
     "data": {
      "text/plain": [
       "rating    3.0\n",
       "Name: 0.25, dtype: float64"
      ]
     },
     "execution_count": 106,
     "metadata": {},
     "output_type": "execute_result"
    }
   ],
   "source": [
    "grouped_ratings.quantile(0.25, numeric_only=False)\n"
   ]
  },
  {
   "cell_type": "code",
   "execution_count": 108,
   "metadata": {},
   "outputs": [
    {
     "data": {
      "text/plain": [
       "rating    22.0\n",
       "Name: 0.75, dtype: float64"
      ]
     },
     "execution_count": 108,
     "metadata": {},
     "output_type": "execute_result"
    }
   ],
   "source": [
    "grouped_ratings.quantile(0.75, numeric_only=False)"
   ]
  },
  {
   "cell_type": "markdown",
   "metadata": {},
   "source": [
    "We will keep users with ratings between 3 and 22."
   ]
  },
  {
   "cell_type": "code",
   "execution_count": 140,
   "metadata": {},
   "outputs": [],
   "source": [
    "grouped_ratings=grouped_ratings[(grouped_ratings[\"rating\"]>3) & (grouped_ratings[\"rating\"]<22)]\n",
    "grouped_ratings=grouped_ratings.reset_index();"
   ]
  },
  {
   "cell_type": "markdown",
   "metadata": {},
   "source": [
    "Now let's filter out the ratings table"
   ]
  },
  {
   "cell_type": "code",
   "execution_count": 142,
   "metadata": {},
   "outputs": [
    {
     "data": {
      "text/plain": [
       "(250763, 3)"
      ]
     },
     "execution_count": 142,
     "metadata": {},
     "output_type": "execute_result"
    }
   ],
   "source": [
    "ratings=ratings[ratings[\"user_id\"].isin(grouped_ratings[\"user_id\"].to_list()) ]\n",
    "ratings.shape"
   ]
  },
  {
   "cell_type": "markdown",
   "metadata": {},
   "source": [
    "Now we are left with 250763 rows but this may still lead to a memory error. Hence we will take a 5% sample of this data and proceed."
   ]
  },
  {
   "cell_type": "code",
   "execution_count": 186,
   "metadata": {},
   "outputs": [
    {
     "name": "stdout",
     "output_type": "stream",
     "text": [
      "<class 'pandas.core.frame.DataFrame'>\n",
      "Int64Index: 12538 entries, 729669 to 941844\n",
      "Data columns (total 3 columns):\n",
      "book_id    12538 non-null int64\n",
      "user_id    12538 non-null int64\n",
      "rating     12538 non-null int64\n",
      "dtypes: int64(3)\n",
      "memory usage: 391.8 KB\n",
      "None\n"
     ]
    }
   ],
   "source": [
    "# Randomly sample 1% of the ratings dataset\n",
    "sample_ratings = ratings.sample(frac=0.05,random_state=100)\n",
    "# Check the sample info\n",
    "print(sample_ratings.info())"
   ]
  },
  {
   "cell_type": "markdown",
   "metadata": {},
   "source": [
    "### Exploratory Data Analysis\n",
    "\n",
    "1. Distribution of the average ratings of the books:"
   ]
  },
  {
   "cell_type": "code",
   "execution_count": 193,
   "metadata": {},
   "outputs": [
    {
     "data": {
      "image/png": "[encoded data removed]",
      "text/plain": [
       "<Figure size 720x360 with 1 Axes>"
      ]
     },
     "metadata": {},
     "output_type": "display_data"
    }
   ],
   "source": [
    "plt.figure(figsize=(10,5))\n",
    "sns.distplot(a=books['average_rating'], kde=False);"
   ]
  },
  {
   "cell_type": "markdown",
   "metadata": {},
   "source": [
    "Most of the average ratings fall between 3.5-4.5\n",
    "\n",
    "2. Distribution of ratings given by users: "
   ]
  },
  {
   "cell_type": "code",
   "execution_count": 199,
   "metadata": {},
   "outputs": [
    {
     "data": {
      "image/png": "[encoded data removed]",
      "text/plain": [
       "<Figure size 720x360 with 1 Axes>"
      ]
     },
     "metadata": {},
     "output_type": "display_data"
    }
   ],
   "source": [
    "plt.figure(figsize=(10,5))\n",
    "fig=sns.countplot(x=sample_ratings['rating'],color=\"#5facfa\");"
   ]
  },
  {
   "cell_type": "markdown",
   "metadata": {},
   "source": [
    "Most of the ratings fall between 3-5.\n",
    "\n",
    "3. Top-rated Books based on average ratings:\n",
    "\n",
    "Now let's see some books which have high average ratings."
   ]
  },
  {
   "cell_type": "code",
   "execution_count": 201,
   "metadata": {},
   "outputs": [],
   "source": [
    "top_rated=books.sort_values('average_rating', ascending=False)\n",
    "top_10=top_rated.head(10)\n",
    "columns=['title','small_image_url']\n",
    "display=(top_10[columns])\n",
    "display.set_index('title', inplace=True)"
   ]
  },
  {
   "cell_type": "code",
   "execution_count": 202,
   "metadata": {},
   "outputs": [
    {
     "data": {
      "text/html": [
       "<table border=\"1\" class=\"dataframe\">\n",
       "  <thead>\n",
       "    <tr style=\"text-align: right;\">\n",
       "      <th></th>\n",
       "      <th>small_image_url</th>\n",
       "    </tr>\n",
       "    <tr>\n",
       "      <th>title</th>\n",
       "      <th></th>\n",
       "    </tr>\n",
       "  </thead>\n",
       "  <tbody>\n",
       "    <tr>\n",
       "      <th>The Complete Calvin and Hobbes</th>\n",
       "      <td><img src=\"https://images.gr-assets.com/books/1473064526s/24812.jpg\" style=max-height:124px;\"/></td>\n",
       "    </tr>\n",
       "    <tr>\n",
       "      <th>Words of Radiance (The Stormlight Archive, #2)</th>\n",
       "      <td><img src=\"https://images.gr-assets.com/books/1391535251s/17332218.jpg\" style=max-height:124px;\"/></td>\n",
       "    </tr>\n",
       "    <tr>\n",
       "      <th>Mark of the Lion Trilogy</th>\n",
       "      <td><img src=\"https://images.gr-assets.com/books/1349032180s/95602.jpg\" style=max-height:124px;\"/></td>\n",
       "    </tr>\n",
       "    <tr>\n",
       "      <th>It's a Magical World: A Calvin and Hobbes Collection</th>\n",
       "      <td><img src=\"https://images.gr-assets.com/books/1437420710s/24814.jpg\" style=max-height:124px;\"/></td>\n",
       "    </tr>\n",
       "    <tr>\n",
       "      <th>There's Treasure Everywhere: A Calvin and Hobbes Collection</th>\n",
       "      <td><img src=\"https://s.gr-assets.com/assets/nophoto/book/50x75-a91bf249278a81aabab721ef782c4a74.png\" style=max-height:124px;\"/></td>\n",
       "    </tr>\n",
       "    <tr>\n",
       "      <th>Harry Potter Boxset (Harry Potter, #1-7)</th>\n",
       "      <td><img src=\"https://images.gr-assets.com/books/1392579059s/862041.jpg\" style=max-height:124px;\"/></td>\n",
       "    </tr>\n",
       "    <tr>\n",
       "      <th>The Indispensable Calvin and Hobbes</th>\n",
       "      <td><img src=\"https://s.gr-assets.com/assets/nophoto/book/50x75-a91bf249278a81aabab721ef782c4a74.png\" style=max-height:124px;\"/></td>\n",
       "    </tr>\n",
       "    <tr>\n",
       "      <th>Harry Potter Collection (Harry Potter, #1-6)</th>\n",
       "      <td><img src=\"https://images.gr-assets.com/books/1328867351s/10.jpg\" style=max-height:124px;\"/></td>\n",
       "    </tr>\n",
       "    <tr>\n",
       "      <th>The Authoritative Calvin and Hobbes: A Calvin and Hobbes Treasury</th>\n",
       "      <td><img src=\"https://images.gr-assets.com/books/1391114055s/59715.jpg\" style=max-height:124px;\"/></td>\n",
       "    </tr>\n",
       "    <tr>\n",
       "      <th>Attack of the Deranged Mutant Killer Monster Snow Goons</th>\n",
       "      <td><img src=\"https://images.gr-assets.com/books/1384735429s/70487.jpg\" style=max-height:124px;\"/></td>\n",
       "    </tr>\n",
       "  </tbody>\n",
       "</table>"
      ],
      "text/plain": [
       "<IPython.core.display.HTML object>"
      ]
     },
     "execution_count": 202,
     "metadata": {},
     "output_type": "execute_result"
    }
   ],
   "source": [
    "#This function is used to form a path so that the image can be properly displayed.\n",
    "def path_to_image_html(path):\n",
    "    '''\n",
    "     This function essentially convert the image url to \n",
    "     '<img src=\"'+ path + '\"/>' format. And one can put any\n",
    "     formatting adjustments to control the height, aspect ratio, size etc.\n",
    "     within as in the below example. \n",
    "    '''\n",
    "\n",
    "    return '<img src=\"'+ path + '\" style=max-height:124px;\"/>'\n",
    "pd.set_option('display.max_colwidth', -1)\n",
    "HTML(display.to_html(escape=False ,formatters=dict(small_image_url=path_to_image_html)))"
   ]
  },
  {
   "cell_type": "markdown",
   "metadata": {},
   "source": [
    "4. Top10 rated books based on number of reviews received:"
   ]
  },
  {
   "cell_type": "code",
   "execution_count": 203,
   "metadata": {},
   "outputs": [],
   "source": [
    "popular=books.sort_values('ratings_count', ascending=False)\n",
    "pop_10=popular.head(10)\n",
    "columns_popular=['title','small_image_url']\n",
    "display_popular=(pop_10[columns_popular])\n",
    "display_popular.set_index('title', inplace=True)"
   ]
  },
  {
   "cell_type": "code",
   "execution_count": 204,
   "metadata": {},
   "outputs": [
    {
     "data": {
      "text/html": [
       "<table border=\"1\" class=\"dataframe\">\n",
       "  <thead>\n",
       "    <tr style=\"text-align: right;\">\n",
       "      <th></th>\n",
       "      <th>small_image_url</th>\n",
       "    </tr>\n",
       "    <tr>\n",
       "      <th>title</th>\n",
       "      <th></th>\n",
       "    </tr>\n",
       "  </thead>\n",
       "  <tbody>\n",
       "    <tr>\n",
       "      <th>The Hunger Games (The Hunger Games, #1)</th>\n",
       "      <td><img src=\"https://images.gr-assets.com/books/1447303603s/2767052.jpg\" style=max-height:124px;\"/></td>\n",
       "    </tr>\n",
       "    <tr>\n",
       "      <th>To Kill a Mockingbird</th>\n",
       "      <td><img src=\"https://images.gr-assets.com/books/1361975680s/2657.jpg\" style=max-height:124px;\"/></td>\n",
       "    </tr>\n",
       "    <tr>\n",
       "      <th>The Great Gatsby</th>\n",
       "      <td><img src=\"https://images.gr-assets.com/books/1490528560s/4671.jpg\" style=max-height:124px;\"/></td>\n",
       "    </tr>\n",
       "    <tr>\n",
       "      <th>The Fault in Our Stars</th>\n",
       "      <td><img src=\"https://images.gr-assets.com/books/1360206420s/11870085.jpg\" style=max-height:124px;\"/></td>\n",
       "    </tr>\n",
       "    <tr>\n",
       "      <th>The Hobbit</th>\n",
       "      <td><img src=\"https://images.gr-assets.com/books/1372847500s/5907.jpg\" style=max-height:124px;\"/></td>\n",
       "    </tr>\n",
       "    <tr>\n",
       "      <th>The Catcher in the Rye</th>\n",
       "      <td><img src=\"https://images.gr-assets.com/books/1398034300s/5107.jpg\" style=max-height:124px;\"/></td>\n",
       "    </tr>\n",
       "    <tr>\n",
       "      <th>Pride and Prejudice</th>\n",
       "      <td><img src=\"https://images.gr-assets.com/books/1320399351s/1885.jpg\" style=max-height:124px;\"/></td>\n",
       "    </tr>\n",
       "    <tr>\n",
       "      <th>Angels & Demons  (Robert Langdon, #1)</th>\n",
       "      <td><img src=\"https://images.gr-assets.com/books/1303390735s/960.jpg\" style=max-height:124px;\"/></td>\n",
       "    </tr>\n",
       "    <tr>\n",
       "      <th>The Diary of a Young Girl</th>\n",
       "      <td><img src=\"https://images.gr-assets.com/books/1358276407s/48855.jpg\" style=max-height:124px;\"/></td>\n",
       "    </tr>\n",
       "    <tr>\n",
       "      <th>Divergent (Divergent, #1)</th>\n",
       "      <td><img src=\"https://images.gr-assets.com/books/1328559506s/13335037.jpg\" style=max-height:124px;\"/></td>\n",
       "    </tr>\n",
       "  </tbody>\n",
       "</table>"
      ],
      "text/plain": [
       "<IPython.core.display.HTML object>"
      ]
     },
     "execution_count": 204,
     "metadata": {},
     "output_type": "execute_result"
    }
   ],
   "source": [
    "HTML(display_popular.to_html(escape=False ,formatters=dict(small_image_url=path_to_image_html)))"
   ]
  },
  {
   "cell_type": "markdown",
   "metadata": {},
   "source": [
    "5. Most popular authors:"
   ]
  },
  {
   "cell_type": "code",
   "execution_count": 205,
   "metadata": {},
   "outputs": [
    {
     "data": {
      "image/png": "[encoded data removed]",
      "text/plain": [
       "<Figure size 720x360 with 1 Axes>"
      ]
     },
     "metadata": {},
     "output_type": "display_data"
    }
   ],
   "source": [
    "plt.figure(figsize=(10,5))\n",
    "sns.barplot(data=most_pop_authors,x='ratings_count',y='authors',color=\"#5facfa\");\n"
   ]
  },
  {
   "cell_type": "markdown",
   "metadata": {},
   "source": [
    "6. Number of ratings per user"
   ]
  },
  {
   "cell_type": "code",
   "execution_count": 208,
   "metadata": {},
   "outputs": [
    {
     "data": {
      "image/png": "[encoded data removed]",
      "text/plain": [
       "<Figure size 720x360 with 1 Axes>"
      ]
     },
     "metadata": {},
     "output_type": "display_data"
    }
   ],
   "source": [
    "plt.figure(figsize=(10,5))\n",
    "sns.distplot(ratings.groupby('user_id').agg({'rating':'count'}),kde=False);"
   ]
  },
  {
   "cell_type": "markdown",
   "metadata": {},
   "source": [
    "7. Number of ratings per book"
   ]
  },
  {
   "cell_type": "code",
   "execution_count": 209,
   "metadata": {},
   "outputs": [
    {
     "data": {
      "image/png": "[encoded data removed]",
      "text/plain": [
       "<Figure size 720x360 with 1 Axes>"
      ]
     },
     "metadata": {},
     "output_type": "display_data"
    }
   ],
   "source": [
    "plt.figure(figsize=(10,5))\n",
    "sns.distplot(ratings.groupby('book_id').agg({'rating':'count'}),kde=False);"
   ]
  },
  {
   "cell_type": "markdown",
   "metadata": {},
   "source": [
    "7. Let's explore which genres are more famous"
   ]
  },
  {
   "cell_type": "code",
   "execution_count": 210,
   "metadata": {},
   "outputs": [],
   "source": [
    "#Since there are many random tags given by the users, I have picked a few frequent and popular tags.\n",
    "genres=[\"Art\", \"Biography\", \"Business\", \"Chick Lit\", \"Children's\", \"Christian\", \"Classics\", \"Comics\", \"Contemporary\", \"Cookbooks\", \"Crime\", \"Ebooks\", \"Fantasy\", \"Fiction\", \"Gay and Lesbian\", \"Graphic Novels\", \"Historical Fiction\", \"History\", \"Horror\", \"Humor and Comedy\", \"Manga\", \"Memoir\", \"Music\", \"Mystery\", \"Nonfiction\", \"Paranormal\", \"Philosophy\", \"Poetry\", \"Psychology\", \"Religion\", \"Romance\", \"Science\", \"Science Fiction\", \"Self Help\", \"Suspense\", \"Spirituality\", \"Sports\", \"Thriller\", \"Travel\", \"Young Adult\"]\n",
    "for i in range(len(genres)):\n",
    "    genres[i]=genres[i].lower()"
   ]
  },
  {
   "cell_type": "code",
   "execution_count": 212,
   "metadata": {},
   "outputs": [
    {
     "data": {
      "text/html": [
       "<div>\n",
       "<style scoped>\n",
       "    .dataframe tbody tr th:only-of-type {\n",
       "        vertical-align: middle;\n",
       "    }\n",
       "\n",
       "    .dataframe tbody tr th {\n",
       "        vertical-align: top;\n",
       "    }\n",
       "\n",
       "    .dataframe thead th {\n",
       "        text-align: right;\n",
       "    }\n",
       "</style>\n",
       "<table border=\"1\" class=\"dataframe\">\n",
       "  <thead>\n",
       "    <tr style=\"text-align: right;\">\n",
       "      <th></th>\n",
       "      <th>tag_id</th>\n",
       "      <th>goodreads_book_id</th>\n",
       "      <th>count</th>\n",
       "    </tr>\n",
       "    <tr>\n",
       "      <th>tag_name</th>\n",
       "      <th></th>\n",
       "      <th></th>\n",
       "      <th></th>\n",
       "    </tr>\n",
       "  </thead>\n",
       "  <tbody>\n",
       "    <tr>\n",
       "      <th>to-read</th>\n",
       "      <td>9983</td>\n",
       "      <td>9983</td>\n",
       "      <td>9983</td>\n",
       "    </tr>\n",
       "    <tr>\n",
       "      <th>favorites</th>\n",
       "      <td>9881</td>\n",
       "      <td>9881</td>\n",
       "      <td>9881</td>\n",
       "    </tr>\n",
       "    <tr>\n",
       "      <th>owned</th>\n",
       "      <td>9856</td>\n",
       "      <td>9856</td>\n",
       "      <td>9856</td>\n",
       "    </tr>\n",
       "    <tr>\n",
       "      <th>books-i-own</th>\n",
       "      <td>9799</td>\n",
       "      <td>9799</td>\n",
       "      <td>9799</td>\n",
       "    </tr>\n",
       "    <tr>\n",
       "      <th>currently-reading</th>\n",
       "      <td>9776</td>\n",
       "      <td>9776</td>\n",
       "      <td>9776</td>\n",
       "    </tr>\n",
       "  </tbody>\n",
       "</table>\n",
       "</div>"
      ],
      "text/plain": [
       "                   tag_id  goodreads_book_id  count\n",
       "tag_name                                           \n",
       "to-read            9983    9983               9983 \n",
       "favorites          9881    9881               9881 \n",
       "owned              9856    9856               9856 \n",
       "books-i-own        9799    9799               9799 \n",
       "currently-reading  9776    9776               9776 "
      ]
     },
     "execution_count": 212,
     "metadata": {},
     "output_type": "execute_result"
    }
   ],
   "source": [
    "#Grouping books by tags\n",
    "merged_tags=tags.merge(book_tags,on='tag_id',how='inner')\n",
    "book_genre=merged_tags.groupby('tag_name').count()\n",
    "book_genre=book_genre.sort_values(by='count', ascending=False)\n",
    "book_genre.head()"
   ]
  },
  {
   "cell_type": "code",
   "execution_count": 213,
   "metadata": {},
   "outputs": [],
   "source": [
    "new_tags=book_genre[book_genre.index.isin(genres)]\n",
    "#new_tags.reset_index()"
   ]
  },
  {
   "cell_type": "code",
   "execution_count": 214,
   "metadata": {},
   "outputs": [
    {
     "data": {
      "image/png": "[encoded data removed]",
      "text/plain": [
       "<Figure size 1080x648 with 1 Axes>"
      ]
     },
     "metadata": {},
     "output_type": "display_data"
    }
   ],
   "source": [
    "plt.figure(figsize=(15,9))\n",
    "sns.barplot(x=\"count\", y=new_tags.index,   data=new_tags,palette=\"Blues_d\");\n"
   ]
  },
  {
   "cell_type": "markdown",
   "metadata": {},
   "source": [
    "Fiction seems to be the most popular while cookbook is the least popular."
   ]
  },
  {
   "cell_type": "code",
   "execution_count": 217,
   "metadata": {},
   "outputs": [
    {
     "ename": "TypeError",
     "evalue": "__init__() got an unexpected keyword argument 'background_color'",
     "output_type": "error",
     "traceback": [
      "\u001b[1;31m---------------------------------------------------------------------------\u001b[0m",
      "\u001b[1;31mTypeError\u001b[0m                                 Traceback (most recent call last)",
      "\u001b[1;32m<ipython-input-217-a7899e0bfa42>\u001b[0m in \u001b[0;36m<module>\u001b[1;34m\u001b[0m\n\u001b[0;32m      2\u001b[0m \u001b[0mtext\u001b[0m \u001b[1;33m=\u001b[0m \u001b[0mnew_tags\u001b[0m\u001b[1;33m.\u001b[0m\u001b[0mindex\u001b[0m\u001b[1;33m.\u001b[0m\u001b[0mvalues\u001b[0m\u001b[1;33m\u001b[0m\u001b[1;33m\u001b[0m\u001b[0m\n\u001b[0;32m      3\u001b[0m \u001b[0mwordcloud\u001b[0m \u001b[1;33m=\u001b[0m \u001b[0mWordCloud\u001b[0m\u001b[1;33m(\u001b[0m\u001b[1;33m)\u001b[0m\u001b[1;33m.\u001b[0m\u001b[0mgenerate\u001b[0m\u001b[1;33m(\u001b[0m\u001b[0mstr\u001b[0m\u001b[1;33m(\u001b[0m\u001b[0mtext\u001b[0m\u001b[1;33m)\u001b[0m\u001b[1;33m)\u001b[0m\u001b[1;33m\u001b[0m\u001b[1;33m\u001b[0m\u001b[0m\n\u001b[1;32m----> 4\u001b[1;33m \u001b[0mplt\u001b[0m\u001b[1;33m.\u001b[0m\u001b[0mfigure\u001b[0m\u001b[1;33m(\u001b[0m\u001b[0mfigsize\u001b[0m \u001b[1;33m=\u001b[0m \u001b[1;33m(\u001b[0m\u001b[1;36m8\u001b[0m\u001b[1;33m,\u001b[0m \u001b[1;36m8\u001b[0m\u001b[1;33m)\u001b[0m\u001b[1;33m,\u001b[0m \u001b[0mfacecolor\u001b[0m \u001b[1;33m=\u001b[0m \u001b[1;32mNone\u001b[0m\u001b[1;33m,\u001b[0m\u001b[0mbackground_color\u001b[0m\u001b[1;33m=\u001b[0m\u001b[1;34m\"white\"\u001b[0m\u001b[1;33m)\u001b[0m\u001b[1;33m\u001b[0m\u001b[1;33m\u001b[0m\u001b[0m\n\u001b[0m\u001b[0;32m      5\u001b[0m \u001b[0mplt\u001b[0m\u001b[1;33m.\u001b[0m\u001b[0mimshow\u001b[0m\u001b[1;33m(\u001b[0m\u001b[0mwordcloud\u001b[0m\u001b[1;33m)\u001b[0m\u001b[1;33m\u001b[0m\u001b[1;33m\u001b[0m\u001b[0m\n\u001b[0;32m      6\u001b[0m \u001b[0mplt\u001b[0m\u001b[1;33m.\u001b[0m\u001b[0maxis\u001b[0m\u001b[1;33m(\u001b[0m\u001b[1;34m\"off\"\u001b[0m\u001b[1;33m)\u001b[0m\u001b[1;33m\u001b[0m\u001b[1;33m\u001b[0m\u001b[0m\n",
      "\u001b[1;32m~\\AppData\\Local\\Continuum\\anaconda3\\lib\\site-packages\\matplotlib\\pyplot.py\u001b[0m in \u001b[0;36mfigure\u001b[1;34m(num, figsize, dpi, facecolor, edgecolor, frameon, FigureClass, clear, **kwargs)\u001b[0m\n\u001b[0;32m    537\u001b[0m                                         \u001b[0mframeon\u001b[0m\u001b[1;33m=\u001b[0m\u001b[0mframeon\u001b[0m\u001b[1;33m,\u001b[0m\u001b[1;33m\u001b[0m\u001b[1;33m\u001b[0m\u001b[0m\n\u001b[0;32m    538\u001b[0m                                         \u001b[0mFigureClass\u001b[0m\u001b[1;33m=\u001b[0m\u001b[0mFigureClass\u001b[0m\u001b[1;33m,\u001b[0m\u001b[1;33m\u001b[0m\u001b[1;33m\u001b[0m\u001b[0m\n\u001b[1;32m--> 539\u001b[1;33m                                         **kwargs)\n\u001b[0m\u001b[0;32m    540\u001b[0m \u001b[1;33m\u001b[0m\u001b[0m\n\u001b[0;32m    541\u001b[0m         \u001b[1;32mif\u001b[0m \u001b[0mfigLabel\u001b[0m\u001b[1;33m:\u001b[0m\u001b[1;33m\u001b[0m\u001b[1;33m\u001b[0m\u001b[0m\n",
      "\u001b[1;32m~\\AppData\\Local\\Continuum\\anaconda3\\lib\\site-packages\\matplotlib\\backend_bases.py\u001b[0m in \u001b[0;36mnew_figure_manager\u001b[1;34m(cls, num, *args, **kwargs)\u001b[0m\n\u001b[0;32m   3249\u001b[0m         \u001b[1;32mfrom\u001b[0m \u001b[0mmatplotlib\u001b[0m\u001b[1;33m.\u001b[0m\u001b[0mfigure\u001b[0m \u001b[1;32mimport\u001b[0m \u001b[0mFigure\u001b[0m\u001b[1;33m\u001b[0m\u001b[1;33m\u001b[0m\u001b[0m\n\u001b[0;32m   3250\u001b[0m         \u001b[0mfig_cls\u001b[0m \u001b[1;33m=\u001b[0m \u001b[0mkwargs\u001b[0m\u001b[1;33m.\u001b[0m\u001b[0mpop\u001b[0m\u001b[1;33m(\u001b[0m\u001b[1;34m'FigureClass'\u001b[0m\u001b[1;33m,\u001b[0m \u001b[0mFigure\u001b[0m\u001b[1;33m)\u001b[0m\u001b[1;33m\u001b[0m\u001b[1;33m\u001b[0m\u001b[0m\n\u001b[1;32m-> 3251\u001b[1;33m         \u001b[0mfig\u001b[0m \u001b[1;33m=\u001b[0m \u001b[0mfig_cls\u001b[0m\u001b[1;33m(\u001b[0m\u001b[1;33m*\u001b[0m\u001b[0margs\u001b[0m\u001b[1;33m,\u001b[0m \u001b[1;33m**\u001b[0m\u001b[0mkwargs\u001b[0m\u001b[1;33m)\u001b[0m\u001b[1;33m\u001b[0m\u001b[1;33m\u001b[0m\u001b[0m\n\u001b[0m\u001b[0;32m   3252\u001b[0m         \u001b[1;32mreturn\u001b[0m \u001b[0mcls\u001b[0m\u001b[1;33m.\u001b[0m\u001b[0mnew_figure_manager_given_figure\u001b[0m\u001b[1;33m(\u001b[0m\u001b[0mnum\u001b[0m\u001b[1;33m,\u001b[0m \u001b[0mfig\u001b[0m\u001b[1;33m)\u001b[0m\u001b[1;33m\u001b[0m\u001b[1;33m\u001b[0m\u001b[0m\n\u001b[0;32m   3253\u001b[0m \u001b[1;33m\u001b[0m\u001b[0m\n",
      "\u001b[1;31mTypeError\u001b[0m: __init__() got an unexpected keyword argument 'background_color'"
     ]
    }
   ],
   "source": [
    "#Generating a wordcloud of the popular words in genre\n",
    "text = new_tags.index.values \n",
    "wordcloud = WordCloud().generate(str(text))\n",
    "plt.figure(figsize = (8, 8), facecolor = None,background_color=\"white\")\n",
    "plt.imshow(wordcloud)\n",
    "plt.axis(\"off\")\n",
    "plt.show()"
   ]
  },
  {
   "cell_type": "markdown",
   "metadata": {},
   "source": [
    "## Recommendation system\n",
    "### 1.Content based"
   ]
  },
  {
   "cell_type": "code",
   "execution_count": 40,
   "metadata": {},
   "outputs": [],
   "source": [
    "fillnabooks= books.fillna('')\n",
    "def clean_data(x):\n",
    "        return str.lower(x.replace(\" \", \"\"))"
   ]
  },
  {
   "cell_type": "code",
   "execution_count": 41,
   "metadata": {},
   "outputs": [],
   "source": [
    "features=['original_title','authors','average_rating']\n",
    "fillednabooks=fillnabooks[features]"
   ]
  },
  {
   "cell_type": "code",
   "execution_count": 42,
   "metadata": {},
   "outputs": [
    {
     "data": {
      "text/plain": [
       "original_title    object\n",
       "authors           object\n",
       "average_rating    object\n",
       "dtype: object"
      ]
     },
     "execution_count": 42,
     "metadata": {},
     "output_type": "execute_result"
    }
   ],
   "source": [
    "fillednabooks = fillednabooks.astype(str)\n",
    "fillednabooks.dtypes"
   ]
  },
  {
   "cell_type": "code",
   "execution_count": 43,
   "metadata": {},
   "outputs": [
    {
     "data": {
      "text/html": [
       "<div>\n",
       "<style scoped>\n",
       "    .dataframe tbody tr th:only-of-type {\n",
       "        vertical-align: middle;\n",
       "    }\n",
       "\n",
       "    .dataframe tbody tr th {\n",
       "        vertical-align: top;\n",
       "    }\n",
       "\n",
       "    .dataframe thead th {\n",
       "        text-align: right;\n",
       "    }\n",
       "</style>\n",
       "<table border=\"1\" class=\"dataframe\">\n",
       "  <thead>\n",
       "    <tr style=\"text-align: right;\">\n",
       "      <th></th>\n",
       "      <th>original_title</th>\n",
       "      <th>authors</th>\n",
       "      <th>average_rating</th>\n",
       "    </tr>\n",
       "  </thead>\n",
       "  <tbody>\n",
       "    <tr>\n",
       "      <th>0</th>\n",
       "      <td>thehungergames</td>\n",
       "      <td>suzannecollins</td>\n",
       "      <td>4.34</td>\n",
       "    </tr>\n",
       "    <tr>\n",
       "      <th>1</th>\n",
       "      <td>harrypotterandthephilosopher'sstone</td>\n",
       "      <td>j.k.rowling,marygrandprã©</td>\n",
       "      <td>4.44</td>\n",
       "    </tr>\n",
       "    <tr>\n",
       "      <th>3</th>\n",
       "      <td>tokillamockingbird</td>\n",
       "      <td>harperlee</td>\n",
       "      <td>4.25</td>\n",
       "    </tr>\n",
       "    <tr>\n",
       "      <th>4</th>\n",
       "      <td>thegreatgatsby</td>\n",
       "      <td>f.scottfitzgerald</td>\n",
       "      <td>3.89</td>\n",
       "    </tr>\n",
       "    <tr>\n",
       "      <th>5</th>\n",
       "      <td>thefaultinourstars</td>\n",
       "      <td>johngreen</td>\n",
       "      <td>4.26</td>\n",
       "    </tr>\n",
       "  </tbody>\n",
       "</table>\n",
       "</div>"
      ],
      "text/plain": [
       "                        original_title                    authors  \\\n",
       "0  thehungergames                       suzannecollins              \n",
       "1  harrypotterandthephilosopher'sstone  j.k.rowling,marygrandprã©   \n",
       "3  tokillamockingbird                   harperlee                   \n",
       "4  thegreatgatsby                       f.scottfitzgerald           \n",
       "5  thefaultinourstars                   johngreen                   \n",
       "\n",
       "  average_rating  \n",
       "0  4.34           \n",
       "1  4.44           \n",
       "3  4.25           \n",
       "4  3.89           \n",
       "5  4.26           "
      ]
     },
     "execution_count": 43,
     "metadata": {},
     "output_type": "execute_result"
    }
   ],
   "source": [
    "for feature in features:\n",
    "    fillednabooks[feature] = fillednabooks[feature].apply(clean_data)\n",
    "    \n",
    "fillednabooks.head()"
   ]
  },
  {
   "cell_type": "code",
   "execution_count": 44,
   "metadata": {},
   "outputs": [],
   "source": [
    "def create_soup(x):\n",
    "    return x['original_title']+ ' ' + x['authors'] + ' ' + x['average_rating']"
   ]
  },
  {
   "cell_type": "code",
   "execution_count": 45,
   "metadata": {},
   "outputs": [
    {
     "data": {
      "text/html": [
       "<div>\n",
       "<style scoped>\n",
       "    .dataframe tbody tr th:only-of-type {\n",
       "        vertical-align: middle;\n",
       "    }\n",
       "\n",
       "    .dataframe tbody tr th {\n",
       "        vertical-align: top;\n",
       "    }\n",
       "\n",
       "    .dataframe thead th {\n",
       "        text-align: right;\n",
       "    }\n",
       "</style>\n",
       "<table border=\"1\" class=\"dataframe\">\n",
       "  <thead>\n",
       "    <tr style=\"text-align: right;\">\n",
       "      <th></th>\n",
       "      <th>original_title</th>\n",
       "      <th>authors</th>\n",
       "      <th>average_rating</th>\n",
       "      <th>soup</th>\n",
       "    </tr>\n",
       "  </thead>\n",
       "  <tbody>\n",
       "    <tr>\n",
       "      <th>0</th>\n",
       "      <td>thehungergames</td>\n",
       "      <td>suzannecollins</td>\n",
       "      <td>4.34</td>\n",
       "      <td>thehungergames suzannecollins 4.34</td>\n",
       "    </tr>\n",
       "    <tr>\n",
       "      <th>1</th>\n",
       "      <td>harrypotterandthephilosopher'sstone</td>\n",
       "      <td>j.k.rowling,marygrandprã©</td>\n",
       "      <td>4.44</td>\n",
       "      <td>harrypotterandthephilosopher'sstone j.k.rowling,marygrandprã© 4.44</td>\n",
       "    </tr>\n",
       "    <tr>\n",
       "      <th>3</th>\n",
       "      <td>tokillamockingbird</td>\n",
       "      <td>harperlee</td>\n",
       "      <td>4.25</td>\n",
       "      <td>tokillamockingbird harperlee 4.25</td>\n",
       "    </tr>\n",
       "    <tr>\n",
       "      <th>4</th>\n",
       "      <td>thegreatgatsby</td>\n",
       "      <td>f.scottfitzgerald</td>\n",
       "      <td>3.89</td>\n",
       "      <td>thegreatgatsby f.scottfitzgerald 3.89</td>\n",
       "    </tr>\n",
       "    <tr>\n",
       "      <th>5</th>\n",
       "      <td>thefaultinourstars</td>\n",
       "      <td>johngreen</td>\n",
       "      <td>4.26</td>\n",
       "      <td>thefaultinourstars johngreen 4.26</td>\n",
       "    </tr>\n",
       "    <tr>\n",
       "      <th>6</th>\n",
       "      <td>thehobbitorthereandbackagain</td>\n",
       "      <td>j.r.r.tolkien</td>\n",
       "      <td>4.25</td>\n",
       "      <td>thehobbitorthereandbackagain j.r.r.tolkien 4.25</td>\n",
       "    </tr>\n",
       "    <tr>\n",
       "      <th>7</th>\n",
       "      <td>thecatcherintherye</td>\n",
       "      <td>j.d.salinger</td>\n",
       "      <td>3.79</td>\n",
       "      <td>thecatcherintherye j.d.salinger 3.79</td>\n",
       "    </tr>\n",
       "    <tr>\n",
       "      <th>8</th>\n",
       "      <td>angels&amp;demons</td>\n",
       "      <td>danbrown</td>\n",
       "      <td>3.85</td>\n",
       "      <td>angels&amp;demons danbrown 3.85</td>\n",
       "    </tr>\n",
       "    <tr>\n",
       "      <th>9</th>\n",
       "      <td>prideandprejudice</td>\n",
       "      <td>janeausten</td>\n",
       "      <td>4.24</td>\n",
       "      <td>prideandprejudice janeausten 4.24</td>\n",
       "    </tr>\n",
       "    <tr>\n",
       "      <th>10</th>\n",
       "      <td>thekiterunner</td>\n",
       "      <td>khaledhosseini</td>\n",
       "      <td>4.26</td>\n",
       "      <td>thekiterunner khaledhosseini 4.26</td>\n",
       "    </tr>\n",
       "    <tr>\n",
       "      <th>11</th>\n",
       "      <td>divergent</td>\n",
       "      <td>veronicaroth</td>\n",
       "      <td>4.24</td>\n",
       "      <td>divergent veronicaroth 4.24</td>\n",
       "    </tr>\n",
       "    <tr>\n",
       "      <th>12</th>\n",
       "      <td>nineteeneighty-four</td>\n",
       "      <td>georgeorwell,erichfromm,celã¢lãster</td>\n",
       "      <td>4.14</td>\n",
       "      <td>nineteeneighty-four georgeorwell,erichfromm,celã¢lãster 4.14</td>\n",
       "    </tr>\n",
       "    <tr>\n",
       "      <th>13</th>\n",
       "      <td>animalfarm:afairystory</td>\n",
       "      <td>georgeorwell</td>\n",
       "      <td>3.87</td>\n",
       "      <td>animalfarm:afairystory georgeorwell 3.87</td>\n",
       "    </tr>\n",
       "    <tr>\n",
       "      <th>14</th>\n",
       "      <td>hetachterhuis:dagboekbrieven14juni1942-1augustus1944</td>\n",
       "      <td>annefrank,eleanorroosevelt,b.m.mooyaart-doubleday</td>\n",
       "      <td>4.1</td>\n",
       "      <td>hetachterhuis:dagboekbrieven14juni1942-1augustus1944 annefrank,eleanorroosevelt,b.m.mooyaart-doubleday 4.1</td>\n",
       "    </tr>\n",
       "    <tr>\n",
       "      <th>15</th>\n",
       "      <td>mã¤nsomhatarkvinnor</td>\n",
       "      <td>stieglarsson,regkeeland</td>\n",
       "      <td>4.11</td>\n",
       "      <td>mã¤nsomhatarkvinnor stieglarsson,regkeeland 4.11</td>\n",
       "    </tr>\n",
       "    <tr>\n",
       "      <th>16</th>\n",
       "      <td>catchingfire</td>\n",
       "      <td>suzannecollins</td>\n",
       "      <td>4.3</td>\n",
       "      <td>catchingfire suzannecollins 4.3</td>\n",
       "    </tr>\n",
       "    <tr>\n",
       "      <th>17</th>\n",
       "      <td>harrypotterandtheprisonerofazkaban</td>\n",
       "      <td>j.k.rowling,marygrandprã©,rufusbeck</td>\n",
       "      <td>4.53</td>\n",
       "      <td>harrypotterandtheprisonerofazkaban j.k.rowling,marygrandprã©,rufusbeck 4.53</td>\n",
       "    </tr>\n",
       "    <tr>\n",
       "      <th>18</th>\n",
       "      <td>thefellowshipofthering</td>\n",
       "      <td>j.r.r.tolkien</td>\n",
       "      <td>4.34</td>\n",
       "      <td>thefellowshipofthering j.r.r.tolkien 4.34</td>\n",
       "    </tr>\n",
       "    <tr>\n",
       "      <th>19</th>\n",
       "      <td>mockingjay</td>\n",
       "      <td>suzannecollins</td>\n",
       "      <td>4.03</td>\n",
       "      <td>mockingjay suzannecollins 4.03</td>\n",
       "    </tr>\n",
       "    <tr>\n",
       "      <th>20</th>\n",
       "      <td>harrypotterandtheorderofthephoenix</td>\n",
       "      <td>j.k.rowling,marygrandprã©</td>\n",
       "      <td>4.46</td>\n",
       "      <td>harrypotterandtheorderofthephoenix j.k.rowling,marygrandprã© 4.46</td>\n",
       "    </tr>\n",
       "    <tr>\n",
       "      <th>21</th>\n",
       "      <td>thelovelybones</td>\n",
       "      <td>alicesebold</td>\n",
       "      <td>3.77</td>\n",
       "      <td>thelovelybones alicesebold 3.77</td>\n",
       "    </tr>\n",
       "    <tr>\n",
       "      <th>22</th>\n",
       "      <td>harrypotterandthechamberofsecrets</td>\n",
       "      <td>j.k.rowling,marygrandprã©</td>\n",
       "      <td>4.37</td>\n",
       "      <td>harrypotterandthechamberofsecrets j.k.rowling,marygrandprã© 4.37</td>\n",
       "    </tr>\n",
       "    <tr>\n",
       "      <th>23</th>\n",
       "      <td>harrypotterandthegobletoffire</td>\n",
       "      <td>j.k.rowling,marygrandprã©</td>\n",
       "      <td>4.53</td>\n",
       "      <td>harrypotterandthegobletoffire j.k.rowling,marygrandprã© 4.53</td>\n",
       "    </tr>\n",
       "    <tr>\n",
       "      <th>24</th>\n",
       "      <td>harrypotterandthedeathlyhallows</td>\n",
       "      <td>j.k.rowling,marygrandprã©</td>\n",
       "      <td>4.61</td>\n",
       "      <td>harrypotterandthedeathlyhallows j.k.rowling,marygrandprã© 4.61</td>\n",
       "    </tr>\n",
       "    <tr>\n",
       "      <th>25</th>\n",
       "      <td>thedavincicode</td>\n",
       "      <td>danbrown</td>\n",
       "      <td>3.79</td>\n",
       "      <td>thedavincicode danbrown 3.79</td>\n",
       "    </tr>\n",
       "    <tr>\n",
       "      <th>26</th>\n",
       "      <td>harrypotterandthehalf-bloodprince</td>\n",
       "      <td>j.k.rowling,marygrandprã©</td>\n",
       "      <td>4.54</td>\n",
       "      <td>harrypotterandthehalf-bloodprince j.k.rowling,marygrandprã© 4.54</td>\n",
       "    </tr>\n",
       "    <tr>\n",
       "      <th>27</th>\n",
       "      <td>lordoftheflies</td>\n",
       "      <td>williamgolding</td>\n",
       "      <td>3.64</td>\n",
       "      <td>lordoftheflies williamgolding 3.64</td>\n",
       "    </tr>\n",
       "    <tr>\n",
       "      <th>28</th>\n",
       "      <td>anexcellentconceitedtragedieofromeoandjuliet</td>\n",
       "      <td>williamshakespeare,robertjackson</td>\n",
       "      <td>3.73</td>\n",
       "      <td>anexcellentconceitedtragedieofromeoandjuliet williamshakespeare,robertjackson 3.73</td>\n",
       "    </tr>\n",
       "    <tr>\n",
       "      <th>29</th>\n",
       "      <td>gonegirl</td>\n",
       "      <td>gillianflynn</td>\n",
       "      <td>4.03</td>\n",
       "      <td>gonegirl gillianflynn 4.03</td>\n",
       "    </tr>\n",
       "    <tr>\n",
       "      <th>30</th>\n",
       "      <td>thehelp</td>\n",
       "      <td>kathrynstockett</td>\n",
       "      <td>4.45</td>\n",
       "      <td>thehelp kathrynstockett 4.45</td>\n",
       "    </tr>\n",
       "    <tr>\n",
       "      <th>...</th>\n",
       "      <td>...</td>\n",
       "      <td>...</td>\n",
       "      <td>...</td>\n",
       "      <td>...</td>\n",
       "    </tr>\n",
       "    <tr>\n",
       "      <th>9968</th>\n",
       "      <td>darmmitcharme</td>\n",
       "      <td>giuliaenders,jillenders</td>\n",
       "      <td>3.99</td>\n",
       "      <td>darmmitcharme giuliaenders,jillenders 3.99</td>\n",
       "    </tr>\n",
       "    <tr>\n",
       "      <th>9969</th>\n",
       "      <td>thevirgincure</td>\n",
       "      <td>amimckay</td>\n",
       "      <td>3.74</td>\n",
       "      <td>thevirgincure amimckay 3.74</td>\n",
       "    </tr>\n",
       "    <tr>\n",
       "      <th>9971</th>\n",
       "      <td>bagombosnuffbox</td>\n",
       "      <td>kurtvonnegutjr.</td>\n",
       "      <td>3.72</td>\n",
       "      <td>bagombosnuffbox kurtvonnegutjr. 3.72</td>\n",
       "    </tr>\n",
       "    <tr>\n",
       "      <th>9972</th>\n",
       "      <td>thesevenprinciplesformakingmarriagework:apracticalguidefromthecountry'sforemostrelationshipexpert</td>\n",
       "      <td>johnm.gottman,nansilver</td>\n",
       "      <td>4.19</td>\n",
       "      <td>thesevenprinciplesformakingmarriagework:apracticalguidefromthecountry'sforemostrelationshipexpert johnm.gottman,nansilver 4.19</td>\n",
       "    </tr>\n",
       "    <tr>\n",
       "      <th>9973</th>\n",
       "      <td>anastasiakrupnik</td>\n",
       "      <td>loislowry</td>\n",
       "      <td>3.89</td>\n",
       "      <td>anastasiakrupnik loislowry 3.89</td>\n",
       "    </tr>\n",
       "    <tr>\n",
       "      <th>9974</th>\n",
       "      <td>thekingbeyondthegate</td>\n",
       "      <td>davidgemmell</td>\n",
       "      <td>4.12</td>\n",
       "      <td>thekingbeyondthegate davidgemmell 4.12</td>\n",
       "    </tr>\n",
       "    <tr>\n",
       "      <th>9976</th>\n",
       "      <td>ladderofyears</td>\n",
       "      <td>annetyler</td>\n",
       "      <td>3.72</td>\n",
       "      <td>ladderofyears annetyler 3.72</td>\n",
       "    </tr>\n",
       "    <tr>\n",
       "      <th>9977</th>\n",
       "      <td>åå¾ã®æ³èª[gogonoeikå]</td>\n",
       "      <td>yukiomishima,johnnathan</td>\n",
       "      <td>3.89</td>\n",
       "      <td>åå¾ã®æ³èª[gogonoeikå] yukiomishima,johnnathan 3.89</td>\n",
       "    </tr>\n",
       "    <tr>\n",
       "      <th>9978</th>\n",
       "      <td>whenthelionfeeds</td>\n",
       "      <td>wilbursmith</td>\n",
       "      <td>4.16</td>\n",
       "      <td>whenthelionfeeds wilbursmith 4.16</td>\n",
       "    </tr>\n",
       "    <tr>\n",
       "      <th>9979</th>\n",
       "      <td>themeasureofalady</td>\n",
       "      <td>deeannegist</td>\n",
       "      <td>3.94</td>\n",
       "      <td>themeasureofalady deeannegist 3.94</td>\n",
       "    </tr>\n",
       "    <tr>\n",
       "      <th>9980</th>\n",
       "      <td>thetwelfthcard</td>\n",
       "      <td>jefferydeaver</td>\n",
       "      <td>3.98</td>\n",
       "      <td>thetwelfthcard jefferydeaver 3.98</td>\n",
       "    </tr>\n",
       "    <tr>\n",
       "      <th>9981</th>\n",
       "      <td>feverborn</td>\n",
       "      <td>karenmariemoning</td>\n",
       "      <td>4.18</td>\n",
       "      <td>feverborn karenmariemoning 4.18</td>\n",
       "    </tr>\n",
       "    <tr>\n",
       "      <th>9982</th>\n",
       "      <td>éã®ç¥é­å¸«2</td>\n",
       "      <td>kazuekato</td>\n",
       "      <td>4.48</td>\n",
       "      <td>éã®ç¥é­å¸«2 kazuekato 4.48</td>\n",
       "    </tr>\n",
       "    <tr>\n",
       "      <th>9983</th>\n",
       "      <td>thesnowleopard</td>\n",
       "      <td>petermatthiessen</td>\n",
       "      <td>4.12</td>\n",
       "      <td>thesnowleopard petermatthiessen 4.12</td>\n",
       "    </tr>\n",
       "    <tr>\n",
       "      <th>9984</th>\n",
       "      <td>tomclancy'snetforce:breakingpoint</td>\n",
       "      <td>steveperry,tomclancy,stevepieczenik</td>\n",
       "      <td>3.69</td>\n",
       "      <td>tomclancy'snetforce:breakingpoint steveperry,tomclancy,stevepieczenik 3.69</td>\n",
       "    </tr>\n",
       "    <tr>\n",
       "      <th>9985</th>\n",
       "      <td>nightlight:arestorationnovel</td>\n",
       "      <td>terriblackstock</td>\n",
       "      <td>4.35</td>\n",
       "      <td>nightlight:arestorationnovel terriblackstock 4.35</td>\n",
       "    </tr>\n",
       "    <tr>\n",
       "      <th>9986</th>\n",
       "      <td>chasingthenight</td>\n",
       "      <td>irisjohansen</td>\n",
       "      <td>4.12</td>\n",
       "      <td>chasingthenight irisjohansen 4.12</td>\n",
       "    </tr>\n",
       "    <tr>\n",
       "      <th>9987</th>\n",
       "      <td>atheoryofjustice</td>\n",
       "      <td>johnrawls</td>\n",
       "      <td>3.91</td>\n",
       "      <td>atheoryofjustice johnrawls 3.91</td>\n",
       "    </tr>\n",
       "    <tr>\n",
       "      <th>9988</th>\n",
       "      <td>outofthedark</td>\n",
       "      <td>quinnloftis</td>\n",
       "      <td>4.5</td>\n",
       "      <td>outofthedark quinnloftis 4.5</td>\n",
       "    </tr>\n",
       "    <tr>\n",
       "      <th>9989</th>\n",
       "      <td>themambokingsplaysongsoflove</td>\n",
       "      <td>oscarhijuelos</td>\n",
       "      <td>3.68</td>\n",
       "      <td>themambokingsplaysongsoflove oscarhijuelos 3.68</td>\n",
       "    </tr>\n",
       "    <tr>\n",
       "      <th>9990</th>\n",
       "      <td>thefamishedroad</td>\n",
       "      <td>benokri</td>\n",
       "      <td>3.73</td>\n",
       "      <td>thefamishedroad benokri 3.73</td>\n",
       "    </tr>\n",
       "    <tr>\n",
       "      <th>9991</th>\n",
       "      <td>theredknight</td>\n",
       "      <td>milescameron</td>\n",
       "      <td>4.12</td>\n",
       "      <td>theredknight milescameron 4.12</td>\n",
       "    </tr>\n",
       "    <tr>\n",
       "      <th>9992</th>\n",
       "      <td>thetime-traveller'sguidetomedievalengland:ahandbookforvisitorstothefourteenthcentury</td>\n",
       "      <td>ianmortimer</td>\n",
       "      <td>3.99</td>\n",
       "      <td>thetime-traveller'sguidetomedievalengland:ahandbookforvisitorstothefourteenthcentury ianmortimer 3.99</td>\n",
       "    </tr>\n",
       "    <tr>\n",
       "      <th>9993</th>\n",
       "      <td>theeverafterwar(thesistersgrimm,#7)</td>\n",
       "      <td>michaelbuckley,peterferguson</td>\n",
       "      <td>4.32</td>\n",
       "      <td>theeverafterwar(thesistersgrimm,#7) michaelbuckley,peterferguson 4.32</td>\n",
       "    </tr>\n",
       "    <tr>\n",
       "      <th>9994</th>\n",
       "      <td>billybudd,sailor</td>\n",
       "      <td>hermanmelville</td>\n",
       "      <td>3.09</td>\n",
       "      <td>billybudd,sailor hermanmelville 3.09</td>\n",
       "    </tr>\n",
       "    <tr>\n",
       "      <th>9995</th>\n",
       "      <td>bayoumoon</td>\n",
       "      <td>ilonaandrews</td>\n",
       "      <td>4.09</td>\n",
       "      <td>bayoumoon ilonaandrews 4.09</td>\n",
       "    </tr>\n",
       "    <tr>\n",
       "      <th>9996</th>\n",
       "      <td>meansofascent</td>\n",
       "      <td>roberta.caro</td>\n",
       "      <td>4.25</td>\n",
       "      <td>meansofascent roberta.caro 4.25</td>\n",
       "    </tr>\n",
       "    <tr>\n",
       "      <th>9997</th>\n",
       "      <td>themauritiuscommand</td>\n",
       "      <td>patricko'brian</td>\n",
       "      <td>4.35</td>\n",
       "      <td>themauritiuscommand patricko'brian 4.35</td>\n",
       "    </tr>\n",
       "    <tr>\n",
       "      <th>9998</th>\n",
       "      <td>cinderellaatemydaughter:dispatchesfromthefrontlinesofthenewgirlie-girlculture</td>\n",
       "      <td>peggyorenstein</td>\n",
       "      <td>3.65</td>\n",
       "      <td>cinderellaatemydaughter:dispatchesfromthefrontlinesofthenewgirlie-girlculture peggyorenstein 3.65</td>\n",
       "    </tr>\n",
       "    <tr>\n",
       "      <th>9999</th>\n",
       "      <td>thefirstworldwar</td>\n",
       "      <td>johnkeegan</td>\n",
       "      <td>4.0</td>\n",
       "      <td>thefirstworldwar johnkeegan 4.0</td>\n",
       "    </tr>\n",
       "  </tbody>\n",
       "</table>\n",
       "<p>9151 rows × 4 columns</p>\n",
       "</div>"
      ],
      "text/plain": [
       "                                                                                         original_title  \\\n",
       "0     thehungergames                                                                                      \n",
       "1     harrypotterandthephilosopher'sstone                                                                 \n",
       "3     tokillamockingbird                                                                                  \n",
       "4     thegreatgatsby                                                                                      \n",
       "5     thefaultinourstars                                                                                  \n",
       "6     thehobbitorthereandbackagain                                                                        \n",
       "7     thecatcherintherye                                                                                  \n",
       "8     angels&demons                                                                                       \n",
       "9     prideandprejudice                                                                                   \n",
       "10    thekiterunner                                                                                       \n",
       "11    divergent                                                                                           \n",
       "12    nineteeneighty-four                                                                                 \n",
       "13    animalfarm:afairystory                                                                              \n",
       "14    hetachterhuis:dagboekbrieven14juni1942-1augustus1944                                                \n",
       "15    mã¤nsomhatarkvinnor                                                                                 \n",
       "16    catchingfire                                                                                        \n",
       "17    harrypotterandtheprisonerofazkaban                                                                  \n",
       "18    thefellowshipofthering                                                                              \n",
       "19    mockingjay                                                                                          \n",
       "20    harrypotterandtheorderofthephoenix                                                                  \n",
       "21    thelovelybones                                                                                      \n",
       "22    harrypotterandthechamberofsecrets                                                                   \n",
       "23    harrypotterandthegobletoffire                                                                       \n",
       "24    harrypotterandthedeathlyhallows                                                                     \n",
       "25    thedavincicode                                                                                      \n",
       "26    harrypotterandthehalf-bloodprince                                                                   \n",
       "27    lordoftheflies                                                                                      \n",
       "28    anexcellentconceitedtragedieofromeoandjuliet                                                        \n",
       "29    gonegirl                                                                                            \n",
       "30    thehelp                                                                                             \n",
       "...       ...                                                                                             \n",
       "9968  darmmitcharme                                                                                       \n",
       "9969  thevirgincure                                                                                       \n",
       "9971  bagombosnuffbox                                                                                     \n",
       "9972  thesevenprinciplesformakingmarriagework:apracticalguidefromthecountry'sforemostrelationshipexpert   \n",
       "9973  anastasiakrupnik                                                                                    \n",
       "9974  thekingbeyondthegate                                                                                \n",
       "9976  ladderofyears                                                                                       \n",
       "9977  åå¾ã®æ³èª[gogonoeikå]                                                                        \n",
       "9978  whenthelionfeeds                                                                                    \n",
       "9979  themeasureofalady                                                                                   \n",
       "9980  thetwelfthcard                                                                                      \n",
       "9981  feverborn                                                                                           \n",
       "9982  éã®ç¥é­å¸«2                                                                                    \n",
       "9983  thesnowleopard                                                                                      \n",
       "9984  tomclancy'snetforce:breakingpoint                                                                   \n",
       "9985  nightlight:arestorationnovel                                                                        \n",
       "9986  chasingthenight                                                                                     \n",
       "9987  atheoryofjustice                                                                                    \n",
       "9988  outofthedark                                                                                        \n",
       "9989  themambokingsplaysongsoflove                                                                        \n",
       "9990  thefamishedroad                                                                                     \n",
       "9991  theredknight                                                                                        \n",
       "9992  thetime-traveller'sguidetomedievalengland:ahandbookforvisitorstothefourteenthcentury                \n",
       "9993  theeverafterwar(thesistersgrimm,#7)                                                                 \n",
       "9994  billybudd,sailor                                                                                    \n",
       "9995  bayoumoon                                                                                           \n",
       "9996  meansofascent                                                                                       \n",
       "9997  themauritiuscommand                                                                                 \n",
       "9998  cinderellaatemydaughter:dispatchesfromthefrontlinesofthenewgirlie-girlculture                       \n",
       "9999  thefirstworldwar                                                                                    \n",
       "\n",
       "                                                authors average_rating  \\\n",
       "0     suzannecollins                                     4.34            \n",
       "1     j.k.rowling,marygrandprã©                          4.44            \n",
       "3     harperlee                                          4.25            \n",
       "4     f.scottfitzgerald                                  3.89            \n",
       "5     johngreen                                          4.26            \n",
       "6     j.r.r.tolkien                                      4.25            \n",
       "7     j.d.salinger                                       3.79            \n",
       "8     danbrown                                           3.85            \n",
       "9     janeausten                                         4.24            \n",
       "10    khaledhosseini                                     4.26            \n",
       "11    veronicaroth                                       4.24            \n",
       "12    georgeorwell,erichfromm,celã¢lãster               4.14            \n",
       "13    georgeorwell                                       3.87            \n",
       "14    annefrank,eleanorroosevelt,b.m.mooyaart-doubleday  4.1             \n",
       "15    stieglarsson,regkeeland                            4.11            \n",
       "16    suzannecollins                                     4.3             \n",
       "17    j.k.rowling,marygrandprã©,rufusbeck                4.53            \n",
       "18    j.r.r.tolkien                                      4.34            \n",
       "19    suzannecollins                                     4.03            \n",
       "20    j.k.rowling,marygrandprã©                          4.46            \n",
       "21    alicesebold                                        3.77            \n",
       "22    j.k.rowling,marygrandprã©                          4.37            \n",
       "23    j.k.rowling,marygrandprã©                          4.53            \n",
       "24    j.k.rowling,marygrandprã©                          4.61            \n",
       "25    danbrown                                           3.79            \n",
       "26    j.k.rowling,marygrandprã©                          4.54            \n",
       "27    williamgolding                                     3.64            \n",
       "28    williamshakespeare,robertjackson                   3.73            \n",
       "29    gillianflynn                                       4.03            \n",
       "30    kathrynstockett                                    4.45            \n",
       "...               ...                                     ...            \n",
       "9968  giuliaenders,jillenders                            3.99            \n",
       "9969  amimckay                                           3.74            \n",
       "9971  kurtvonnegutjr.                                    3.72            \n",
       "9972  johnm.gottman,nansilver                            4.19            \n",
       "9973  loislowry                                          3.89            \n",
       "9974  davidgemmell                                       4.12            \n",
       "9976  annetyler                                          3.72            \n",
       "9977  yukiomishima,johnnathan                            3.89            \n",
       "9978  wilbursmith                                        4.16            \n",
       "9979  deeannegist                                        3.94            \n",
       "9980  jefferydeaver                                      3.98            \n",
       "9981  karenmariemoning                                   4.18            \n",
       "9982  kazuekato                                          4.48            \n",
       "9983  petermatthiessen                                   4.12            \n",
       "9984  steveperry,tomclancy,stevepieczenik                3.69            \n",
       "9985  terriblackstock                                    4.35            \n",
       "9986  irisjohansen                                       4.12            \n",
       "9987  johnrawls                                          3.91            \n",
       "9988  quinnloftis                                        4.5             \n",
       "9989  oscarhijuelos                                      3.68            \n",
       "9990  benokri                                            3.73            \n",
       "9991  milescameron                                       4.12            \n",
       "9992  ianmortimer                                        3.99            \n",
       "9993  michaelbuckley,peterferguson                       4.32            \n",
       "9994  hermanmelville                                     3.09            \n",
       "9995  ilonaandrews                                       4.09            \n",
       "9996  roberta.caro                                       4.25            \n",
       "9997  patricko'brian                                     4.35            \n",
       "9998  peggyorenstein                                     3.65            \n",
       "9999  johnkeegan                                         4.0             \n",
       "\n",
       "                                                                                                                                soup  \n",
       "0     thehungergames suzannecollins 4.34                                                                                              \n",
       "1     harrypotterandthephilosopher'sstone j.k.rowling,marygrandprã© 4.44                                                              \n",
       "3     tokillamockingbird harperlee 4.25                                                                                               \n",
       "4     thegreatgatsby f.scottfitzgerald 3.89                                                                                           \n",
       "5     thefaultinourstars johngreen 4.26                                                                                               \n",
       "6     thehobbitorthereandbackagain j.r.r.tolkien 4.25                                                                                 \n",
       "7     thecatcherintherye j.d.salinger 3.79                                                                                            \n",
       "8     angels&demons danbrown 3.85                                                                                                     \n",
       "9     prideandprejudice janeausten 4.24                                                                                               \n",
       "10    thekiterunner khaledhosseini 4.26                                                                                               \n",
       "11    divergent veronicaroth 4.24                                                                                                     \n",
       "12    nineteeneighty-four georgeorwell,erichfromm,celã¢lãster 4.14                                                                   \n",
       "13    animalfarm:afairystory georgeorwell 3.87                                                                                        \n",
       "14    hetachterhuis:dagboekbrieven14juni1942-1augustus1944 annefrank,eleanorroosevelt,b.m.mooyaart-doubleday 4.1                      \n",
       "15    mã¤nsomhatarkvinnor stieglarsson,regkeeland 4.11                                                                                \n",
       "16    catchingfire suzannecollins 4.3                                                                                                 \n",
       "17    harrypotterandtheprisonerofazkaban j.k.rowling,marygrandprã©,rufusbeck 4.53                                                     \n",
       "18    thefellowshipofthering j.r.r.tolkien 4.34                                                                                       \n",
       "19    mockingjay suzannecollins 4.03                                                                                                  \n",
       "20    harrypotterandtheorderofthephoenix j.k.rowling,marygrandprã© 4.46                                                               \n",
       "21    thelovelybones alicesebold 3.77                                                                                                 \n",
       "22    harrypotterandthechamberofsecrets j.k.rowling,marygrandprã© 4.37                                                                \n",
       "23    harrypotterandthegobletoffire j.k.rowling,marygrandprã© 4.53                                                                    \n",
       "24    harrypotterandthedeathlyhallows j.k.rowling,marygrandprã© 4.61                                                                  \n",
       "25    thedavincicode danbrown 3.79                                                                                                    \n",
       "26    harrypotterandthehalf-bloodprince j.k.rowling,marygrandprã© 4.54                                                                \n",
       "27    lordoftheflies williamgolding 3.64                                                                                              \n",
       "28    anexcellentconceitedtragedieofromeoandjuliet williamshakespeare,robertjackson 3.73                                              \n",
       "29    gonegirl gillianflynn 4.03                                                                                                      \n",
       "30    thehelp kathrynstockett 4.45                                                                                                    \n",
       "...                            ...                                                                                                    \n",
       "9968  darmmitcharme giuliaenders,jillenders 3.99                                                                                      \n",
       "9969  thevirgincure amimckay 3.74                                                                                                     \n",
       "9971  bagombosnuffbox kurtvonnegutjr. 3.72                                                                                            \n",
       "9972  thesevenprinciplesformakingmarriagework:apracticalguidefromthecountry'sforemostrelationshipexpert johnm.gottman,nansilver 4.19  \n",
       "9973  anastasiakrupnik loislowry 3.89                                                                                                 \n",
       "9974  thekingbeyondthegate davidgemmell 4.12                                                                                          \n",
       "9976  ladderofyears annetyler 3.72                                                                                                    \n",
       "9977  åå¾ã®æ³èª[gogonoeikå] yukiomishima,johnnathan 3.89                                                                       \n",
       "9978  whenthelionfeeds wilbursmith 4.16                                                                                               \n",
       "9979  themeasureofalady deeannegist 3.94                                                                                              \n",
       "9980  thetwelfthcard jefferydeaver 3.98                                                                                               \n",
       "9981  feverborn karenmariemoning 4.18                                                                                                 \n",
       "9982  éã®ç¥é­å¸«2 kazuekato 4.48                                                                                                 \n",
       "9983  thesnowleopard petermatthiessen 4.12                                                                                            \n",
       "9984  tomclancy'snetforce:breakingpoint steveperry,tomclancy,stevepieczenik 3.69                                                      \n",
       "9985  nightlight:arestorationnovel terriblackstock 4.35                                                                               \n",
       "9986  chasingthenight irisjohansen 4.12                                                                                               \n",
       "9987  atheoryofjustice johnrawls 3.91                                                                                                 \n",
       "9988  outofthedark quinnloftis 4.5                                                                                                    \n",
       "9989  themambokingsplaysongsoflove oscarhijuelos 3.68                                                                                 \n",
       "9990  thefamishedroad benokri 3.73                                                                                                    \n",
       "9991  theredknight milescameron 4.12                                                                                                  \n",
       "9992  thetime-traveller'sguidetomedievalengland:ahandbookforvisitorstothefourteenthcentury ianmortimer 3.99                           \n",
       "9993  theeverafterwar(thesistersgrimm,#7) michaelbuckley,peterferguson 4.32                                                           \n",
       "9994  billybudd,sailor hermanmelville 3.09                                                                                            \n",
       "9995  bayoumoon ilonaandrews 4.09                                                                                                     \n",
       "9996  meansofascent roberta.caro 4.25                                                                                                 \n",
       "9997  themauritiuscommand patricko'brian 4.35                                                                                         \n",
       "9998  cinderellaatemydaughter:dispatchesfromthefrontlinesofthenewgirlie-girlculture peggyorenstein 3.65                               \n",
       "9999  thefirstworldwar johnkeegan 4.0                                                                                                 \n",
       "\n",
       "[9151 rows x 4 columns]"
      ]
     },
     "execution_count": 45,
     "metadata": {},
     "output_type": "execute_result"
    }
   ],
   "source": [
    "fillednabooks['soup'] = fillednabooks.apply(create_soup, axis=1)\n",
    "fillednabooks"
   ]
  },
  {
   "cell_type": "code",
   "execution_count": 46,
   "metadata": {},
   "outputs": [],
   "source": [
    "\n",
    "\n",
    "count = CountVectorizer(stop_words='english')\n",
    "count_matrix = count.fit_transform(fillednabooks['soup'])\n",
    "\n",
    "cosine_sim2 = cosine_similarity(count_matrix, count_matrix)\n"
   ]
  },
  {
   "cell_type": "code",
   "execution_count": 47,
   "metadata": {},
   "outputs": [],
   "source": [
    "#from pandas import DataFrame\n",
    "#count_matrix[:,1]\n",
    "#print(DataFrame(count_matrix[0,:].A, columns=count.get_feature_names()).to_string())"
   ]
  },
  {
   "cell_type": "code",
   "execution_count": 48,
   "metadata": {},
   "outputs": [
    {
     "data": {
      "text/plain": [
       "original_title\n",
       "thehungergames                                                                                       0   \n",
       "harrypotterandthephilosopher'sstone                                                                  1   \n",
       "tokillamockingbird                                                                                   2   \n",
       "thegreatgatsby                                                                                       3   \n",
       "thefaultinourstars                                                                                   4   \n",
       "thehobbitorthereandbackagain                                                                         5   \n",
       "thecatcherintherye                                                                                   6   \n",
       "angels&demons                                                                                        7   \n",
       "prideandprejudice                                                                                    8   \n",
       "thekiterunner                                                                                        9   \n",
       "divergent                                                                                            10  \n",
       "nineteeneighty-four                                                                                  11  \n",
       "animalfarm:afairystory                                                                               12  \n",
       "hetachterhuis:dagboekbrieven14juni1942-1augustus1944                                                 13  \n",
       "mã¤nsomhatarkvinnor                                                                                  14  \n",
       "catchingfire                                                                                         15  \n",
       "harrypotterandtheprisonerofazkaban                                                                   16  \n",
       "thefellowshipofthering                                                                               17  \n",
       "mockingjay                                                                                           18  \n",
       "harrypotterandtheorderofthephoenix                                                                   19  \n",
       "thelovelybones                                                                                       20  \n",
       "harrypotterandthechamberofsecrets                                                                    21  \n",
       "harrypotterandthegobletoffire                                                                        22  \n",
       "harrypotterandthedeathlyhallows                                                                      23  \n",
       "thedavincicode                                                                                       24  \n",
       "harrypotterandthehalf-bloodprince                                                                    25  \n",
       "lordoftheflies                                                                                       26  \n",
       "anexcellentconceitedtragedieofromeoandjuliet                                                         27  \n",
       "gonegirl                                                                                             28  \n",
       "thehelp                                                                                              29  \n",
       "                                                                                                     ..  \n",
       "darmmitcharme                                                                                        9121\n",
       "thevirgincure                                                                                        9122\n",
       "bagombosnuffbox                                                                                      9123\n",
       "thesevenprinciplesformakingmarriagework:apracticalguidefromthecountry'sforemostrelationshipexpert    9124\n",
       "anastasiakrupnik                                                                                     9125\n",
       "thekingbeyondthegate                                                                                 9126\n",
       "ladderofyears                                                                                        9127\n",
       "åå¾ã®æ³èª[gogonoeikå]                                                                         9128\n",
       "whenthelionfeeds                                                                                     9129\n",
       "themeasureofalady                                                                                    9130\n",
       "thetwelfthcard                                                                                       9131\n",
       "feverborn                                                                                            9132\n",
       "éã®ç¥é­å¸«2                                                                                     9133\n",
       "thesnowleopard                                                                                       9134\n",
       "tomclancy'snetforce:breakingpoint                                                                    9135\n",
       "nightlight:arestorationnovel                                                                         9136\n",
       "chasingthenight                                                                                      9137\n",
       "atheoryofjustice                                                                                     9138\n",
       "outofthedark                                                                                         9139\n",
       "themambokingsplaysongsoflove                                                                         9140\n",
       "thefamishedroad                                                                                      9141\n",
       "theredknight                                                                                         9142\n",
       "thetime-traveller'sguidetomedievalengland:ahandbookforvisitorstothefourteenthcentury                 9143\n",
       "theeverafterwar(thesistersgrimm,#7)                                                                  9144\n",
       "billybudd,sailor                                                                                     9145\n",
       "bayoumoon                                                                                            9146\n",
       "meansofascent                                                                                        9147\n",
       "themauritiuscommand                                                                                  9148\n",
       "cinderellaatemydaughter:dispatchesfromthefrontlinesofthenewgirlie-girlculture                        9149\n",
       "thefirstworldwar                                                                                     9150\n",
       "Length: 9151, dtype: int64"
      ]
     },
     "execution_count": 48,
     "metadata": {},
     "output_type": "execute_result"
    }
   ],
   "source": [
    "fillednabooks=fillednabooks.reset_index()\n",
    "indices = pd.Series(fillednabooks.index, index=fillednabooks['original_title'])\n",
    "indices"
   ]
  },
  {
   "cell_type": "code",
   "execution_count": 49,
   "metadata": {},
   "outputs": [],
   "source": [
    "def get_recommendations_new(title, cosine_sim=cosine_sim2):\n",
    "    title=title.replace(' ','').lower()\n",
    "    idx = indices[title]\n",
    "\n",
    "    # Get the pairwsie similarity scores of all movies with that movie\n",
    "    sim_scores = list(enumerate(cosine_sim[idx]))\n",
    "\n",
    "    # Sort the movies based on the similarity scores\n",
    "    sim_scores = sorted(sim_scores, key=lambda x: x[1], reverse=True)\n",
    "\n",
    "    # Get the scores of the 10 most similar movies\n",
    "    sim_scores = sim_scores[1:11]\n",
    "\n",
    "    # Get the movie indices\n",
    "    movie_indices = [i[0] for i in sim_scores]\n",
    "\n",
    "    # Return the top 10 most similar movies\n",
    "    return books['original_title'].iloc[movie_indices]"
   ]
  },
  {
   "cell_type": "code",
   "execution_count": 50,
   "metadata": {},
   "outputs": [
    {
     "data": {
      "text/html": [
       "<div>\n",
       "<style scoped>\n",
       "    .dataframe tbody tr th:only-of-type {\n",
       "        vertical-align: middle;\n",
       "    }\n",
       "\n",
       "    .dataframe tbody tr th {\n",
       "        vertical-align: top;\n",
       "    }\n",
       "\n",
       "    .dataframe thead th {\n",
       "        text-align: right;\n",
       "    }\n",
       "</style>\n",
       "<table border=\"1\" class=\"dataframe\">\n",
       "  <thead>\n",
       "    <tr style=\"text-align: right;\">\n",
       "      <th></th>\n",
       "      <th>original_title</th>\n",
       "    </tr>\n",
       "  </thead>\n",
       "  <tbody>\n",
       "    <tr>\n",
       "      <th>7408</th>\n",
       "      <td>The Short Stories of F. Scott Fitzgerald</td>\n",
       "    </tr>\n",
       "    <tr>\n",
       "      <th>440</th>\n",
       "      <td>Under the Dome</td>\n",
       "    </tr>\n",
       "    <tr>\n",
       "      <th>473</th>\n",
       "      <td>The God Delusion</td>\n",
       "    </tr>\n",
       "    <tr>\n",
       "      <th>525</th>\n",
       "      <td>Darkly Dreaming Dexter</td>\n",
       "    </tr>\n",
       "    <tr>\n",
       "      <th>599</th>\n",
       "      <td>Torment</td>\n",
       "    </tr>\n",
       "    <tr>\n",
       "      <th>663</th>\n",
       "      <td>Breakfast at Tiffany's</td>\n",
       "    </tr>\n",
       "    <tr>\n",
       "      <th>713</th>\n",
       "      <td>The Tragedie of King Lear</td>\n",
       "    </tr>\n",
       "    <tr>\n",
       "      <th>835</th>\n",
       "      <td>The Unlikely Pilgrimage of Harold Fry</td>\n",
       "    </tr>\n",
       "    <tr>\n",
       "      <th>944</th>\n",
       "      <td>Passion</td>\n",
       "    </tr>\n",
       "    <tr>\n",
       "      <th>962</th>\n",
       "      <td>The Partner</td>\n",
       "    </tr>\n",
       "  </tbody>\n",
       "</table>\n",
       "</div>"
      ],
      "text/plain": [
       "                                original_title\n",
       "7408  The Short Stories of F. Scott Fitzgerald\n",
       "440   Under the Dome                          \n",
       "473   The God Delusion                        \n",
       "525   Darkly Dreaming Dexter                  \n",
       "599   Torment                                 \n",
       "663   Breakfast at Tiffany's                  \n",
       "713   The Tragedie of King Lear               \n",
       "835   The Unlikely Pilgrimage of Harold Fry   \n",
       "944   Passion                                 \n",
       "962   The Partner                             "
      ]
     },
     "execution_count": 50,
     "metadata": {},
     "output_type": "execute_result"
    }
   ],
   "source": [
    "import plotly.graph_objects as go\n",
    "l=get_recommendations_new('The Great Gatsby', cosine_sim2)\n",
    "pd.DataFrame(l)\n"
   ]
  },
  {
   "cell_type": "code",
   "execution_count": 51,
   "metadata": {},
   "outputs": [
    {
     "data": {
      "text/html": [
       "<div>\n",
       "<style scoped>\n",
       "    .dataframe tbody tr th:only-of-type {\n",
       "        vertical-align: middle;\n",
       "    }\n",
       "\n",
       "    .dataframe tbody tr th {\n",
       "        vertical-align: top;\n",
       "    }\n",
       "\n",
       "    .dataframe thead th {\n",
       "        text-align: right;\n",
       "    }\n",
       "</style>\n",
       "<table border=\"1\" class=\"dataframe\">\n",
       "  <thead>\n",
       "    <tr style=\"text-align: right;\">\n",
       "      <th></th>\n",
       "      <th>original_title</th>\n",
       "    </tr>\n",
       "  </thead>\n",
       "  <tbody>\n",
       "    <tr>\n",
       "      <th>20</th>\n",
       "      <td>Harry Potter and the Order of the Phoenix</td>\n",
       "    </tr>\n",
       "    <tr>\n",
       "      <th>23</th>\n",
       "      <td>Harry Potter and the Goblet of Fire</td>\n",
       "    </tr>\n",
       "    <tr>\n",
       "      <th>24</th>\n",
       "      <td>Harry Potter and the Deathly Hallows</td>\n",
       "    </tr>\n",
       "    <tr>\n",
       "      <th>2100</th>\n",
       "      <td>Harry Potter Boxed Set Books 1-4</td>\n",
       "    </tr>\n",
       "    <tr>\n",
       "      <th>1</th>\n",
       "      <td>Harry Potter and the Philosopher's Stone</td>\n",
       "    </tr>\n",
       "    <tr>\n",
       "      <th>17</th>\n",
       "      <td>Harry Potter and the Prisoner of Azkaban</td>\n",
       "    </tr>\n",
       "    <tr>\n",
       "      <th>26</th>\n",
       "      <td>Harry Potter and the Half-Blood Prince</td>\n",
       "    </tr>\n",
       "    <tr>\n",
       "      <th>341</th>\n",
       "      <td>The Casual Vacancy</td>\n",
       "    </tr>\n",
       "    <tr>\n",
       "      <th>393</th>\n",
       "      <td>Shadow Kiss</td>\n",
       "    </tr>\n",
       "    <tr>\n",
       "      <th>398</th>\n",
       "      <td>The Tales of Beedle the Bard</td>\n",
       "    </tr>\n",
       "  </tbody>\n",
       "</table>\n",
       "</div>"
      ],
      "text/plain": [
       "                                 original_title\n",
       "20    Harry Potter and the Order of the Phoenix\n",
       "23    Harry Potter and the Goblet of Fire      \n",
       "24    Harry Potter and the Deathly Hallows     \n",
       "2100  Harry Potter Boxed Set Books 1-4         \n",
       "1     Harry Potter and the Philosopher's Stone \n",
       "17    Harry Potter and the Prisoner of Azkaban \n",
       "26    Harry Potter and the Half-Blood Prince   \n",
       "341   The Casual Vacancy                       \n",
       "393   Shadow Kiss                              \n",
       "398   The Tales of Beedle the Bard             "
      ]
     },
     "execution_count": 51,
     "metadata": {},
     "output_type": "execute_result"
    }
   ],
   "source": [
    "l=get_recommendations_new('Harry Potter and The Chamber of Secrets', cosine_sim2)\n",
    "fig = go.Figure(data=[go.Table(header=dict(values=l,fill_color='orange'))\n",
    "                     ])\n",
    "pd.DataFrame(l)"
   ]
  },
  {
   "cell_type": "markdown",
   "metadata": {},
   "source": [
    "### 2. Collaborative approach"
   ]
  },
  {
   "cell_type": "code",
   "execution_count": 52,
   "metadata": {},
   "outputs": [],
   "source": [
    "usecols=['book_id', 'original_title']\n",
    "books_col=books[usecols]"
   ]
  },
  {
   "cell_type": "code",
   "execution_count": 53,
   "metadata": {},
   "outputs": [
    {
     "data": {
      "text/html": [
       "<div>\n",
       "<style scoped>\n",
       "    .dataframe tbody tr th:only-of-type {\n",
       "        vertical-align: middle;\n",
       "    }\n",
       "\n",
       "    .dataframe tbody tr th {\n",
       "        vertical-align: top;\n",
       "    }\n",
       "\n",
       "    .dataframe thead th {\n",
       "        text-align: right;\n",
       "    }\n",
       "</style>\n",
       "<table border=\"1\" class=\"dataframe\">\n",
       "  <thead>\n",
       "    <tr style=\"text-align: right;\">\n",
       "      <th></th>\n",
       "      <th>book_id</th>\n",
       "      <th>original_title</th>\n",
       "    </tr>\n",
       "  </thead>\n",
       "  <tbody>\n",
       "    <tr>\n",
       "      <th>0</th>\n",
       "      <td>2767052</td>\n",
       "      <td>The Hunger Games</td>\n",
       "    </tr>\n",
       "    <tr>\n",
       "      <th>1</th>\n",
       "      <td>3</td>\n",
       "      <td>Harry Potter and the Philosopher's Stone</td>\n",
       "    </tr>\n",
       "    <tr>\n",
       "      <th>3</th>\n",
       "      <td>2657</td>\n",
       "      <td>To Kill a Mockingbird</td>\n",
       "    </tr>\n",
       "    <tr>\n",
       "      <th>4</th>\n",
       "      <td>4671</td>\n",
       "      <td>The Great Gatsby</td>\n",
       "    </tr>\n",
       "    <tr>\n",
       "      <th>5</th>\n",
       "      <td>11870085</td>\n",
       "      <td>The Fault in Our Stars</td>\n",
       "    </tr>\n",
       "    <tr>\n",
       "      <th>6</th>\n",
       "      <td>5907</td>\n",
       "      <td>The Hobbit or There and Back Again</td>\n",
       "    </tr>\n",
       "    <tr>\n",
       "      <th>7</th>\n",
       "      <td>5107</td>\n",
       "      <td>The Catcher in the Rye</td>\n",
       "    </tr>\n",
       "    <tr>\n",
       "      <th>8</th>\n",
       "      <td>960</td>\n",
       "      <td>Angels &amp; Demons</td>\n",
       "    </tr>\n",
       "    <tr>\n",
       "      <th>9</th>\n",
       "      <td>1885</td>\n",
       "      <td>Pride and Prejudice</td>\n",
       "    </tr>\n",
       "    <tr>\n",
       "      <th>10</th>\n",
       "      <td>77203</td>\n",
       "      <td>The Kite Runner</td>\n",
       "    </tr>\n",
       "    <tr>\n",
       "      <th>11</th>\n",
       "      <td>13335037</td>\n",
       "      <td>Divergent</td>\n",
       "    </tr>\n",
       "    <tr>\n",
       "      <th>12</th>\n",
       "      <td>5470</td>\n",
       "      <td>Nineteen Eighty-Four</td>\n",
       "    </tr>\n",
       "    <tr>\n",
       "      <th>13</th>\n",
       "      <td>7613</td>\n",
       "      <td>Animal Farm: A Fairy Story</td>\n",
       "    </tr>\n",
       "    <tr>\n",
       "      <th>14</th>\n",
       "      <td>48855</td>\n",
       "      <td>Het Achterhuis: Dagboekbrieven 14 juni 1942 - 1 augustus 1944</td>\n",
       "    </tr>\n",
       "    <tr>\n",
       "      <th>15</th>\n",
       "      <td>2429135</td>\n",
       "      <td>MÃ¤n som hatar kvinnor</td>\n",
       "    </tr>\n",
       "    <tr>\n",
       "      <th>16</th>\n",
       "      <td>6148028</td>\n",
       "      <td>Catching Fire</td>\n",
       "    </tr>\n",
       "    <tr>\n",
       "      <th>17</th>\n",
       "      <td>5</td>\n",
       "      <td>Harry Potter and the Prisoner of Azkaban</td>\n",
       "    </tr>\n",
       "    <tr>\n",
       "      <th>18</th>\n",
       "      <td>34</td>\n",
       "      <td>The Fellowship of the Ring</td>\n",
       "    </tr>\n",
       "    <tr>\n",
       "      <th>19</th>\n",
       "      <td>7260188</td>\n",
       "      <td>Mockingjay</td>\n",
       "    </tr>\n",
       "    <tr>\n",
       "      <th>20</th>\n",
       "      <td>2</td>\n",
       "      <td>Harry Potter and the Order of the Phoenix</td>\n",
       "    </tr>\n",
       "    <tr>\n",
       "      <th>21</th>\n",
       "      <td>12232938</td>\n",
       "      <td>The Lovely Bones</td>\n",
       "    </tr>\n",
       "    <tr>\n",
       "      <th>22</th>\n",
       "      <td>15881</td>\n",
       "      <td>Harry Potter and the Chamber of Secrets</td>\n",
       "    </tr>\n",
       "    <tr>\n",
       "      <th>23</th>\n",
       "      <td>6</td>\n",
       "      <td>Harry Potter and the Goblet of Fire</td>\n",
       "    </tr>\n",
       "    <tr>\n",
       "      <th>24</th>\n",
       "      <td>136251</td>\n",
       "      <td>Harry Potter and the Deathly Hallows</td>\n",
       "    </tr>\n",
       "    <tr>\n",
       "      <th>25</th>\n",
       "      <td>968</td>\n",
       "      <td>The Da Vinci Code</td>\n",
       "    </tr>\n",
       "    <tr>\n",
       "      <th>26</th>\n",
       "      <td>1</td>\n",
       "      <td>Harry Potter and the Half-Blood Prince</td>\n",
       "    </tr>\n",
       "    <tr>\n",
       "      <th>27</th>\n",
       "      <td>7624</td>\n",
       "      <td>Lord of the Flies</td>\n",
       "    </tr>\n",
       "    <tr>\n",
       "      <th>28</th>\n",
       "      <td>18135</td>\n",
       "      <td>An Excellent conceited Tragedie of Romeo and Juliet</td>\n",
       "    </tr>\n",
       "    <tr>\n",
       "      <th>29</th>\n",
       "      <td>8442457</td>\n",
       "      <td>Gone Girl</td>\n",
       "    </tr>\n",
       "    <tr>\n",
       "      <th>30</th>\n",
       "      <td>4667024</td>\n",
       "      <td>The Help</td>\n",
       "    </tr>\n",
       "    <tr>\n",
       "      <th>...</th>\n",
       "      <td>...</td>\n",
       "      <td>...</td>\n",
       "    </tr>\n",
       "    <tr>\n",
       "      <th>9968</th>\n",
       "      <td>23013953</td>\n",
       "      <td>Darm mit Charme</td>\n",
       "    </tr>\n",
       "    <tr>\n",
       "      <th>9969</th>\n",
       "      <td>6131786</td>\n",
       "      <td>The Virgin Cure</td>\n",
       "    </tr>\n",
       "    <tr>\n",
       "      <th>9971</th>\n",
       "      <td>4984</td>\n",
       "      <td>Bagombo Snuff Box</td>\n",
       "    </tr>\n",
       "    <tr>\n",
       "      <th>9972</th>\n",
       "      <td>849380</td>\n",
       "      <td>The Seven Principles for Making Marriage Work: A Practical Guide from the Country's Foremost Relationship Expert</td>\n",
       "    </tr>\n",
       "    <tr>\n",
       "      <th>9973</th>\n",
       "      <td>116494</td>\n",
       "      <td>Anastasia Krupnik</td>\n",
       "    </tr>\n",
       "    <tr>\n",
       "      <th>9974</th>\n",
       "      <td>613991</td>\n",
       "      <td>The King Beyond the Gate</td>\n",
       "    </tr>\n",
       "    <tr>\n",
       "      <th>9976</th>\n",
       "      <td>202948</td>\n",
       "      <td>Ladder of Years</td>\n",
       "    </tr>\n",
       "    <tr>\n",
       "      <th>9977</th>\n",
       "      <td>162332</td>\n",
       "      <td>åå¾ã®æ³èª [Gogo no eikÅ]</td>\n",
       "    </tr>\n",
       "    <tr>\n",
       "      <th>9978</th>\n",
       "      <td>16951</td>\n",
       "      <td>When the Lion Feeds</td>\n",
       "    </tr>\n",
       "    <tr>\n",
       "      <th>9979</th>\n",
       "      <td>946899</td>\n",
       "      <td>The Measure of a Lady</td>\n",
       "    </tr>\n",
       "    <tr>\n",
       "      <th>9980</th>\n",
       "      <td>106312</td>\n",
       "      <td>The Twelfth Card</td>\n",
       "    </tr>\n",
       "    <tr>\n",
       "      <th>9981</th>\n",
       "      <td>12444298</td>\n",
       "      <td>Feverborn</td>\n",
       "    </tr>\n",
       "    <tr>\n",
       "      <th>9982</th>\n",
       "      <td>8539798</td>\n",
       "      <td>éã®ç¥é­å¸« 2</td>\n",
       "    </tr>\n",
       "    <tr>\n",
       "      <th>9983</th>\n",
       "      <td>764165</td>\n",
       "      <td>The Snow Leopard</td>\n",
       "    </tr>\n",
       "    <tr>\n",
       "      <th>9984</th>\n",
       "      <td>19688</td>\n",
       "      <td>Tom Clancy's Net Force: Breaking Point</td>\n",
       "    </tr>\n",
       "    <tr>\n",
       "      <th>9985</th>\n",
       "      <td>183092</td>\n",
       "      <td>Night Light: A Restoration Novel</td>\n",
       "    </tr>\n",
       "    <tr>\n",
       "      <th>9986</th>\n",
       "      <td>8087038</td>\n",
       "      <td>Chasing The Night</td>\n",
       "    </tr>\n",
       "    <tr>\n",
       "      <th>9987</th>\n",
       "      <td>129237</td>\n",
       "      <td>A Theory of Justice</td>\n",
       "    </tr>\n",
       "    <tr>\n",
       "      <th>9988</th>\n",
       "      <td>13489518</td>\n",
       "      <td>Out of the Dark</td>\n",
       "    </tr>\n",
       "    <tr>\n",
       "      <th>9989</th>\n",
       "      <td>294081</td>\n",
       "      <td>The Mambo Kings Play Songs of Love</td>\n",
       "    </tr>\n",
       "    <tr>\n",
       "      <th>9990</th>\n",
       "      <td>101094</td>\n",
       "      <td>The Famished Road</td>\n",
       "    </tr>\n",
       "    <tr>\n",
       "      <th>9991</th>\n",
       "      <td>13616278</td>\n",
       "      <td>The Red Knight</td>\n",
       "    </tr>\n",
       "    <tr>\n",
       "      <th>9992</th>\n",
       "      <td>4936457</td>\n",
       "      <td>The Time-Traveller's Guide to Medieval England: A Handbook for Visitors to the Fourteenth Century</td>\n",
       "    </tr>\n",
       "    <tr>\n",
       "      <th>9993</th>\n",
       "      <td>4769651</td>\n",
       "      <td>The Everafter War (The Sisters Grimm, #7)</td>\n",
       "    </tr>\n",
       "    <tr>\n",
       "      <th>9994</th>\n",
       "      <td>15613</td>\n",
       "      <td>Billy Budd, Sailor</td>\n",
       "    </tr>\n",
       "    <tr>\n",
       "      <th>9995</th>\n",
       "      <td>7130616</td>\n",
       "      <td>Bayou Moon</td>\n",
       "    </tr>\n",
       "    <tr>\n",
       "      <th>9996</th>\n",
       "      <td>208324</td>\n",
       "      <td>Means of Ascent</td>\n",
       "    </tr>\n",
       "    <tr>\n",
       "      <th>9997</th>\n",
       "      <td>77431</td>\n",
       "      <td>The Mauritius Command</td>\n",
       "    </tr>\n",
       "    <tr>\n",
       "      <th>9998</th>\n",
       "      <td>8565083</td>\n",
       "      <td>Cinderella Ate My Daughter: Dispatches from the Frontlines of the New Girlie-Girl Culture</td>\n",
       "    </tr>\n",
       "    <tr>\n",
       "      <th>9999</th>\n",
       "      <td>8914</td>\n",
       "      <td>The First World War</td>\n",
       "    </tr>\n",
       "  </tbody>\n",
       "</table>\n",
       "<p>9151 rows × 2 columns</p>\n",
       "</div>"
      ],
      "text/plain": [
       "       book_id  \\\n",
       "0     2767052    \n",
       "1     3          \n",
       "3     2657       \n",
       "4     4671       \n",
       "5     11870085   \n",
       "6     5907       \n",
       "7     5107       \n",
       "8     960        \n",
       "9     1885       \n",
       "10    77203      \n",
       "11    13335037   \n",
       "12    5470       \n",
       "13    7613       \n",
       "14    48855      \n",
       "15    2429135    \n",
       "16    6148028    \n",
       "17    5          \n",
       "18    34         \n",
       "19    7260188    \n",
       "20    2          \n",
       "21    12232938   \n",
       "22    15881      \n",
       "23    6          \n",
       "24    136251     \n",
       "25    968        \n",
       "26    1          \n",
       "27    7624       \n",
       "28    18135      \n",
       "29    8442457    \n",
       "30    4667024    \n",
       "...       ...    \n",
       "9968  23013953   \n",
       "9969  6131786    \n",
       "9971  4984       \n",
       "9972  849380     \n",
       "9973  116494     \n",
       "9974  613991     \n",
       "9976  202948     \n",
       "9977  162332     \n",
       "9978  16951      \n",
       "9979  946899     \n",
       "9980  106312     \n",
       "9981  12444298   \n",
       "9982  8539798    \n",
       "9983  764165     \n",
       "9984  19688      \n",
       "9985  183092     \n",
       "9986  8087038    \n",
       "9987  129237     \n",
       "9988  13489518   \n",
       "9989  294081     \n",
       "9990  101094     \n",
       "9991  13616278   \n",
       "9992  4936457    \n",
       "9993  4769651    \n",
       "9994  15613      \n",
       "9995  7130616    \n",
       "9996  208324     \n",
       "9997  77431      \n",
       "9998  8565083    \n",
       "9999  8914       \n",
       "\n",
       "                                                                                                        original_title  \n",
       "0     The Hunger Games                                                                                                  \n",
       "1     Harry Potter and the Philosopher's Stone                                                                          \n",
       "3     To Kill a Mockingbird                                                                                             \n",
       "4     The Great Gatsby                                                                                                  \n",
       "5     The Fault in Our Stars                                                                                            \n",
       "6     The Hobbit or There and Back Again                                                                                \n",
       "7     The Catcher in the Rye                                                                                            \n",
       "8     Angels & Demons                                                                                                   \n",
       "9     Pride and Prejudice                                                                                               \n",
       "10    The Kite Runner                                                                                                   \n",
       "11    Divergent                                                                                                         \n",
       "12    Nineteen Eighty-Four                                                                                              \n",
       "13    Animal Farm: A Fairy Story                                                                                        \n",
       "14    Het Achterhuis: Dagboekbrieven 14 juni 1942 - 1 augustus 1944                                                     \n",
       "15    MÃ¤n som hatar kvinnor                                                                                            \n",
       "16    Catching Fire                                                                                                     \n",
       "17    Harry Potter and the Prisoner of Azkaban                                                                          \n",
       "18     The Fellowship of the Ring                                                                                       \n",
       "19    Mockingjay                                                                                                        \n",
       "20    Harry Potter and the Order of the Phoenix                                                                         \n",
       "21    The Lovely Bones                                                                                                  \n",
       "22    Harry Potter and the Chamber of Secrets                                                                           \n",
       "23    Harry Potter and the Goblet of Fire                                                                               \n",
       "24    Harry Potter and the Deathly Hallows                                                                              \n",
       "25    The Da Vinci Code                                                                                                 \n",
       "26    Harry Potter and the Half-Blood Prince                                                                            \n",
       "27    Lord of the Flies                                                                                                 \n",
       "28    An Excellent conceited Tragedie of Romeo and Juliet                                                               \n",
       "29    Gone Girl                                                                                                         \n",
       "30    The Help                                                                                                          \n",
       "...        ...                                                                                                          \n",
       "9968  Darm mit Charme                                                                                                   \n",
       "9969  The Virgin Cure                                                                                                   \n",
       "9971  Bagombo Snuff Box                                                                                                 \n",
       "9972  The Seven Principles for Making Marriage Work: A Practical Guide from the Country's Foremost Relationship Expert  \n",
       "9973  Anastasia Krupnik                                                                                                 \n",
       "9974  The King Beyond the Gate                                                                                          \n",
       "9976  Ladder of Years                                                                                                   \n",
       "9977  åå¾ã®æ³èª [Gogo no eikÅ]                                                                                   \n",
       "9978  When the Lion Feeds                                                                                               \n",
       "9979  The Measure of a Lady                                                                                             \n",
       "9980  The Twelfth Card                                                                                                  \n",
       "9981  Feverborn                                                                                                         \n",
       "9982  éã®ç¥é­å¸« 2                                                                                                 \n",
       "9983  The Snow Leopard                                                                                                  \n",
       "9984  Tom Clancy's Net Force: Breaking Point                                                                            \n",
       "9985  Night Light: A Restoration Novel                                                                                  \n",
       "9986  Chasing The Night                                                                                                 \n",
       "9987  A Theory of Justice                                                                                               \n",
       "9988  Out of the Dark                                                                                                   \n",
       "9989  The Mambo Kings Play Songs of Love                                                                                \n",
       "9990  The Famished Road                                                                                                 \n",
       "9991  The Red Knight                                                                                                    \n",
       "9992  The Time-Traveller's Guide to Medieval England: A Handbook for Visitors to the Fourteenth Century                 \n",
       "9993  The Everafter War (The Sisters Grimm, #7)                                                                         \n",
       "9994  Billy Budd, Sailor                                                                                                \n",
       "9995  Bayou Moon                                                                                                        \n",
       "9996  Means of Ascent                                                                                                   \n",
       "9997  The Mauritius Command                                                                                             \n",
       "9998  Cinderella Ate My Daughter: Dispatches from the Frontlines of the New Girlie-Girl Culture                         \n",
       "9999  The First World War                                                                                               \n",
       "\n",
       "[9151 rows x 2 columns]"
      ]
     },
     "execution_count": 53,
     "metadata": {},
     "output_type": "execute_result"
    }
   ],
   "source": [
    "books_col.fillna(0)"
   ]
  },
  {
   "cell_type": "code",
   "execution_count": null,
   "metadata": {},
   "outputs": [],
   "source": []
  },
  {
   "cell_type": "code",
   "execution_count": 187,
   "metadata": {},
   "outputs": [],
   "source": [
    "\n",
    "train_data, test_data = train_test_split(sample_ratings, test_size=0.2)\n"
   ]
  },
  {
   "cell_type": "code",
   "execution_count": 188,
   "metadata": {},
   "outputs": [
    {
     "name": "stdout",
     "output_type": "stream",
     "text": [
      "(10030, 3)\n",
      "(2508, 3)\n"
     ]
    }
   ],
   "source": [
    "# Create two user-item matrices, one for training and another for testing\n",
    "train_data_matrix = train_data.to_numpy()\n",
    "test_data_matrix = test_data.to_numpy()\n",
    "\n",
    "# Check their shape\n",
    "print(train_data_matrix.shape)\n",
    "print(test_data_matrix.shape)"
   ]
  },
  {
   "cell_type": "code",
   "execution_count": 189,
   "metadata": {},
   "outputs": [
    {
     "name": "stdout",
     "output_type": "stream",
     "text": [
      "[[1.         0.99947442 0.99999471 0.98692373]\n",
      " [0.99947442 1.         0.99936369 0.98117972]\n",
      " [0.99999471 0.99936369 1.         0.98744279]\n",
      " [0.98692373 0.98117972 0.98744279 1.        ]]\n"
     ]
    }
   ],
   "source": [
    "\n",
    "\n",
    "# User Similarity Matrix\n",
    "user_correlation = 1 - pairwise_distances(train_data, metric='correlation')\n",
    "user_correlation[np.isnan(user_correlation)] = 0\n",
    "print(user_correlation[:4, :4])"
   ]
  },
  {
   "cell_type": "code",
   "execution_count": 157,
   "metadata": {},
   "outputs": [
    {
     "name": "stdout",
     "output_type": "stream",
     "text": [
      "[[1.         0.00364878 0.01493219]\n",
      " [0.00364878 1.         0.07025425]\n",
      " [0.01493219 0.07025425 1.        ]]\n"
     ]
    }
   ],
   "source": [
    "# Item Similarity Matrix\n",
    "item_correlation = 1 - pairwise_distances(train_data_matrix.T, metric='correlation')\n",
    "item_correlation[np.isnan(item_correlation)] = 0\n",
    "print(item_correlation[:4, :4])"
   ]
  },
  {
   "cell_type": "code",
   "execution_count": 111,
   "metadata": {},
   "outputs": [],
   "source": [
    "# Function to predict ratings\n",
    "def predict(ratings, similarity, type='user'):\n",
    "    if type == 'user':\n",
    "        mean_user_rating = ratings.mean(axis=1)\n",
    "        # Use np.newaxis so that mean_user_rating has same format as ratings\n",
    "        ratings_diff = (ratings - mean_user_rating[:, np.newaxis])\n",
    "        pred = mean_user_rating[:, np.newaxis] + similarity.dot(ratings_diff) / np.array([np.abs(similarity).sum(axis=1)]).T\n",
    "    elif type == 'item':\n",
    "        pred = ratings.dot(similarity) / np.array([np.abs(similarity).sum(axis=1)])\n",
    "    return pred"
   ]
  },
  {
   "cell_type": "code",
   "execution_count": 101,
   "metadata": {},
   "outputs": [],
   "source": [
    "\n",
    "\n",
    "# Function to calculate RMSE\n",
    "def rmse(pred, actual):\n",
    "    # Ignore nonzero terms.\n",
    "    pred = pred[actual.nonzero()].flatten()\n",
    "    actual = actual[actual.nonzero()].flatten()\n",
    "    return sqrt(mean_squared_error(pred, actual))"
   ]
  },
  {
   "cell_type": "code",
   "execution_count": 112,
   "metadata": {},
   "outputs": [
    {
     "name": "stdout",
     "output_type": "stream",
     "text": [
      "User-based CF RMSE: 11159.897125349724\n",
      "Item-based CF RMSE: 12445.548763246125\n"
     ]
    }
   ],
   "source": [
    "# Predict ratings on the training data with both similarity score\n",
    "user_prediction = predict(train_data_matrix, user_correlation, type='user')\n",
    "item_prediction = predict(train_data_matrix, item_correlation, type='item')\n",
    "\n",
    "# RMSE on the test data\n",
    "print('User-based CF RMSE: ' + str(rmse(user_prediction, test_data_matrix)))\n",
    "print('Item-based CF RMSE: ' + str(rmse(item_prediction, test_data_matrix)))"
   ]
  },
  {
   "cell_type": "code",
   "execution_count": 107,
   "metadata": {},
   "outputs": [
    {
     "data": {
      "text/plain": [
       "array([[-12608.        ,  28151.        , -15543.        ],\n",
       "       [-10194.33333333,  22927.66666667, -12733.33333333],\n",
       "       [ -5533.66666667,  19801.33333333, -14267.66666667],\n",
       "       ...,\n",
       "       [ -3830.33333333,   8111.66666667,  -4281.33333333],\n",
       "       [-10765.33333333,  21589.66666667, -10824.33333333],\n",
       "       [-11875.33333333,  29171.66666667, -17296.33333333]])"
      ]
     },
     "execution_count": 107,
     "metadata": {},
     "output_type": "execute_result"
    }
   ],
   "source": [
    "predict(train_data_matrix, user_correlation, type='user')\n",
    "train_data_matrix - train_data_matrix.mean(axis=1)[:, np.newaxis]"
   ]
  },
  {
   "cell_type": "markdown",
   "metadata": {},
   "source": [
    "### 3. SVD"
   ]
  },
  {
   "cell_type": "code",
   "execution_count": 54,
   "metadata": {},
   "outputs": [
    {
     "name": "stdout",
     "output_type": "stream",
     "text": [
      "Total Books:  9818\n",
      "Total User:  7734\n"
     ]
    }
   ],
   "source": [
    "sample_rating = sample_ratings\n",
    "#Ratings matrix to be one row per user and one column per movie.\n",
    "print(\"Total Books: \", sample_rating.shape[0])\n",
    "## Total User only considering user who rated atleast one movie\n",
    "print(\"Total User: \", len(sample_rating['user_id'].unique()))\n"
   ]
  },
  {
   "cell_type": "code",
   "execution_count": 55,
   "metadata": {},
   "outputs": [
    {
     "name": "stdout",
     "output_type": "stream",
     "text": [
      "book_id    1    2    4    5    6    7   10   12   14   15  ...  9987  9988  \\\n",
      "user_id                                                    ...               \n",
      "7        0.0  0.0  0.0  0.0  0.0  0.0  0.0  0.0  0.0  0.0  ...  0.0   0.0    \n",
      "21       0.0  0.0  0.0  0.0  0.0  0.0  0.0  0.0  0.0  0.0  ...  0.0   0.0    \n",
      "22       0.0  0.0  0.0  0.0  0.0  0.0  0.0  0.0  0.0  0.0  ...  0.0   0.0    \n",
      "27       0.0  0.0  0.0  0.0  0.0  0.0  0.0  0.0  0.0  0.0  ...  0.0   0.0    \n",
      "36       0.0  0.0  0.0  0.0  0.0  0.0  0.0  0.0  0.0  0.0  ...  0.0   0.0    \n",
      "\n",
      "book_id  9989  9990  9991  9992  9994  9995  9997  9999  \n",
      "user_id                                                  \n",
      "7        0.0   0.0   0.0   0.0   0.0   0.0   0.0   0.0   \n",
      "21       0.0   0.0   0.0   0.0   0.0   0.0   0.0   0.0   \n",
      "22       0.0   0.0   0.0   0.0   0.0   0.0   0.0   0.0   \n",
      "27       0.0   0.0   0.0   0.0   0.0   0.0   0.0   0.0   \n",
      "36       0.0   0.0   0.0   0.0   0.0   0.0   0.0   0.0   \n",
      "\n",
      "[5 rows x 6256 columns] (7734, 6256)\n"
     ]
    }
   ],
   "source": [
    "books = books[['book_id', 'authors', 'original_title', 'average_rating']].copy()\n",
    "books_df = sample_rating.reset_index().pivot_table(index = 'user_id', columns = 'book_id', values = 'rating').fillna(0)\n",
    "print(books_df.head(), books_df.shape)"
   ]
  },
  {
   "cell_type": "code",
   "execution_count": 68,
   "metadata": {},
   "outputs": [
    {
     "name": "stderr",
     "output_type": "stream",
     "text": [
      "C:\\Users\\ambit\\AppData\\Local\\Continuum\\anaconda3\\lib\\site-packages\\ipykernel_launcher.py:2: FutureWarning:\n",
      "\n",
      "Method .as_matrix will be removed in a future version. Use .values instead.\n",
      "\n"
     ]
    },
    {
     "data": {
      "text/plain": [
       "array([[0., 0., 0., ..., 0., 0., 0.],\n",
       "       [0., 0., 0., ..., 0., 0., 0.],\n",
       "       [0., 0., 0., ..., 0., 0., 0.],\n",
       "       ...,\n",
       "       [0., 0., 0., ..., 0., 0., 0.],\n",
       "       [0., 0., 0., ..., 0., 0., 0.],\n",
       "       [0., 0., 0., ..., 0., 0., 0.]])"
      ]
     },
     "execution_count": 68,
     "metadata": {},
     "output_type": "execute_result"
    }
   ],
   "source": [
    "# Normalize by each users mean and convert it from a dataframe to a numpy array\n",
    "R = books_df.as_matrix()\n",
    "user_ratings_mean = np.mean(R, axis = 1)\n",
    "R_demeaned = R - user_ratings_mean.reshape(-1, 1)\n",
    "R_demeaned"
   ]
  },
  {
   "cell_type": "code",
   "execution_count": 69,
   "metadata": {},
   "outputs": [
    {
     "name": "stdout",
     "output_type": "stream",
     "text": [
      "[[10.25677608  0.          0.         ...  0.          0.\n",
      "   0.        ]\n",
      " [ 0.         10.28420697  0.         ...  0.          0.\n",
      "   0.        ]\n",
      " [ 0.          0.         10.29755886 ...  0.          0.\n",
      "   0.        ]\n",
      " ...\n",
      " [ 0.          0.          0.         ... 12.06819958  0.\n",
      "   0.        ]\n",
      " [ 0.          0.          0.         ...  0.         12.25743804\n",
      "   0.        ]\n",
      " [ 0.          0.          0.         ...  0.          0.\n",
      "  12.68164915]]\n"
     ]
    }
   ],
   "source": [
    "from scipy.sparse.linalg import svds\n",
    "U, sigma, Vt = svds(R_demeaned, k = 50)\n",
    "del(R_demeaned)\n",
    "sigma = np.diag(sigma)\n",
    "print(sigma)"
   ]
  },
  {
   "cell_type": "code",
   "execution_count": 70,
   "metadata": {},
   "outputs": [
    {
     "name": "stdout",
     "output_type": "stream",
     "text": [
      "[[0.00063939 0.00063939 0.00063939 ... 0.00063939 0.00063939 0.00063939]\n",
      " [0.00047954 0.00047954 0.00047954 ... 0.00047954 0.00047954 0.00047954]\n",
      " [0.00047954 0.00047954 0.00047954 ... 0.00047954 0.00047954 0.00047954]\n",
      " ...\n",
      " [0.00063939 0.00063939 0.00063939 ... 0.00063939 0.00063939 0.00063939]\n",
      " [0.00076518 0.00031969 0.00031969 ... 0.00031969 0.00031969 0.00031969]\n",
      " [0.00047954 0.00047954 0.00047954 ... 0.00047954 0.00047954 0.00047954]]\n",
      "book_id         1         2         4         5         6         7        10  \\\n",
      "0        0.000639  0.000639  0.000639  0.000639  0.000639  0.000639  0.000639   \n",
      "1        0.000480  0.000480  0.000480  0.000480  0.000480  0.000480  0.000480   \n",
      "2        0.000480  0.000480  0.000480  0.000480  0.000480  0.000480  0.000480   \n",
      "3        0.000799  0.000799  0.000799  0.000799  0.000799  0.000799  0.000799   \n",
      "4        0.000799  0.000799  0.000799  0.000799  0.000799  0.000799  0.000799   \n",
      "\n",
      "book_id        12        14        15  ...      9987      9988      9989  \\\n",
      "0        0.000639  0.000639  0.000639  ...  0.000639  0.000639  0.000639   \n",
      "1        0.000480  0.000480  0.000480  ...  0.000480  0.000480  0.000480   \n",
      "2        0.000480  0.000480  0.000480  ...  0.000480  0.000480  0.000480   \n",
      "3        0.000799  0.000799  0.000799  ...  0.000799  0.000799  0.000799   \n",
      "4        0.000799  0.000799  0.000799  ...  0.000799  0.000799  0.000799   \n",
      "\n",
      "book_id      9990      9991      9992      9994      9995      9997      9999  \n",
      "0        0.000639  0.000639  0.000639  0.000639  0.000639  0.000639  0.000639  \n",
      "1        0.000480  0.000480  0.000480  0.000480  0.000480  0.000480  0.000480  \n",
      "2        0.000480  0.000480  0.000480  0.000480  0.000480  0.000480  0.000480  \n",
      "3        0.000799  0.000799  0.000799  0.000799  0.000799  0.000799  0.000799  \n",
      "4        0.000799  0.000799  0.000799  0.000799  0.000799  0.000799  0.000799  \n",
      "\n",
      "[5 rows x 6256 columns]\n"
     ]
    }
   ],
   "source": [
    "# add the user means back to get the predicted 5-star ratings\n",
    "all_user_predicted_ratings = np.dot(np.dot(U, sigma), Vt) + user_ratings_mean.reshape(-1, 1)\n",
    "print(all_user_predicted_ratings)\n",
    "# Making Recommendation\n",
    "preds_df = pd.DataFrame(all_user_predicted_ratings, columns = books_df.columns)\n",
    "print(preds_df.head(5))"
   ]
  },
  {
   "cell_type": "code",
   "execution_count": 71,
   "metadata": {},
   "outputs": [],
   "source": [
    "def recommend_books(predictions_df, userID, books_df, original_ratings_df, num_recommendations=5):\n",
    "    \n",
    "    # Get and sort the user's predictions\n",
    "    user_row_number = userID - 1 # UserID starts at 1, not 0\n",
    "    sorted_user_predictions = predictions_df.iloc[user_row_number].sort_values(ascending=False)\n",
    "    \n",
    "    # Get the user's data and merge in the movie information.\n",
    "    user_data = original_ratings_df[original_ratings_df.user_id == (userID)]\n",
    "    user_full = (user_data.merge(books_df, how = 'left', left_on = 'book_id', right_on = 'book_id').\n",
    "                     sort_values(['rating'], ascending=False)\n",
    "                 )\n",
    "\n",
    "#     print 'User {0} has already rated {1} books.', %(.format(userID, user_full.shape[0]))\n",
    "#     print 'Recommending the highest {0} predicted ratings movies not already rated.'.format(num_recommendations)\n",
    "    \n",
    "    # Recommend the highest predicted rating books that the user hasn't read yet.\n",
    "    recommendations = (books_df[~books_df['book_id'].isin(user_full['book_id'])].\n",
    "         merge(pd.DataFrame(sorted_user_predictions).reset_index(), how = 'left',\n",
    "               left_on = 'book_id',\n",
    "               right_on = 'book_id').\n",
    "         rename(columns = {user_row_number: 'Predictions'}).\n",
    "         sort_values('Predictions', ascending = False).\n",
    "                       iloc[:num_recommendations, :-1]\n",
    "                      )\n",
    "\n",
    "    return(user_full, recommendations)\n"
   ]
  },
  {
   "cell_type": "code",
   "execution_count": 72,
   "metadata": {},
   "outputs": [
    {
     "name": "stdout",
     "output_type": "stream",
     "text": [
      "      book_id  \\\n",
      "3215  1362      \n",
      "5412  3300      \n",
      "7117  98        \n",
      "241   662       \n",
      "1278  360       \n",
      "2678  105       \n",
      "245   4865      \n",
      "6851  1191      \n",
      "1913  5306      \n",
      "3874  5695      \n",
      "\n",
      "                                                                                            authors  \\\n",
      "3215  Herodotus, Aubrey de SÃ©lincourt, John M. Marincola                                             \n",
      "5412  Isabel Allende, Margaret Sayers Peden                                                           \n",
      "7117  Heidi Murkoff, Sharon Mazel, Heidi Murkoff, Arlene Eisenberg, Sandee Hathaway, Mark D. Widome   \n",
      "241   Ayn Rand, Leonard Peikoff                                                                       \n",
      "1278  Douglas Adams                                                                                   \n",
      "2678  Frank Herbert                                                                                   \n",
      "245   Dale Carnegie                                                                                   \n",
      "6851  Giada De Laurentiis, Victoria Pearson                                                           \n",
      "1913  John Steinbeck                                                                                  \n",
      "3874  Fyodor Dostoyevsky, Richard Pevear, Larissa Volokhonsky                                         \n",
      "\n",
      "                                  original_title  average_rating  \n",
      "3215  á¼¸ÏÏÎ¿ÏÎ¯Î±Î¹                           3.97            \n",
      "5412  InÃ©s del alma mÃ­a                         3.90            \n",
      "7117  What to Expect the First Year               3.86            \n",
      "241   Atlas Shrugged                              3.68            \n",
      "1278  Mostly Harmless                             3.96            \n",
      "2678  Chapterhouse: Dune                          3.89            \n",
      "245   How to Win Friends and Influence People     4.13            \n",
      "6851  Giada's Family Dinners                      3.99            \n",
      "1913  Travels with Charley: In Search of America  4.07            \n",
      "3874  ÐÐµÑÑ                                    4.26            \n"
     ]
    }
   ],
   "source": [
    "already_rated, predictions = recommend_books(preds_df, 121, books, ratings, 10)\n",
    "print(pd.DataFrame(predictions))"
   ]
  },
  {
   "cell_type": "code",
   "execution_count": 73,
   "metadata": {},
   "outputs": [],
   "source": [
    "from surprise import Reader, Dataset, SVD\n",
    "from surprise.model_selection import cross_validate\n",
    "\n",
    "# Load Reader library\n",
    "reader = Reader()\n",
    "\n",
    "# Load ratings dataset with Dataset library\n",
    "data = Dataset.load_from_df(sample_rating[['user_id', 'book_id', 'rating']], reader)\n",
    "\n",
    "# Split the dataset for 5-fold evaluation\n",
    "#data = data.build_full_trainset()\n",
    "#data.split(n_folds=5)"
   ]
  },
  {
   "cell_type": "code",
   "execution_count": 74,
   "metadata": {},
   "outputs": [
    {
     "name": "stdout",
     "output_type": "stream",
     "text": [
      "Evaluating RMSE of algorithm SVD on 5 split(s).\n",
      "\n",
      "                  Fold 1  Fold 2  Fold 3  Fold 4  Fold 5  Mean    Std     \n",
      "RMSE (testset)    0.9434  0.9674  0.9752  0.9606  0.9629  0.9619  0.0105  \n",
      "Fit time          0.43    0.45    0.46    0.42    0.42    0.44    0.02    \n",
      "Test time         0.01    0.01    0.01    0.01    0.01    0.01    0.00    \n"
     ]
    },
    {
     "data": {
      "text/plain": [
       "{'test_rmse': array([0.94341289, 0.96739139, 0.97521926, 0.96055481, 0.96294838]),\n",
       " 'fit_time': (0.43184828758239746,\n",
       "  0.4499936103820801,\n",
       "  0.45977115631103516,\n",
       "  0.4189178943634033,\n",
       "  0.4228174686431885),\n",
       " 'test_time': (0.012965917587280273,\n",
       "  0.010883331298828125,\n",
       "  0.010970592498779297,\n",
       "  0.008964061737060547,\n",
       "  0.009995222091674805)}"
      ]
     },
     "execution_count": 74,
     "metadata": {},
     "output_type": "execute_result"
    }
   ],
   "source": [
    "# Use the SVD algorithm.\n",
    "svd = SVD()\n",
    "\n",
    "# Compute the RMSE of the SVD algorithm.\n",
    "cross_validate(svd, data, measures=['RMSE'],verbose=True)"
   ]
  },
  {
   "cell_type": "code",
   "execution_count": 65,
   "metadata": {},
   "outputs": [
    {
     "data": {
      "text/html": [
       "<div>\n",
       "<style scoped>\n",
       "    .dataframe tbody tr th:only-of-type {\n",
       "        vertical-align: middle;\n",
       "    }\n",
       "\n",
       "    .dataframe tbody tr th {\n",
       "        vertical-align: top;\n",
       "    }\n",
       "\n",
       "    .dataframe thead th {\n",
       "        text-align: right;\n",
       "    }\n",
       "</style>\n",
       "<table border=\"1\" class=\"dataframe\">\n",
       "  <thead>\n",
       "    <tr style=\"text-align: right;\">\n",
       "      <th></th>\n",
       "      <th>book_id</th>\n",
       "      <th>user_id</th>\n",
       "      <th>rating</th>\n",
       "    </tr>\n",
       "  </thead>\n",
       "  <tbody>\n",
       "    <tr>\n",
       "      <th>932956</th>\n",
       "      <td>9473</td>\n",
       "      <td>21</td>\n",
       "      <td>3</td>\n",
       "    </tr>\n",
       "  </tbody>\n",
       "</table>\n",
       "</div>"
      ],
      "text/plain": [
       "        book_id  user_id  rating\n",
       "932956  9473     21       3     "
      ]
     },
     "execution_count": 65,
     "metadata": {},
     "output_type": "execute_result"
    }
   ],
   "source": [
    "sample_rating[sample_rating['user_id'] == 21].head()"
   ]
  },
  {
   "cell_type": "code",
   "execution_count": 66,
   "metadata": {},
   "outputs": [
    {
     "data": {
      "text/plain": [
       "Prediction(uid=21, iid=1994, r_ui=None, est=3.832077317690643, details={'was_impossible': False})"
      ]
     },
     "execution_count": 66,
     "metadata": {},
     "output_type": "execute_result"
    }
   ],
   "source": [
    "svd.predict(21, 1994)\n"
   ]
  },
  {
   "cell_type": "code",
   "execution_count": null,
   "metadata": {},
   "outputs": [],
   "source": []
  }
 ],
 "metadata": {
  "kernelspec": {
   "display_name": "Python 3",
   "language": "python",
   "name": "python3"
  },
  "language_info": {
   "codemirror_mode": {
    "name": "ipython",
    "version": 3
   },
   "file_extension": ".py",
   "mimetype": "text/x-python",
   "name": "python",
   "nbconvert_exporter": "python",
   "pygments_lexer": "ipython3",
   "version": "3.7.3"
  }
 },
 "nbformat": 4,
 "nbformat_minor": 4
}
