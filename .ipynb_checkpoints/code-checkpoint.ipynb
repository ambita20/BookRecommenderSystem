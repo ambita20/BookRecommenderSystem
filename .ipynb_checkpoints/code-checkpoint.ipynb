{
 "cells": [
  {
   "cell_type": "markdown",
   "metadata": {},
   "source": [
    "# Book Recommender System\n",
    "## MS Capstone Project\n",
    "<div>\n",
    "<img src=\"https://miro.medium.com/max/2722/1*BE61Ks1IZdXMv2MnIKSH1g.png\" width=\"900\"/>\n",
    "</div>\n",
    "Recommender systems have become an integral part of many e-commerce companies. From Amazon to Netflix, recommender systems help users to explore items/ songs/ movies which are similar to their tastes. They also have significantly impacted businesses by increasing purchases resulting in increased revenue. This project builds a recommender system from books whose details are stored in the good reads database. Many advances have been made in identifying best algorithms to make these recommendations. This project explores 3 popular ones. Content-based filtering approach uses the book titles and ratings to suggest books to users. In the collaborative filtering (CF) approach, user-user as well as item-item approach have been explored. Finally, I have applied the Singular Value Decomposition (SVD) which is one of the most popular approaches.\n"
   ]
  },
  {
   "cell_type": "markdown",
   "metadata": {},
   "source": [
    "### Importing the libraries"
   ]
  },
  {
   "cell_type": "code",
   "execution_count": 176,
   "metadata": {},
   "outputs": [],
   "source": [
    "#importing libraries\n",
    "import numpy as np\n",
    "import pandas as pd\n",
    "import matplotlib.pyplot as plt\n",
    "import seaborn as sns\n",
    "import string\n",
    "from sklearn.feature_extraction.text import CountVectorizer,TfidfVectorizer #Perform TF-IDF\n",
    "from sklearn.feature_extraction import DictVectorizer\n",
    "from spacy import displacy\n",
    "from sklearn.model_selection import train_test_split\n",
    "from IPython.display import Image, HTML   #Displaying images\n",
    "from wordcloud import WordCloud, ImageColorGenerator #Form wordcloud\n",
    "from sklearn.metrics.pairwise import cosine_similarity #Find cosine similarity\n",
    "from sklearn.metrics.pairwise import pairwise_distances #Compute the distance matrix from a vector array X and optional Y\n",
    "from sklearn.metrics import mean_squared_error\n",
    "from math import sqrt\n",
    "from surprise import Reader, Dataset, SVD\n",
    "from surprise.model_selection import cross_validate\n",
    "from surprise.model_selection import KFold\n",
    "from scipy.sparse.linalg import svds\n",
    "sns.set_style(\"whitegrid\")"
   ]
  },
  {
   "cell_type": "markdown",
   "metadata": {},
   "source": [
    "### Reading the data"
   ]
  },
  {
   "cell_type": "code",
   "execution_count": 177,
   "metadata": {},
   "outputs": [
    {
     "data": {
      "text/html": [
       "<div>\n",
       "<style scoped>\n",
       "    .dataframe tbody tr th:only-of-type {\n",
       "        vertical-align: middle;\n",
       "    }\n",
       "\n",
       "    .dataframe tbody tr th {\n",
       "        vertical-align: top;\n",
       "    }\n",
       "\n",
       "    .dataframe thead th {\n",
       "        text-align: right;\n",
       "    }\n",
       "</style>\n",
       "<table border=\"1\" class=\"dataframe\">\n",
       "  <thead>\n",
       "    <tr style=\"text-align: right;\">\n",
       "      <th></th>\n",
       "      <th>id</th>\n",
       "      <th>book_id</th>\n",
       "      <th>best_book_id</th>\n",
       "      <th>work_id</th>\n",
       "      <th>books_count</th>\n",
       "      <th>isbn</th>\n",
       "      <th>isbn13</th>\n",
       "      <th>authors</th>\n",
       "      <th>original_publication_year</th>\n",
       "      <th>original_title</th>\n",
       "      <th>...</th>\n",
       "      <th>ratings_count</th>\n",
       "      <th>work_ratings_count</th>\n",
       "      <th>work_text_reviews_count</th>\n",
       "      <th>ratings_1</th>\n",
       "      <th>ratings_2</th>\n",
       "      <th>ratings_3</th>\n",
       "      <th>ratings_4</th>\n",
       "      <th>ratings_5</th>\n",
       "      <th>image_url</th>\n",
       "      <th>small_image_url</th>\n",
       "    </tr>\n",
       "  </thead>\n",
       "  <tbody>\n",
       "    <tr>\n",
       "      <th>0</th>\n",
       "      <td>1</td>\n",
       "      <td>2767052</td>\n",
       "      <td>2767052</td>\n",
       "      <td>2792775</td>\n",
       "      <td>272</td>\n",
       "      <td>439023483</td>\n",
       "      <td>9.780439e+12</td>\n",
       "      <td>Suzanne Collins</td>\n",
       "      <td>2008.0</td>\n",
       "      <td>The Hunger Games</td>\n",
       "      <td>...</td>\n",
       "      <td>4780653</td>\n",
       "      <td>4942365</td>\n",
       "      <td>155254</td>\n",
       "      <td>66715</td>\n",
       "      <td>127936</td>\n",
       "      <td>560092</td>\n",
       "      <td>1481305</td>\n",
       "      <td>2706317</td>\n",
       "      <td>https://images.gr-assets.com/books/1447303603m/2767052.jpg</td>\n",
       "      <td>https://images.gr-assets.com/books/1447303603s/2767052.jpg</td>\n",
       "    </tr>\n",
       "    <tr>\n",
       "      <th>1</th>\n",
       "      <td>2</td>\n",
       "      <td>3</td>\n",
       "      <td>3</td>\n",
       "      <td>4640799</td>\n",
       "      <td>491</td>\n",
       "      <td>439554934</td>\n",
       "      <td>9.780440e+12</td>\n",
       "      <td>J.K. Rowling, Mary GrandPrÃ©</td>\n",
       "      <td>1997.0</td>\n",
       "      <td>Harry Potter and the Philosopher's Stone</td>\n",
       "      <td>...</td>\n",
       "      <td>4602479</td>\n",
       "      <td>4800065</td>\n",
       "      <td>75867</td>\n",
       "      <td>75504</td>\n",
       "      <td>101676</td>\n",
       "      <td>455024</td>\n",
       "      <td>1156318</td>\n",
       "      <td>3011543</td>\n",
       "      <td>https://images.gr-assets.com/books/1474154022m/3.jpg</td>\n",
       "      <td>https://images.gr-assets.com/books/1474154022s/3.jpg</td>\n",
       "    </tr>\n",
       "    <tr>\n",
       "      <th>2</th>\n",
       "      <td>3</td>\n",
       "      <td>41865</td>\n",
       "      <td>41865</td>\n",
       "      <td>3212258</td>\n",
       "      <td>226</td>\n",
       "      <td>316015849</td>\n",
       "      <td>9.780316e+12</td>\n",
       "      <td>Stephenie Meyer</td>\n",
       "      <td>2005.0</td>\n",
       "      <td>Twilight</td>\n",
       "      <td>...</td>\n",
       "      <td>3866839</td>\n",
       "      <td>3916824</td>\n",
       "      <td>95009</td>\n",
       "      <td>456191</td>\n",
       "      <td>436802</td>\n",
       "      <td>793319</td>\n",
       "      <td>875073</td>\n",
       "      <td>1355439</td>\n",
       "      <td>https://images.gr-assets.com/books/1361039443m/41865.jpg</td>\n",
       "      <td>https://images.gr-assets.com/books/1361039443s/41865.jpg</td>\n",
       "    </tr>\n",
       "    <tr>\n",
       "      <th>3</th>\n",
       "      <td>4</td>\n",
       "      <td>2657</td>\n",
       "      <td>2657</td>\n",
       "      <td>3275794</td>\n",
       "      <td>487</td>\n",
       "      <td>61120081</td>\n",
       "      <td>9.780061e+12</td>\n",
       "      <td>Harper Lee</td>\n",
       "      <td>1960.0</td>\n",
       "      <td>To Kill a Mockingbird</td>\n",
       "      <td>...</td>\n",
       "      <td>3198671</td>\n",
       "      <td>3340896</td>\n",
       "      <td>72586</td>\n",
       "      <td>60427</td>\n",
       "      <td>117415</td>\n",
       "      <td>446835</td>\n",
       "      <td>1001952</td>\n",
       "      <td>1714267</td>\n",
       "      <td>https://images.gr-assets.com/books/1361975680m/2657.jpg</td>\n",
       "      <td>https://images.gr-assets.com/books/1361975680s/2657.jpg</td>\n",
       "    </tr>\n",
       "    <tr>\n",
       "      <th>4</th>\n",
       "      <td>5</td>\n",
       "      <td>4671</td>\n",
       "      <td>4671</td>\n",
       "      <td>245494</td>\n",
       "      <td>1356</td>\n",
       "      <td>743273567</td>\n",
       "      <td>9.780743e+12</td>\n",
       "      <td>F. Scott Fitzgerald</td>\n",
       "      <td>1925.0</td>\n",
       "      <td>The Great Gatsby</td>\n",
       "      <td>...</td>\n",
       "      <td>2683664</td>\n",
       "      <td>2773745</td>\n",
       "      <td>51992</td>\n",
       "      <td>86236</td>\n",
       "      <td>197621</td>\n",
       "      <td>606158</td>\n",
       "      <td>936012</td>\n",
       "      <td>947718</td>\n",
       "      <td>https://images.gr-assets.com/books/1490528560m/4671.jpg</td>\n",
       "      <td>https://images.gr-assets.com/books/1490528560s/4671.jpg</td>\n",
       "    </tr>\n",
       "  </tbody>\n",
       "</table>\n",
       "<p>5 rows × 23 columns</p>\n",
       "</div>"
      ],
      "text/plain": [
       "   id  book_id  best_book_id  work_id  books_count       isbn        isbn13  \\\n",
       "0  1   2767052  2767052       2792775  272          439023483  9.780439e+12   \n",
       "1  2   3        3             4640799  491          439554934  9.780440e+12   \n",
       "2  3   41865    41865         3212258  226          316015849  9.780316e+12   \n",
       "3  4   2657     2657          3275794  487          61120081   9.780061e+12   \n",
       "4  5   4671     4671          245494   1356         743273567  9.780743e+12   \n",
       "\n",
       "                        authors  original_publication_year  \\\n",
       "0  Suzanne Collins               2008.0                      \n",
       "1  J.K. Rowling, Mary GrandPrÃ©  1997.0                      \n",
       "2  Stephenie Meyer               2005.0                      \n",
       "3  Harper Lee                    1960.0                      \n",
       "4  F. Scott Fitzgerald           1925.0                      \n",
       "\n",
       "                             original_title  ... ratings_count  \\\n",
       "0  The Hunger Games                          ...  4780653        \n",
       "1  Harry Potter and the Philosopher's Stone  ...  4602479        \n",
       "2  Twilight                                  ...  3866839        \n",
       "3  To Kill a Mockingbird                     ...  3198671        \n",
       "4  The Great Gatsby                          ...  2683664        \n",
       "\n",
       "  work_ratings_count  work_text_reviews_count  ratings_1  ratings_2  \\\n",
       "0  4942365            155254                   66715      127936      \n",
       "1  4800065            75867                    75504      101676      \n",
       "2  3916824            95009                    456191     436802      \n",
       "3  3340896            72586                    60427      117415      \n",
       "4  2773745            51992                    86236      197621      \n",
       "\n",
       "   ratings_3  ratings_4  ratings_5  \\\n",
       "0  560092     1481305    2706317     \n",
       "1  455024     1156318    3011543     \n",
       "2  793319     875073     1355439     \n",
       "3  446835     1001952    1714267     \n",
       "4  606158     936012     947718      \n",
       "\n",
       "                                                    image_url  \\\n",
       "0  https://images.gr-assets.com/books/1447303603m/2767052.jpg   \n",
       "1  https://images.gr-assets.com/books/1474154022m/3.jpg         \n",
       "2  https://images.gr-assets.com/books/1361039443m/41865.jpg     \n",
       "3  https://images.gr-assets.com/books/1361975680m/2657.jpg      \n",
       "4  https://images.gr-assets.com/books/1490528560m/4671.jpg      \n",
       "\n",
       "                                              small_image_url  \n",
       "0  https://images.gr-assets.com/books/1447303603s/2767052.jpg  \n",
       "1  https://images.gr-assets.com/books/1474154022s/3.jpg        \n",
       "2  https://images.gr-assets.com/books/1361039443s/41865.jpg    \n",
       "3  https://images.gr-assets.com/books/1361975680s/2657.jpg     \n",
       "4  https://images.gr-assets.com/books/1490528560s/4671.jpg     \n",
       "\n",
       "[5 rows x 23 columns]"
      ]
     },
     "execution_count": 177,
     "metadata": {},
     "output_type": "execute_result"
    }
   ],
   "source": [
    "#reading the books file\n",
    "books = pd.read_csv('data/books.csv', encoding = \"ISO-8859-1\")\n",
    "books.head()"
   ]
  },
  {
   "cell_type": "code",
   "execution_count": 178,
   "metadata": {},
   "outputs": [
    {
     "data": {
      "text/plain": [
       "(10000, 23)"
      ]
     },
     "execution_count": 178,
     "metadata": {},
     "output_type": "execute_result"
    }
   ],
   "source": [
    "books.shape"
   ]
  },
  {
   "cell_type": "markdown",
   "metadata": {},
   "source": [
    "The books table has 10,000 observations and 23 columns."
   ]
  },
  {
   "cell_type": "code",
   "execution_count": 179,
   "metadata": {},
   "outputs": [
    {
     "data": {
      "text/html": [
       "<div>\n",
       "<style scoped>\n",
       "    .dataframe tbody tr th:only-of-type {\n",
       "        vertical-align: middle;\n",
       "    }\n",
       "\n",
       "    .dataframe tbody tr th {\n",
       "        vertical-align: top;\n",
       "    }\n",
       "\n",
       "    .dataframe thead th {\n",
       "        text-align: right;\n",
       "    }\n",
       "</style>\n",
       "<table border=\"1\" class=\"dataframe\">\n",
       "  <thead>\n",
       "    <tr style=\"text-align: right;\">\n",
       "      <th></th>\n",
       "      <th>goodreads_book_id</th>\n",
       "      <th>tag_id</th>\n",
       "      <th>count</th>\n",
       "    </tr>\n",
       "  </thead>\n",
       "  <tbody>\n",
       "    <tr>\n",
       "      <th>0</th>\n",
       "      <td>1</td>\n",
       "      <td>30574</td>\n",
       "      <td>167697</td>\n",
       "    </tr>\n",
       "    <tr>\n",
       "      <th>1</th>\n",
       "      <td>1</td>\n",
       "      <td>11305</td>\n",
       "      <td>37174</td>\n",
       "    </tr>\n",
       "    <tr>\n",
       "      <th>2</th>\n",
       "      <td>1</td>\n",
       "      <td>11557</td>\n",
       "      <td>34173</td>\n",
       "    </tr>\n",
       "    <tr>\n",
       "      <th>3</th>\n",
       "      <td>1</td>\n",
       "      <td>8717</td>\n",
       "      <td>12986</td>\n",
       "    </tr>\n",
       "    <tr>\n",
       "      <th>4</th>\n",
       "      <td>1</td>\n",
       "      <td>33114</td>\n",
       "      <td>12716</td>\n",
       "    </tr>\n",
       "  </tbody>\n",
       "</table>\n",
       "</div>"
      ],
      "text/plain": [
       "   goodreads_book_id  tag_id   count\n",
       "0  1                  30574   167697\n",
       "1  1                  11305   37174 \n",
       "2  1                  11557   34173 \n",
       "3  1                  8717    12986 \n",
       "4  1                  33114   12716 "
      ]
     },
     "execution_count": 179,
     "metadata": {},
     "output_type": "execute_result"
    }
   ],
   "source": [
    "#reading the book tags file\n",
    "book_tags = pd.read_csv('data/book_tags.csv', encoding = \"ISO-8859-1\")\n",
    "book_tags.head()"
   ]
  },
  {
   "cell_type": "code",
   "execution_count": 180,
   "metadata": {},
   "outputs": [
    {
     "data": {
      "text/plain": [
       "(999912, 3)"
      ]
     },
     "execution_count": 180,
     "metadata": {},
     "output_type": "execute_result"
    }
   ],
   "source": [
    "book_tags.shape"
   ]
  },
  {
   "cell_type": "markdown",
   "metadata": {},
   "source": [
    "The book tags table has 999912 observations and 3 columns"
   ]
  },
  {
   "cell_type": "code",
   "execution_count": 181,
   "metadata": {},
   "outputs": [
    {
     "data": {
      "text/html": [
       "<div>\n",
       "<style scoped>\n",
       "    .dataframe tbody tr th:only-of-type {\n",
       "        vertical-align: middle;\n",
       "    }\n",
       "\n",
       "    .dataframe tbody tr th {\n",
       "        vertical-align: top;\n",
       "    }\n",
       "\n",
       "    .dataframe thead th {\n",
       "        text-align: right;\n",
       "    }\n",
       "</style>\n",
       "<table border=\"1\" class=\"dataframe\">\n",
       "  <thead>\n",
       "    <tr style=\"text-align: right;\">\n",
       "      <th></th>\n",
       "      <th>book_id</th>\n",
       "      <th>user_id</th>\n",
       "      <th>rating</th>\n",
       "    </tr>\n",
       "  </thead>\n",
       "  <tbody>\n",
       "    <tr>\n",
       "      <th>0</th>\n",
       "      <td>1</td>\n",
       "      <td>314</td>\n",
       "      <td>5</td>\n",
       "    </tr>\n",
       "    <tr>\n",
       "      <th>1</th>\n",
       "      <td>1</td>\n",
       "      <td>439</td>\n",
       "      <td>3</td>\n",
       "    </tr>\n",
       "    <tr>\n",
       "      <th>2</th>\n",
       "      <td>1</td>\n",
       "      <td>588</td>\n",
       "      <td>5</td>\n",
       "    </tr>\n",
       "    <tr>\n",
       "      <th>3</th>\n",
       "      <td>1</td>\n",
       "      <td>1169</td>\n",
       "      <td>4</td>\n",
       "    </tr>\n",
       "    <tr>\n",
       "      <th>4</th>\n",
       "      <td>1</td>\n",
       "      <td>1185</td>\n",
       "      <td>4</td>\n",
       "    </tr>\n",
       "  </tbody>\n",
       "</table>\n",
       "</div>"
      ],
      "text/plain": [
       "   book_id  user_id  rating\n",
       "0  1        314      5     \n",
       "1  1        439      3     \n",
       "2  1        588      5     \n",
       "3  1        1169     4     \n",
       "4  1        1185     4     "
      ]
     },
     "execution_count": 181,
     "metadata": {},
     "output_type": "execute_result"
    }
   ],
   "source": [
    "#reading the ratings file\n",
    "ratings = pd.read_csv('data/ratings.csv', encoding = \"ISO-8859-1\")\n",
    "ratings.head()\n"
   ]
  },
  {
   "cell_type": "code",
   "execution_count": 182,
   "metadata": {},
   "outputs": [
    {
     "data": {
      "text/plain": [
       "(981756, 3)"
      ]
     },
     "execution_count": 182,
     "metadata": {},
     "output_type": "execute_result"
    }
   ],
   "source": [
    "ratings.shape"
   ]
  },
  {
   "cell_type": "code",
   "execution_count": 183,
   "metadata": {},
   "outputs": [
    {
     "name": "stdout",
     "output_type": "stream",
     "text": [
      "<class 'pandas.core.frame.DataFrame'>\n",
      "RangeIndex: 981756 entries, 0 to 981755\n",
      "Data columns (total 3 columns):\n",
      "book_id    981756 non-null int64\n",
      "user_id    981756 non-null int64\n",
      "rating     981756 non-null int64\n",
      "dtypes: int64(3)\n",
      "memory usage: 22.5 MB\n"
     ]
    }
   ],
   "source": [
    "ratings.info()"
   ]
  },
  {
   "cell_type": "raw",
   "metadata": {},
   "source": [
    "Ratings has 981756 observations and 3 columns"
   ]
  },
  {
   "cell_type": "code",
   "execution_count": 184,
   "metadata": {},
   "outputs": [
    {
     "data": {
      "text/html": [
       "<div>\n",
       "<style scoped>\n",
       "    .dataframe tbody tr th:only-of-type {\n",
       "        vertical-align: middle;\n",
       "    }\n",
       "\n",
       "    .dataframe tbody tr th {\n",
       "        vertical-align: top;\n",
       "    }\n",
       "\n",
       "    .dataframe thead th {\n",
       "        text-align: right;\n",
       "    }\n",
       "</style>\n",
       "<table border=\"1\" class=\"dataframe\">\n",
       "  <thead>\n",
       "    <tr style=\"text-align: right;\">\n",
       "      <th></th>\n",
       "      <th>tag_id</th>\n",
       "      <th>tag_name</th>\n",
       "    </tr>\n",
       "  </thead>\n",
       "  <tbody>\n",
       "    <tr>\n",
       "      <th>0</th>\n",
       "      <td>0</td>\n",
       "      <td>-</td>\n",
       "    </tr>\n",
       "    <tr>\n",
       "      <th>1</th>\n",
       "      <td>1</td>\n",
       "      <td>--1-</td>\n",
       "    </tr>\n",
       "    <tr>\n",
       "      <th>2</th>\n",
       "      <td>2</td>\n",
       "      <td>--10-</td>\n",
       "    </tr>\n",
       "    <tr>\n",
       "      <th>3</th>\n",
       "      <td>3</td>\n",
       "      <td>--12-</td>\n",
       "    </tr>\n",
       "    <tr>\n",
       "      <th>4</th>\n",
       "      <td>4</td>\n",
       "      <td>--122-</td>\n",
       "    </tr>\n",
       "  </tbody>\n",
       "</table>\n",
       "</div>"
      ],
      "text/plain": [
       "   tag_id tag_name\n",
       "0  0       -      \n",
       "1  1       --1-   \n",
       "2  2       --10-  \n",
       "3  3       --12-  \n",
       "4  4       --122- "
      ]
     },
     "execution_count": 184,
     "metadata": {},
     "output_type": "execute_result"
    }
   ],
   "source": [
    "#reading the tags file\n",
    "tags = pd.read_csv('data/tags.csv', encoding = \"ISO-8859-1\")\n",
    "tags.head()"
   ]
  },
  {
   "cell_type": "code",
   "execution_count": 185,
   "metadata": {},
   "outputs": [
    {
     "data": {
      "text/plain": [
       "(34252, 2)"
      ]
     },
     "execution_count": 185,
     "metadata": {},
     "output_type": "execute_result"
    }
   ],
   "source": [
    "tags.shape"
   ]
  },
  {
   "cell_type": "markdown",
   "metadata": {},
   "source": [
    "The tags table has 34252 rows and 2 columns"
   ]
  },
  {
   "cell_type": "code",
   "execution_count": 186,
   "metadata": {},
   "outputs": [
    {
     "data": {
      "text/html": [
       "<div>\n",
       "<style scoped>\n",
       "    .dataframe tbody tr th:only-of-type {\n",
       "        vertical-align: middle;\n",
       "    }\n",
       "\n",
       "    .dataframe tbody tr th {\n",
       "        vertical-align: top;\n",
       "    }\n",
       "\n",
       "    .dataframe thead th {\n",
       "        text-align: right;\n",
       "    }\n",
       "</style>\n",
       "<table border=\"1\" class=\"dataframe\">\n",
       "  <thead>\n",
       "    <tr style=\"text-align: right;\">\n",
       "      <th></th>\n",
       "      <th>user_id</th>\n",
       "      <th>book_id</th>\n",
       "    </tr>\n",
       "  </thead>\n",
       "  <tbody>\n",
       "    <tr>\n",
       "      <th>0</th>\n",
       "      <td>1</td>\n",
       "      <td>112</td>\n",
       "    </tr>\n",
       "    <tr>\n",
       "      <th>1</th>\n",
       "      <td>1</td>\n",
       "      <td>235</td>\n",
       "    </tr>\n",
       "    <tr>\n",
       "      <th>2</th>\n",
       "      <td>1</td>\n",
       "      <td>533</td>\n",
       "    </tr>\n",
       "    <tr>\n",
       "      <th>3</th>\n",
       "      <td>1</td>\n",
       "      <td>1198</td>\n",
       "    </tr>\n",
       "    <tr>\n",
       "      <th>4</th>\n",
       "      <td>1</td>\n",
       "      <td>1874</td>\n",
       "    </tr>\n",
       "  </tbody>\n",
       "</table>\n",
       "</div>"
      ],
      "text/plain": [
       "   user_id  book_id\n",
       "0  1        112    \n",
       "1  1        235    \n",
       "2  1        533    \n",
       "3  1        1198   \n",
       "4  1        1874   "
      ]
     },
     "execution_count": 186,
     "metadata": {},
     "output_type": "execute_result"
    }
   ],
   "source": [
    "#reading the to_read file\n",
    "to_read = pd.read_csv('data/to_read.csv', encoding = \"ISO-8859-1\")\n",
    "to_read.head()"
   ]
  },
  {
   "cell_type": "code",
   "execution_count": 187,
   "metadata": {},
   "outputs": [
    {
     "data": {
      "text/plain": [
       "(912705, 2)"
      ]
     },
     "execution_count": 187,
     "metadata": {},
     "output_type": "execute_result"
    }
   ],
   "source": [
    "to_read.shape"
   ]
  },
  {
   "cell_type": "markdown",
   "metadata": {},
   "source": [
    "The table to_read has 912705 observations and 2 columns"
   ]
  },
  {
   "cell_type": "markdown",
   "metadata": {},
   "source": [
    "### Data Pre-processing\n",
    "The next step is pre-processing our data. We will perform the following steps in cleaning the data.\n",
    "1. Remove missing values\n",
    "2. Remove duplicates\n",
    "3. Remove all non-ASCII characters from book names\n",
    "4. Remove user-rating pairs which are very few"
   ]
  },
  {
   "cell_type": "markdown",
   "metadata": {},
   "source": [
    "1. Missing values"
   ]
  },
  {
   "cell_type": "code",
   "execution_count": 188,
   "metadata": {},
   "outputs": [
    {
     "data": {
      "text/plain": [
       "id                           0.0000\n",
       "book_id                      0.0000\n",
       "best_book_id                 0.0000\n",
       "work_id                      0.0000\n",
       "books_count                  0.0000\n",
       "isbn                         0.0700\n",
       "isbn13                       0.0585\n",
       "authors                      0.0000\n",
       "original_publication_year    0.0021\n",
       "original_title               0.0585\n",
       "title                        0.0000\n",
       "language_code                0.1084\n",
       "average_rating               0.0000\n",
       "ratings_count                0.0000\n",
       "work_ratings_count           0.0000\n",
       "work_text_reviews_count      0.0000\n",
       "ratings_1                    0.0000\n",
       "ratings_2                    0.0000\n",
       "ratings_3                    0.0000\n",
       "ratings_4                    0.0000\n",
       "ratings_5                    0.0000\n",
       "image_url                    0.0000\n",
       "small_image_url              0.0000\n",
       "dtype: float64"
      ]
     },
     "execution_count": 188,
     "metadata": {},
     "output_type": "execute_result"
    }
   ],
   "source": [
    "books.isna().mean()"
   ]
  },
  {
   "cell_type": "markdown",
   "metadata": {},
   "source": [
    "Language code, isbn and original title have missing values. We can drop rows where original title is missing"
   ]
  },
  {
   "cell_type": "code",
   "execution_count": 189,
   "metadata": {},
   "outputs": [
    {
     "data": {
      "text/plain": [
       "(7860, 23)"
      ]
     },
     "execution_count": 189,
     "metadata": {},
     "output_type": "execute_result"
    }
   ],
   "source": [
    "books = books.dropna(how='any')\n",
    "books.shape"
   ]
  },
  {
   "cell_type": "markdown",
   "metadata": {},
   "source": [
    "2140 records have been dropped."
   ]
  },
  {
   "cell_type": "code",
   "execution_count": 190,
   "metadata": {},
   "outputs": [
    {
     "data": {
      "text/plain": [
       "goodreads_book_id    0.0\n",
       "tag_id               0.0\n",
       "count                0.0\n",
       "dtype: float64"
      ]
     },
     "execution_count": 190,
     "metadata": {},
     "output_type": "execute_result"
    }
   ],
   "source": [
    "book_tags.isna().mean()"
   ]
  },
  {
   "cell_type": "code",
   "execution_count": 191,
   "metadata": {},
   "outputs": [
    {
     "data": {
      "text/plain": [
       "book_id    0.0\n",
       "user_id    0.0\n",
       "rating     0.0\n",
       "dtype: float64"
      ]
     },
     "execution_count": 191,
     "metadata": {},
     "output_type": "execute_result"
    }
   ],
   "source": [
    "ratings.isna().mean()"
   ]
  },
  {
   "cell_type": "code",
   "execution_count": 192,
   "metadata": {},
   "outputs": [
    {
     "data": {
      "text/plain": [
       "tag_id      0.0\n",
       "tag_name    0.0\n",
       "dtype: float64"
      ]
     },
     "execution_count": 192,
     "metadata": {},
     "output_type": "execute_result"
    }
   ],
   "source": [
    "tags.isna().mean()"
   ]
  },
  {
   "cell_type": "code",
   "execution_count": 193,
   "metadata": {},
   "outputs": [
    {
     "data": {
      "text/plain": [
       "user_id    0.0\n",
       "book_id    0.0\n",
       "dtype: float64"
      ]
     },
     "execution_count": 193,
     "metadata": {},
     "output_type": "execute_result"
    }
   ],
   "source": [
    "to_read.isna().mean()"
   ]
  },
  {
   "cell_type": "markdown",
   "metadata": {},
   "source": [
    "Rest of the samples do not have any missing values. Let's also remove the duplicate values.\n",
    "\n",
    "2. Removing Duplicates"
   ]
  },
  {
   "cell_type": "code",
   "execution_count": 194,
   "metadata": {},
   "outputs": [
    {
     "data": {
      "text/plain": [
       "(977269, 3)"
      ]
     },
     "execution_count": 194,
     "metadata": {},
     "output_type": "execute_result"
    }
   ],
   "source": [
    "ratings.drop_duplicates(subset =[\"user_id\",\"book_id\"], \n",
    "                     keep = False, inplace = True) \n",
    "ratings.shape"
   ]
  },
  {
   "cell_type": "markdown",
   "metadata": {},
   "source": [
    " 4487 duplicates were removed"
   ]
  },
  {
   "cell_type": "code",
   "execution_count": 195,
   "metadata": {},
   "outputs": [
    {
     "name": "stdout",
     "output_type": "stream",
     "text": [
      "(7860, 23)\n",
      "(7661, 23)\n"
     ]
    }
   ],
   "source": [
    "print(books.shape)\n",
    "books.drop_duplicates(subset='original_title',keep=False,inplace=True)\n",
    "print(books.shape)"
   ]
  },
  {
   "cell_type": "markdown",
   "metadata": {},
   "source": [
    "199 rows removed."
   ]
  },
  {
   "cell_type": "code",
   "execution_count": 196,
   "metadata": {},
   "outputs": [
    {
     "name": "stdout",
     "output_type": "stream",
     "text": [
      "(34252, 2)\n",
      "(34252, 2)\n"
     ]
    }
   ],
   "source": [
    "print(tags.shape)\n",
    "tags.drop_duplicates(subset='tag_id',keep=False,inplace=True)\n",
    "print(tags.shape)"
   ]
  },
  {
   "cell_type": "markdown",
   "metadata": {},
   "source": [
    "There are no duplicates in tags."
   ]
  },
  {
   "cell_type": "code",
   "execution_count": 197,
   "metadata": {},
   "outputs": [
    {
     "name": "stdout",
     "output_type": "stream",
     "text": [
      "(999912, 3)\n",
      "(999896, 3)\n"
     ]
    }
   ],
   "source": [
    "print(book_tags.shape)\n",
    "book_tags.drop_duplicates(subset=['tag_id','goodreads_book_id'],keep=False,inplace=True)\n",
    "print(book_tags.shape)"
   ]
  },
  {
   "cell_type": "markdown",
   "metadata": {},
   "source": [
    "3. Remove Non-ASCII characters from book names"
   ]
  },
  {
   "cell_type": "code",
   "execution_count": 198,
   "metadata": {},
   "outputs": [
    {
     "data": {
      "text/plain": [
       "(7144, 23)"
      ]
     },
     "execution_count": 198,
     "metadata": {},
     "output_type": "execute_result"
    }
   ],
   "source": [
    "books = books[~books.original_title.str.contains(r'[^\\x00-\\x7F]')]\n",
    "books = books[~books.authors.str.contains(r'[^\\x00-\\x7F]')]\n",
    "books.shape"
   ]
  },
  {
   "cell_type": "markdown",
   "metadata": {},
   "source": [
    "4. Removing entries having few ratings\n",
    "The ratings data is huge with 981,756 entries. This will result is a memory error when we try to vectorize the features. Hence we'll remove ratings which were not frequent."
   ]
  },
  {
   "cell_type": "code",
   "execution_count": 199,
   "metadata": {},
   "outputs": [
    {
     "data": {
      "image/png": "[encoded data removed]",
      "text/plain": [
       "<Figure size 720x360 with 1 Axes>"
      ]
     },
     "metadata": {},
     "output_type": "display_data"
    }
   ],
   "source": [
    "plt.figure(figsize=(10,5))\n",
    "grouped_ratings=ratings.groupby('user_id').agg({'rating':'count'})\n",
    "sns.boxplot(grouped_ratings);"
   ]
  },
  {
   "cell_type": "code",
   "execution_count": 200,
   "metadata": {},
   "outputs": [
    {
     "data": {
      "text/plain": [
       "rating    3.0\n",
       "Name: 0.25, dtype: float64"
      ]
     },
     "execution_count": 200,
     "metadata": {},
     "output_type": "execute_result"
    }
   ],
   "source": [
    "grouped_ratings.quantile(0.25, numeric_only=False)\n"
   ]
  },
  {
   "cell_type": "code",
   "execution_count": 201,
   "metadata": {},
   "outputs": [
    {
     "data": {
      "text/plain": [
       "rating    22.0\n",
       "Name: 0.75, dtype: float64"
      ]
     },
     "execution_count": 201,
     "metadata": {},
     "output_type": "execute_result"
    }
   ],
   "source": [
    "grouped_ratings.quantile(0.75, numeric_only=False)"
   ]
  },
  {
   "cell_type": "markdown",
   "metadata": {},
   "source": [
    "We will keep users with ratings between 3 and 22."
   ]
  },
  {
   "cell_type": "code",
   "execution_count": 202,
   "metadata": {},
   "outputs": [],
   "source": [
    "grouped_ratings=grouped_ratings[(grouped_ratings[\"rating\"]>3) & (grouped_ratings[\"rating\"]<22)]\n",
    "grouped_ratings=grouped_ratings.reset_index();"
   ]
  },
  {
   "cell_type": "markdown",
   "metadata": {},
   "source": [
    "Now let's filter out the ratings table"
   ]
  },
  {
   "cell_type": "code",
   "execution_count": 203,
   "metadata": {},
   "outputs": [
    {
     "data": {
      "text/plain": [
       "(250763, 3)"
      ]
     },
     "execution_count": 203,
     "metadata": {},
     "output_type": "execute_result"
    }
   ],
   "source": [
    "ratings=ratings[ratings[\"user_id\"].isin(grouped_ratings[\"user_id\"].to_list()) ]\n",
    "ratings.shape"
   ]
  },
  {
   "cell_type": "markdown",
   "metadata": {},
   "source": [
    "Now we are left with 250763 rows but this may still lead to a memory error. Hence we will take a 5% sample of this data and proceed."
   ]
  },
  {
   "cell_type": "code",
   "execution_count": 204,
   "metadata": {},
   "outputs": [
    {
     "name": "stdout",
     "output_type": "stream",
     "text": [
      "<class 'pandas.core.frame.DataFrame'>\n",
      "Int64Index: 12538 entries, 729669 to 941844\n",
      "Data columns (total 3 columns):\n",
      "book_id    12538 non-null int64\n",
      "user_id    12538 non-null int64\n",
      "rating     12538 non-null int64\n",
      "dtypes: int64(3)\n",
      "memory usage: 391.8 KB\n",
      "None\n"
     ]
    }
   ],
   "source": [
    "# Randomly sample 1% of the ratings dataset\n",
    "sample_ratings = ratings.sample(frac=0.05,random_state=100)\n",
    "# Check the sample info\n",
    "print(sample_ratings.info())"
   ]
  },
  {
   "cell_type": "markdown",
   "metadata": {},
   "source": [
    "### Exploratory Data Analysis\n",
    "\n",
    "1. Distribution of the average ratings of the books:"
   ]
  },
  {
   "cell_type": "code",
   "execution_count": 205,
   "metadata": {},
   "outputs": [
    {
     "data": {
      "image/png": "[encoded data removed]",
      "text/plain": [
       "<Figure size 720x360 with 1 Axes>"
      ]
     },
     "metadata": {},
     "output_type": "display_data"
    }
   ],
   "source": [
    "plt.figure(figsize=(10,5))\n",
    "sns.distplot(a=books['average_rating'], kde=False);"
   ]
  },
  {
   "cell_type": "markdown",
   "metadata": {},
   "source": [
    "Most of the average ratings fall between 3.5-4.5\n",
    "\n",
    "2. Distribution of ratings given by users: "
   ]
  },
  {
   "cell_type": "code",
   "execution_count": 206,
   "metadata": {},
   "outputs": [
    {
     "data": {
      "image/png": "[encoded data removed]",
      "text/plain": [
       "<Figure size 360x360 with 1 Axes>"
      ]
     },
     "metadata": {},
     "output_type": "display_data"
    }
   ],
   "source": [
    "plt.figure(figsize=(5,5))\n",
    "fig=sns.countplot(x=sample_ratings['rating'],color=\"#5facfa\");"
   ]
  },
  {
   "cell_type": "markdown",
   "metadata": {},
   "source": [
    "Most of the ratings fall between 3-5.\n",
    "\n",
    "3. Top-rated Books based on average ratings:\n",
    "\n",
    "Now let's see some books which have high average ratings."
   ]
  },
  {
   "cell_type": "code",
   "execution_count": 207,
   "metadata": {},
   "outputs": [],
   "source": [
    "top_rated=books.sort_values('average_rating', ascending=False)\n",
    "top_10=top_rated.head(10)\n",
    "columns=['title','small_image_url']\n",
    "display=(top_10[columns])\n",
    "display.set_index('title', inplace=True)"
   ]
  },
  {
   "cell_type": "code",
   "execution_count": 208,
   "metadata": {},
   "outputs": [
    {
     "data": {
      "text/html": [
       "<table border=\"1\" class=\"dataframe\">\n",
       "  <thead>\n",
       "    <tr style=\"text-align: right;\">\n",
       "      <th></th>\n",
       "      <th>small_image_url</th>\n",
       "    </tr>\n",
       "    <tr>\n",
       "      <th>title</th>\n",
       "      <th></th>\n",
       "    </tr>\n",
       "  </thead>\n",
       "  <tbody>\n",
       "    <tr>\n",
       "      <th>The Complete Calvin and Hobbes</th>\n",
       "      <td><img src=\"https://images.gr-assets.com/books/1473064526s/24812.jpg\" style=max-height:124px;\"/></td>\n",
       "    </tr>\n",
       "    <tr>\n",
       "      <th>Words of Radiance (The Stormlight Archive, #2)</th>\n",
       "      <td><img src=\"https://images.gr-assets.com/books/1391535251s/17332218.jpg\" style=max-height:124px;\"/></td>\n",
       "    </tr>\n",
       "    <tr>\n",
       "      <th>Mark of the Lion Trilogy</th>\n",
       "      <td><img src=\"https://images.gr-assets.com/books/1349032180s/95602.jpg\" style=max-height:124px;\"/></td>\n",
       "    </tr>\n",
       "    <tr>\n",
       "      <th>It's a Magical World: A Calvin and Hobbes Collection</th>\n",
       "      <td><img src=\"https://images.gr-assets.com/books/1437420710s/24814.jpg\" style=max-height:124px;\"/></td>\n",
       "    </tr>\n",
       "    <tr>\n",
       "      <th>There's Treasure Everywhere: A Calvin and Hobbes Collection</th>\n",
       "      <td><img src=\"https://s.gr-assets.com/assets/nophoto/book/50x75-a91bf249278a81aabab721ef782c4a74.png\" style=max-height:124px;\"/></td>\n",
       "    </tr>\n",
       "    <tr>\n",
       "      <th>Harry Potter Boxset (Harry Potter, #1-7)</th>\n",
       "      <td><img src=\"https://images.gr-assets.com/books/1392579059s/862041.jpg\" style=max-height:124px;\"/></td>\n",
       "    </tr>\n",
       "    <tr>\n",
       "      <th>The Indispensable Calvin and Hobbes</th>\n",
       "      <td><img src=\"https://s.gr-assets.com/assets/nophoto/book/50x75-a91bf249278a81aabab721ef782c4a74.png\" style=max-height:124px;\"/></td>\n",
       "    </tr>\n",
       "    <tr>\n",
       "      <th>Harry Potter Collection (Harry Potter, #1-6)</th>\n",
       "      <td><img src=\"https://images.gr-assets.com/books/1328867351s/10.jpg\" style=max-height:124px;\"/></td>\n",
       "    </tr>\n",
       "    <tr>\n",
       "      <th>The Authoritative Calvin and Hobbes: A Calvin and Hobbes Treasury</th>\n",
       "      <td><img src=\"https://images.gr-assets.com/books/1391114055s/59715.jpg\" style=max-height:124px;\"/></td>\n",
       "    </tr>\n",
       "    <tr>\n",
       "      <th>Attack of the Deranged Mutant Killer Monster Snow Goons</th>\n",
       "      <td><img src=\"https://images.gr-assets.com/books/1384735429s/70487.jpg\" style=max-height:124px;\"/></td>\n",
       "    </tr>\n",
       "  </tbody>\n",
       "</table>"
      ],
      "text/plain": [
       "<IPython.core.display.HTML object>"
      ]
     },
     "execution_count": 208,
     "metadata": {},
     "output_type": "execute_result"
    }
   ],
   "source": [
    "#This function is used to form a path so that the image can be properly displayed.\n",
    "def path_to_image_html(path):\n",
    "    '''\n",
    "     This function essentially convert the image url to \n",
    "     '<img src=\"'+ path + '\"/>' format. And one can put any\n",
    "     formatting adjustments to control the height, aspect ratio, size etc.\n",
    "     within as in the below example. \n",
    "    '''\n",
    "\n",
    "    return '<img src=\"'+ path + '\" style=max-height:124px;\"/>'\n",
    "pd.set_option('display.max_colwidth', -1)\n",
    "HTML(display.to_html(escape=False ,formatters=dict(small_image_url=path_to_image_html)))"
   ]
  },
  {
   "cell_type": "markdown",
   "metadata": {},
   "source": [
    "4. Top10 rated books based on number of reviews received:"
   ]
  },
  {
   "cell_type": "code",
   "execution_count": 209,
   "metadata": {},
   "outputs": [],
   "source": [
    "popular=books.sort_values('ratings_count', ascending=False)\n",
    "pop_10=popular.head(10)\n",
    "columns_popular=['title','small_image_url']\n",
    "display_popular=(pop_10[columns_popular])\n",
    "display_popular.set_index('title', inplace=True)"
   ]
  },
  {
   "cell_type": "code",
   "execution_count": 210,
   "metadata": {},
   "outputs": [
    {
     "data": {
      "text/html": [
       "<table border=\"1\" class=\"dataframe\">\n",
       "  <thead>\n",
       "    <tr style=\"text-align: right;\">\n",
       "      <th></th>\n",
       "      <th>small_image_url</th>\n",
       "    </tr>\n",
       "    <tr>\n",
       "      <th>title</th>\n",
       "      <th></th>\n",
       "    </tr>\n",
       "  </thead>\n",
       "  <tbody>\n",
       "    <tr>\n",
       "      <th>The Hunger Games (The Hunger Games, #1)</th>\n",
       "      <td><img src=\"https://images.gr-assets.com/books/1447303603s/2767052.jpg\" style=max-height:124px;\"/></td>\n",
       "    </tr>\n",
       "    <tr>\n",
       "      <th>To Kill a Mockingbird</th>\n",
       "      <td><img src=\"https://images.gr-assets.com/books/1361975680s/2657.jpg\" style=max-height:124px;\"/></td>\n",
       "    </tr>\n",
       "    <tr>\n",
       "      <th>The Great Gatsby</th>\n",
       "      <td><img src=\"https://images.gr-assets.com/books/1490528560s/4671.jpg\" style=max-height:124px;\"/></td>\n",
       "    </tr>\n",
       "    <tr>\n",
       "      <th>The Fault in Our Stars</th>\n",
       "      <td><img src=\"https://images.gr-assets.com/books/1360206420s/11870085.jpg\" style=max-height:124px;\"/></td>\n",
       "    </tr>\n",
       "    <tr>\n",
       "      <th>The Hobbit</th>\n",
       "      <td><img src=\"https://images.gr-assets.com/books/1372847500s/5907.jpg\" style=max-height:124px;\"/></td>\n",
       "    </tr>\n",
       "    <tr>\n",
       "      <th>The Catcher in the Rye</th>\n",
       "      <td><img src=\"https://images.gr-assets.com/books/1398034300s/5107.jpg\" style=max-height:124px;\"/></td>\n",
       "    </tr>\n",
       "    <tr>\n",
       "      <th>Pride and Prejudice</th>\n",
       "      <td><img src=\"https://images.gr-assets.com/books/1320399351s/1885.jpg\" style=max-height:124px;\"/></td>\n",
       "    </tr>\n",
       "    <tr>\n",
       "      <th>Angels & Demons  (Robert Langdon, #1)</th>\n",
       "      <td><img src=\"https://images.gr-assets.com/books/1303390735s/960.jpg\" style=max-height:124px;\"/></td>\n",
       "    </tr>\n",
       "    <tr>\n",
       "      <th>The Diary of a Young Girl</th>\n",
       "      <td><img src=\"https://images.gr-assets.com/books/1358276407s/48855.jpg\" style=max-height:124px;\"/></td>\n",
       "    </tr>\n",
       "    <tr>\n",
       "      <th>Divergent (Divergent, #1)</th>\n",
       "      <td><img src=\"https://images.gr-assets.com/books/1328559506s/13335037.jpg\" style=max-height:124px;\"/></td>\n",
       "    </tr>\n",
       "  </tbody>\n",
       "</table>"
      ],
      "text/plain": [
       "<IPython.core.display.HTML object>"
      ]
     },
     "execution_count": 210,
     "metadata": {},
     "output_type": "execute_result"
    }
   ],
   "source": [
    "HTML(display_popular.to_html(escape=False ,formatters=dict(small_image_url=path_to_image_html)))"
   ]
  },
  {
   "cell_type": "markdown",
   "metadata": {},
   "source": [
    "5. Most popular authors:"
   ]
  },
  {
   "cell_type": "code",
   "execution_count": 211,
   "metadata": {},
   "outputs": [
    {
     "data": {
      "image/png": "[encoded data removed]",
      "text/plain": [
       "<Figure size 720x360 with 1 Axes>"
      ]
     },
     "metadata": {},
     "output_type": "display_data"
    }
   ],
   "source": [
    "authors=books.groupby('authors').agg({'average_rating':'mean','ratings_count':'sum'}).reset_index()\n",
    "top_rated_authors=authors.sort_values('average_rating', ascending=False).head(10)[['authors','average_rating']]\n",
    "most_pop_authors=authors.sort_values('ratings_count', ascending=False).head(10)[['authors','ratings_count']]\n",
    "plt.figure(figsize=(10,5))\n",
    "sns.barplot(data=most_pop_authors,x='ratings_count',y='authors',color=\"#5facfa\");\n"
   ]
  },
  {
   "cell_type": "markdown",
   "metadata": {},
   "source": [
    "6. Number of ratings per user"
   ]
  },
  {
   "cell_type": "code",
   "execution_count": 212,
   "metadata": {},
   "outputs": [
    {
     "data": {
      "image/png": "[encoded data removed]",
      "text/plain": [
       "<Figure size 720x360 with 1 Axes>"
      ]
     },
     "metadata": {},
     "output_type": "display_data"
    }
   ],
   "source": [
    "plt.figure(figsize=(10,5))\n",
    "sns.distplot(ratings.groupby('user_id').agg({'rating':'count'}),kde=False);"
   ]
  },
  {
   "cell_type": "markdown",
   "metadata": {},
   "source": [
    "7. Number of ratings per book"
   ]
  },
  {
   "cell_type": "code",
   "execution_count": 213,
   "metadata": {},
   "outputs": [
    {
     "data": {
      "image/png": "[encoded data removed]",
      "text/plain": [
       "<Figure size 720x360 with 1 Axes>"
      ]
     },
     "metadata": {},
     "output_type": "display_data"
    }
   ],
   "source": [
    "plt.figure(figsize=(10,5))\n",
    "sns.distplot(ratings.groupby('book_id').agg({'rating':'count'}),kde=False);"
   ]
  },
  {
   "cell_type": "markdown",
   "metadata": {},
   "source": [
    "7. Let's explore which genres are more famous"
   ]
  },
  {
   "cell_type": "code",
   "execution_count": 214,
   "metadata": {},
   "outputs": [],
   "source": [
    "#Since there are many random tags given by the users, I have picked a few frequent and popular tags.\n",
    "genres=[\"Art\", \"Biography\", \"Business\", \"Chick Lit\", \"Children's\", \"Christian\", \"Classics\", \"Comics\", \"Contemporary\", \"Cookbooks\", \"Crime\", \"Ebooks\", \"Fantasy\", \"Fiction\", \"Gay and Lesbian\", \"Graphic Novels\", \"Historical Fiction\", \"History\", \"Horror\", \"Humor and Comedy\", \"Manga\", \"Memoir\", \"Music\", \"Mystery\", \"Nonfiction\", \"Paranormal\", \"Philosophy\", \"Poetry\", \"Psychology\", \"Religion\", \"Romance\", \"Science\", \"Science Fiction\", \"Self Help\", \"Suspense\", \"Spirituality\", \"Sports\", \"Thriller\", \"Travel\", \"Young Adult\"]\n",
    "for i in range(len(genres)):\n",
    "    genres[i]=genres[i].lower()"
   ]
  },
  {
   "cell_type": "code",
   "execution_count": 215,
   "metadata": {},
   "outputs": [
    {
     "data": {
      "text/html": [
       "<div>\n",
       "<style scoped>\n",
       "    .dataframe tbody tr th:only-of-type {\n",
       "        vertical-align: middle;\n",
       "    }\n",
       "\n",
       "    .dataframe tbody tr th {\n",
       "        vertical-align: top;\n",
       "    }\n",
       "\n",
       "    .dataframe thead th {\n",
       "        text-align: right;\n",
       "    }\n",
       "</style>\n",
       "<table border=\"1\" class=\"dataframe\">\n",
       "  <thead>\n",
       "    <tr style=\"text-align: right;\">\n",
       "      <th></th>\n",
       "      <th>tag_id</th>\n",
       "      <th>goodreads_book_id</th>\n",
       "      <th>count</th>\n",
       "    </tr>\n",
       "    <tr>\n",
       "      <th>tag_name</th>\n",
       "      <th></th>\n",
       "      <th></th>\n",
       "      <th></th>\n",
       "    </tr>\n",
       "  </thead>\n",
       "  <tbody>\n",
       "    <tr>\n",
       "      <th>to-read</th>\n",
       "      <td>9983</td>\n",
       "      <td>9983</td>\n",
       "      <td>9983</td>\n",
       "    </tr>\n",
       "    <tr>\n",
       "      <th>favorites</th>\n",
       "      <td>9881</td>\n",
       "      <td>9881</td>\n",
       "      <td>9881</td>\n",
       "    </tr>\n",
       "    <tr>\n",
       "      <th>owned</th>\n",
       "      <td>9856</td>\n",
       "      <td>9856</td>\n",
       "      <td>9856</td>\n",
       "    </tr>\n",
       "    <tr>\n",
       "      <th>books-i-own</th>\n",
       "      <td>9799</td>\n",
       "      <td>9799</td>\n",
       "      <td>9799</td>\n",
       "    </tr>\n",
       "    <tr>\n",
       "      <th>currently-reading</th>\n",
       "      <td>9776</td>\n",
       "      <td>9776</td>\n",
       "      <td>9776</td>\n",
       "    </tr>\n",
       "  </tbody>\n",
       "</table>\n",
       "</div>"
      ],
      "text/plain": [
       "                   tag_id  goodreads_book_id  count\n",
       "tag_name                                           \n",
       "to-read            9983    9983               9983 \n",
       "favorites          9881    9881               9881 \n",
       "owned              9856    9856               9856 \n",
       "books-i-own        9799    9799               9799 \n",
       "currently-reading  9776    9776               9776 "
      ]
     },
     "execution_count": 215,
     "metadata": {},
     "output_type": "execute_result"
    }
   ],
   "source": [
    "#Grouping books by tags\n",
    "merged_tags=tags.merge(book_tags,on='tag_id',how='inner')\n",
    "book_genre=merged_tags.groupby('tag_name').count()\n",
    "book_genre=book_genre.sort_values(by='count', ascending=False)\n",
    "book_genre.head()"
   ]
  },
  {
   "cell_type": "code",
   "execution_count": 216,
   "metadata": {},
   "outputs": [],
   "source": [
    "new_tags=book_genre[book_genre.index.isin(genres)]\n",
    "#new_tags.reset_index()"
   ]
  },
  {
   "cell_type": "code",
   "execution_count": 217,
   "metadata": {},
   "outputs": [
    {
     "data": {
      "image/png": "[encoded data removed]",
      "text/plain": [
       "<Figure size 1080x648 with 1 Axes>"
      ]
     },
     "metadata": {},
     "output_type": "display_data"
    }
   ],
   "source": [
    "plt.figure(figsize=(15,9))\n",
    "sns.barplot(x=\"count\", y=new_tags.index,   data=new_tags,color=\"#5facfa\");\n"
   ]
  },
  {
   "cell_type": "markdown",
   "metadata": {},
   "source": [
    "Fiction seems to be the most popular while cookbook is the least popular."
   ]
  },
  {
   "cell_type": "code",
   "execution_count": 218,
   "metadata": {},
   "outputs": [
    {
     "data": {
      "image/png": "[encoded data removed]",
      "text/plain": [
       "<Figure size 576x576 with 1 Axes>"
      ]
     },
     "metadata": {},
     "output_type": "display_data"
    }
   ],
   "source": [
    "#Generating a wordcloud of the popular words in genre\n",
    "text = new_tags.index.values \n",
    "wordcloud = WordCloud(background_color=\"white\").generate(str(text))\n",
    "plt.figure(figsize = (8, 8), facecolor = None)\n",
    "plt.imshow(wordcloud)\n",
    "plt.axis(\"off\")\n",
    "plt.show()"
   ]
  },
  {
   "cell_type": "markdown",
   "metadata": {},
   "source": [
    "### Recommendation system\n",
    "Now that we have the cleaned dataset and explored some features of the dataset, let's start building our recommendation system.\n",
    "#### 1. Content based\n",
    "This approach is based on suggesting items like the ones the user has previously used or read. I have used cosine similarity to find similar books."
   ]
  },
  {
   "cell_type": "code",
   "execution_count": 219,
   "metadata": {},
   "outputs": [],
   "source": [
    "#removing nulls\n",
    "books_no_null= books.fillna('')\n"
   ]
  },
  {
   "cell_type": "code",
   "execution_count": 220,
   "metadata": {},
   "outputs": [],
   "source": [
    "#converting all strings to lowercase\n",
    "def lower_case(x):\n",
    "        return str.lower(x.replace(\" \", \"\"))"
   ]
  },
  {
   "cell_type": "code",
   "execution_count": 221,
   "metadata": {},
   "outputs": [],
   "source": [
    "features=['original_title','authors','average_rating']\n",
    "books_no_null=books_no_null[features]"
   ]
  },
  {
   "cell_type": "code",
   "execution_count": 222,
   "metadata": {},
   "outputs": [
    {
     "data": {
      "text/plain": [
       "original_title    object\n",
       "authors           object\n",
       "average_rating    object\n",
       "dtype: object"
      ]
     },
     "execution_count": 222,
     "metadata": {},
     "output_type": "execute_result"
    }
   ],
   "source": [
    "books_no_null = books_no_null.astype(str)\n",
    "books_no_null.dtypes"
   ]
  },
  {
   "cell_type": "code",
   "execution_count": 223,
   "metadata": {},
   "outputs": [
    {
     "data": {
      "text/html": [
       "<div>\n",
       "<style scoped>\n",
       "    .dataframe tbody tr th:only-of-type {\n",
       "        vertical-align: middle;\n",
       "    }\n",
       "\n",
       "    .dataframe tbody tr th {\n",
       "        vertical-align: top;\n",
       "    }\n",
       "\n",
       "    .dataframe thead th {\n",
       "        text-align: right;\n",
       "    }\n",
       "</style>\n",
       "<table border=\"1\" class=\"dataframe\">\n",
       "  <thead>\n",
       "    <tr style=\"text-align: right;\">\n",
       "      <th></th>\n",
       "      <th>original_title</th>\n",
       "      <th>authors</th>\n",
       "      <th>average_rating</th>\n",
       "    </tr>\n",
       "  </thead>\n",
       "  <tbody>\n",
       "    <tr>\n",
       "      <th>0</th>\n",
       "      <td>thehungergames</td>\n",
       "      <td>suzannecollins</td>\n",
       "      <td>4.34</td>\n",
       "    </tr>\n",
       "    <tr>\n",
       "      <th>3</th>\n",
       "      <td>tokillamockingbird</td>\n",
       "      <td>harperlee</td>\n",
       "      <td>4.25</td>\n",
       "    </tr>\n",
       "    <tr>\n",
       "      <th>4</th>\n",
       "      <td>thegreatgatsby</td>\n",
       "      <td>f.scottfitzgerald</td>\n",
       "      <td>3.89</td>\n",
       "    </tr>\n",
       "    <tr>\n",
       "      <th>5</th>\n",
       "      <td>thefaultinourstars</td>\n",
       "      <td>johngreen</td>\n",
       "      <td>4.26</td>\n",
       "    </tr>\n",
       "    <tr>\n",
       "      <th>6</th>\n",
       "      <td>thehobbitorthereandbackagain</td>\n",
       "      <td>j.r.r.tolkien</td>\n",
       "      <td>4.25</td>\n",
       "    </tr>\n",
       "  </tbody>\n",
       "</table>\n",
       "</div>"
      ],
      "text/plain": [
       "                 original_title            authors average_rating\n",
       "0  thehungergames                suzannecollins     4.34         \n",
       "3  tokillamockingbird            harperlee          4.25         \n",
       "4  thegreatgatsby                f.scottfitzgerald  3.89         \n",
       "5  thefaultinourstars            johngreen          4.26         \n",
       "6  thehobbitorthereandbackagain  j.r.r.tolkien      4.25         "
      ]
     },
     "execution_count": 223,
     "metadata": {},
     "output_type": "execute_result"
    }
   ],
   "source": [
    "for feature in features:\n",
    "    books_no_null[feature] = books_no_null[feature].apply(lower_case)\n",
    "    \n",
    "books_no_null.head()"
   ]
  },
  {
   "cell_type": "markdown",
   "metadata": {},
   "source": [
    "To perfrom TF-IDF vectorization, we have to convert the features to vectors, so I have combined the features in one string."
   ]
  },
  {
   "cell_type": "code",
   "execution_count": 224,
   "metadata": {},
   "outputs": [],
   "source": [
    "#combining the features\n",
    "def create_soup(x):\n",
    "    return x['original_title']+ ' ' + x['authors'] + ' ' + x['average_rating']"
   ]
  },
  {
   "cell_type": "code",
   "execution_count": 225,
   "metadata": {},
   "outputs": [
    {
     "data": {
      "text/html": [
       "<div>\n",
       "<style scoped>\n",
       "    .dataframe tbody tr th:only-of-type {\n",
       "        vertical-align: middle;\n",
       "    }\n",
       "\n",
       "    .dataframe tbody tr th {\n",
       "        vertical-align: top;\n",
       "    }\n",
       "\n",
       "    .dataframe thead th {\n",
       "        text-align: right;\n",
       "    }\n",
       "</style>\n",
       "<table border=\"1\" class=\"dataframe\">\n",
       "  <thead>\n",
       "    <tr style=\"text-align: right;\">\n",
       "      <th></th>\n",
       "      <th>original_title</th>\n",
       "      <th>authors</th>\n",
       "      <th>average_rating</th>\n",
       "      <th>soup</th>\n",
       "    </tr>\n",
       "  </thead>\n",
       "  <tbody>\n",
       "    <tr>\n",
       "      <th>0</th>\n",
       "      <td>thehungergames</td>\n",
       "      <td>suzannecollins</td>\n",
       "      <td>4.34</td>\n",
       "      <td>thehungergames suzannecollins 4.34</td>\n",
       "    </tr>\n",
       "    <tr>\n",
       "      <th>3</th>\n",
       "      <td>tokillamockingbird</td>\n",
       "      <td>harperlee</td>\n",
       "      <td>4.25</td>\n",
       "      <td>tokillamockingbird harperlee 4.25</td>\n",
       "    </tr>\n",
       "    <tr>\n",
       "      <th>4</th>\n",
       "      <td>thegreatgatsby</td>\n",
       "      <td>f.scottfitzgerald</td>\n",
       "      <td>3.89</td>\n",
       "      <td>thegreatgatsby f.scottfitzgerald 3.89</td>\n",
       "    </tr>\n",
       "    <tr>\n",
       "      <th>5</th>\n",
       "      <td>thefaultinourstars</td>\n",
       "      <td>johngreen</td>\n",
       "      <td>4.26</td>\n",
       "      <td>thefaultinourstars johngreen 4.26</td>\n",
       "    </tr>\n",
       "    <tr>\n",
       "      <th>6</th>\n",
       "      <td>thehobbitorthereandbackagain</td>\n",
       "      <td>j.r.r.tolkien</td>\n",
       "      <td>4.25</td>\n",
       "      <td>thehobbitorthereandbackagain j.r.r.tolkien 4.25</td>\n",
       "    </tr>\n",
       "  </tbody>\n",
       "</table>\n",
       "</div>"
      ],
      "text/plain": [
       "                 original_title            authors average_rating  \\\n",
       "0  thehungergames                suzannecollins     4.34            \n",
       "3  tokillamockingbird            harperlee          4.25            \n",
       "4  thegreatgatsby                f.scottfitzgerald  3.89            \n",
       "5  thefaultinourstars            johngreen          4.26            \n",
       "6  thehobbitorthereandbackagain  j.r.r.tolkien      4.25            \n",
       "\n",
       "                                              soup  \n",
       "0  thehungergames suzannecollins 4.34               \n",
       "3  tokillamockingbird harperlee 4.25                \n",
       "4  thegreatgatsby f.scottfitzgerald 3.89            \n",
       "5  thefaultinourstars johngreen 4.26                \n",
       "6  thehobbitorthereandbackagain j.r.r.tolkien 4.25  "
      ]
     },
     "execution_count": 225,
     "metadata": {},
     "output_type": "execute_result"
    }
   ],
   "source": [
    "books_no_null['soup'] = books_no_null.apply(create_soup, axis=1)\n",
    "books_no_null.head()"
   ]
  },
  {
   "cell_type": "code",
   "execution_count": 226,
   "metadata": {},
   "outputs": [],
   "source": [
    "#Transforming the string into a vector\n",
    "count_vector = CountVectorizer(stop_words='english')\n",
    "count_matrix = count_vector.fit_transform(books_no_null['soup'])\n",
    "\n",
    "cosine_sim = cosine_similarity(count_matrix, count_matrix)\n"
   ]
  },
  {
   "cell_type": "code",
   "execution_count": 227,
   "metadata": {},
   "outputs": [
    {
     "data": {
      "text/plain": [
       "original_title\n",
       "thehungergames                  0\n",
       "tokillamockingbird              1\n",
       "thegreatgatsby                  2\n",
       "thefaultinourstars              3\n",
       "thehobbitorthereandbackagain    4\n",
       "dtype: int64"
      ]
     },
     "execution_count": 227,
     "metadata": {},
     "output_type": "execute_result"
    }
   ],
   "source": [
    "#storing the index of the titles\n",
    "books_no_null=books_no_null.reset_index()\n",
    "indices = pd.Series(books_no_null.index, index=books_no_null['original_title'])\n",
    "indices.head()"
   ]
  },
  {
   "cell_type": "code",
   "execution_count": 228,
   "metadata": {},
   "outputs": [],
   "source": [
    "#Function to get recommendations based on title of the book\n",
    "def get_recommendations(title, cosine_sim=cosine_sim):\n",
    "    title=title.replace(' ','').lower()\n",
    "    idx = indices[title]\n",
    "\n",
    "    # Get the pairwsie similarity scores of all movies with that movie\n",
    "    sim_scores = list(enumerate(cosine_sim[idx]))\n",
    "\n",
    "    # Sort the movies based on the similarity scores\n",
    "    sim_scores = sorted(sim_scores, key=lambda x: x[1], reverse=True)\n",
    "\n",
    "    # Get the scores of the 10 most similar movies\n",
    "    sim_scores = sim_scores[1:11]\n",
    "\n",
    "    # Get the movie indices\n",
    "    movie_indices = [i[0] for i in sim_scores]\n",
    "\n",
    "    # Return the top 10 most similar movies\n",
    "    return books['original_title'].iloc[movie_indices]"
   ]
  },
  {
   "cell_type": "code",
   "execution_count": 229,
   "metadata": {},
   "outputs": [
    {
     "data": {
      "text/html": [
       "<div>\n",
       "<style scoped>\n",
       "    .dataframe tbody tr th:only-of-type {\n",
       "        vertical-align: middle;\n",
       "    }\n",
       "\n",
       "    .dataframe tbody tr th {\n",
       "        vertical-align: top;\n",
       "    }\n",
       "\n",
       "    .dataframe thead th {\n",
       "        text-align: right;\n",
       "    }\n",
       "</style>\n",
       "<table border=\"1\" class=\"dataframe\">\n",
       "  <thead>\n",
       "    <tr style=\"text-align: right;\">\n",
       "      <th></th>\n",
       "      <th>original_title</th>\n",
       "    </tr>\n",
       "  </thead>\n",
       "  <tbody>\n",
       "    <tr>\n",
       "      <th>7408</th>\n",
       "      <td>The Short Stories of F. Scott Fitzgerald</td>\n",
       "    </tr>\n",
       "    <tr>\n",
       "      <th>440</th>\n",
       "      <td>Under the Dome</td>\n",
       "    </tr>\n",
       "    <tr>\n",
       "      <th>473</th>\n",
       "      <td>The God Delusion</td>\n",
       "    </tr>\n",
       "    <tr>\n",
       "      <th>525</th>\n",
       "      <td>Darkly Dreaming Dexter</td>\n",
       "    </tr>\n",
       "    <tr>\n",
       "      <th>599</th>\n",
       "      <td>Torment</td>\n",
       "    </tr>\n",
       "    <tr>\n",
       "      <th>663</th>\n",
       "      <td>Breakfast at Tiffany's</td>\n",
       "    </tr>\n",
       "    <tr>\n",
       "      <th>713</th>\n",
       "      <td>The Tragedie of King Lear</td>\n",
       "    </tr>\n",
       "    <tr>\n",
       "      <th>835</th>\n",
       "      <td>The Unlikely Pilgrimage of Harold Fry</td>\n",
       "    </tr>\n",
       "    <tr>\n",
       "      <th>944</th>\n",
       "      <td>Passion</td>\n",
       "    </tr>\n",
       "    <tr>\n",
       "      <th>1043</th>\n",
       "      <td>Why Not Me?</td>\n",
       "    </tr>\n",
       "  </tbody>\n",
       "</table>\n",
       "</div>"
      ],
      "text/plain": [
       "                                original_title\n",
       "7408  The Short Stories of F. Scott Fitzgerald\n",
       "440   Under the Dome                          \n",
       "473   The God Delusion                        \n",
       "525   Darkly Dreaming Dexter                  \n",
       "599   Torment                                 \n",
       "663   Breakfast at Tiffany's                  \n",
       "713   The Tragedie of King Lear               \n",
       "835   The Unlikely Pilgrimage of Harold Fry   \n",
       "944   Passion                                 \n",
       "1043  Why Not Me?                             "
      ]
     },
     "execution_count": 229,
     "metadata": {},
     "output_type": "execute_result"
    }
   ],
   "source": [
    "#Passing great gatsby for getting recommendations\n",
    "recommendation=get_recommendations('The Great Gatsby', cosine_sim)\n",
    "pd.DataFrame(recommendation)\n"
   ]
  },
  {
   "cell_type": "code",
   "execution_count": 230,
   "metadata": {},
   "outputs": [
    {
     "data": {
      "text/html": [
       "<div>\n",
       "<style scoped>\n",
       "    .dataframe tbody tr th:only-of-type {\n",
       "        vertical-align: middle;\n",
       "    }\n",
       "\n",
       "    .dataframe tbody tr th {\n",
       "        vertical-align: top;\n",
       "    }\n",
       "\n",
       "    .dataframe thead th {\n",
       "        text-align: right;\n",
       "    }\n",
       "</style>\n",
       "<table border=\"1\" class=\"dataframe\">\n",
       "  <thead>\n",
       "    <tr style=\"text-align: right;\">\n",
       "      <th></th>\n",
       "      <th>original_title</th>\n",
       "    </tr>\n",
       "  </thead>\n",
       "  <tbody>\n",
       "    <tr>\n",
       "      <th>222</th>\n",
       "      <td>Artemis Fowl</td>\n",
       "    </tr>\n",
       "    <tr>\n",
       "      <th>292</th>\n",
       "      <td>Treasure Island</td>\n",
       "    </tr>\n",
       "    <tr>\n",
       "      <th>410</th>\n",
       "      <td>The Undomestic Goddess</td>\n",
       "    </tr>\n",
       "    <tr>\n",
       "      <th>621</th>\n",
       "      <td>Nights in Rodanthe</td>\n",
       "    </tr>\n",
       "    <tr>\n",
       "      <th>760</th>\n",
       "      <td>Twenties Girl</td>\n",
       "    </tr>\n",
       "    <tr>\n",
       "      <th>822</th>\n",
       "      <td>A is for Alibi</td>\n",
       "    </tr>\n",
       "    <tr>\n",
       "      <th>938</th>\n",
       "      <td>Reconstructing Amelia</td>\n",
       "    </tr>\n",
       "    <tr>\n",
       "      <th>1131</th>\n",
       "      <td>The Amityville Horror</td>\n",
       "    </tr>\n",
       "    <tr>\n",
       "      <th>1241</th>\n",
       "      <td>The Lowland</td>\n",
       "    </tr>\n",
       "    <tr>\n",
       "      <th>1343</th>\n",
       "      <td>What the Dog Saw and Other Adventures</td>\n",
       "    </tr>\n",
       "  </tbody>\n",
       "</table>\n",
       "</div>"
      ],
      "text/plain": [
       "                             original_title\n",
       "222   Artemis Fowl                         \n",
       "292   Treasure Island                      \n",
       "410   The Undomestic Goddess               \n",
       "621   Nights in Rodanthe                   \n",
       "760   Twenties Girl                        \n",
       "822   A is for Alibi                       \n",
       "938   Reconstructing Amelia                \n",
       "1131  The Amityville Horror                \n",
       "1241  The Lowland                          \n",
       "1343  What the Dog Saw and Other Adventures"
      ]
     },
     "execution_count": 230,
     "metadata": {},
     "output_type": "execute_result"
    }
   ],
   "source": [
    "recommendation=get_recommendations('The Complete Calvin and Hobbes', cosine_sim)\n",
    "pd.DataFrame(recommendation)\n"
   ]
  },
  {
   "cell_type": "markdown",
   "metadata": {},
   "source": [
    "### 2. Collaborative approach\n",
    "In this approach, the user’s historical preferences are used to make predictions of what will be his interest. I have used Pearson COrrelation to find similar users/items."
   ]
  },
  {
   "cell_type": "code",
   "execution_count": 238,
   "metadata": {},
   "outputs": [],
   "source": [
    "#extracting only title\n",
    "features_col=['book_id', 'original_title']\n",
    "books_col=books[features_col]\n",
    "books_col.fillna(0);"
   ]
  },
  {
   "cell_type": "markdown",
   "metadata": {},
   "source": [
    "I am splitting the data into training and testing (80-20) and performing modelling on the training set."
   ]
  },
  {
   "cell_type": "code",
   "execution_count": 239,
   "metadata": {},
   "outputs": [],
   "source": [
    "train_data, test_data = train_test_split(sample_ratings, test_size=0.2)\n"
   ]
  },
  {
   "cell_type": "code",
   "execution_count": 240,
   "metadata": {},
   "outputs": [
    {
     "name": "stdout",
     "output_type": "stream",
     "text": [
      "(10030, 3)\n",
      "(2508, 3)\n"
     ]
    }
   ],
   "source": [
    "# Create two user-item matrices, one for training and another for testing\n",
    "train_data_matrix = train_data.to_numpy()\n",
    "test_data_matrix = test_data.to_numpy()\n",
    "\n",
    "# Check their shape\n",
    "print(train_data_matrix.shape)\n",
    "print(test_data_matrix.shape)"
   ]
  },
  {
   "cell_type": "code",
   "execution_count": 244,
   "metadata": {},
   "outputs": [
    {
     "ename": "MemoryError",
     "evalue": "",
     "output_type": "error",
     "traceback": [
      "\u001b[1;31m---------------------------------------------------------------------------\u001b[0m",
      "\u001b[1;31mMemoryError\u001b[0m                               Traceback (most recent call last)",
      "\u001b[1;32m<ipython-input-244-88de8706c010>\u001b[0m in \u001b[0;36m<module>\u001b[1;34m\u001b[0m\n\u001b[0;32m      1\u001b[0m \u001b[1;31m# User Similarity Matrix\u001b[0m\u001b[1;33m\u001b[0m\u001b[1;33m\u001b[0m\u001b[1;33m\u001b[0m\u001b[0m\n\u001b[1;32m----> 2\u001b[1;33m \u001b[0muser_similarity\u001b[0m \u001b[1;33m=\u001b[0m \u001b[1;36m1\u001b[0m \u001b[1;33m-\u001b[0m \u001b[0mpairwise_distances\u001b[0m\u001b[1;33m(\u001b[0m\u001b[0mtrain_data\u001b[0m\u001b[1;33m,\u001b[0m \u001b[0mmetric\u001b[0m\u001b[1;33m=\u001b[0m\u001b[1;34m'cosine'\u001b[0m\u001b[1;33m)\u001b[0m\u001b[1;33m\u001b[0m\u001b[1;33m\u001b[0m\u001b[0m\n\u001b[0m\u001b[0;32m      3\u001b[0m \u001b[0muser_similarity\u001b[0m\u001b[1;33m[\u001b[0m\u001b[0mnp\u001b[0m\u001b[1;33m.\u001b[0m\u001b[0misnan\u001b[0m\u001b[1;33m(\u001b[0m\u001b[0muser_similarity\u001b[0m\u001b[1;33m)\u001b[0m\u001b[1;33m]\u001b[0m \u001b[1;33m=\u001b[0m \u001b[1;36m0\u001b[0m\u001b[1;33m\u001b[0m\u001b[1;33m\u001b[0m\u001b[0m\n\u001b[0;32m      4\u001b[0m \u001b[0mprint\u001b[0m\u001b[1;33m(\u001b[0m\u001b[0muser_similarity\u001b[0m\u001b[1;33m[\u001b[0m\u001b[1;33m:\u001b[0m\u001b[1;36m4\u001b[0m\u001b[1;33m,\u001b[0m \u001b[1;33m:\u001b[0m\u001b[1;36m4\u001b[0m\u001b[1;33m]\u001b[0m\u001b[1;33m)\u001b[0m\u001b[1;33m\u001b[0m\u001b[1;33m\u001b[0m\u001b[0m\n",
      "\u001b[1;31mMemoryError\u001b[0m: "
     ]
    }
   ],
   "source": [
    "# User Similarity Matrix\n",
    "user_similarity = 1 - pairwise_distances(train_data, metric='cosine')\n",
    "user_similarity[np.isnan(user_similarity)] = 0\n",
    "print(user_similarity[:4, :4])"
   ]
  },
  {
   "cell_type": "code",
   "execution_count": 243,
   "metadata": {},
   "outputs": [
    {
     "name": "stdout",
     "output_type": "stream",
     "text": [
      "[[1.         0.82947147 0.92475007]\n",
      " [0.82947147 1.         0.84789848]\n",
      " [0.92475007 0.84789848 1.        ]]\n"
     ]
    }
   ],
   "source": [
    "# Item Similarity Matrix\n",
    "item_similarity = 1 - pairwise_distances(train_data_matrix.T, metric='cosine')\n",
    "item_similarity[np.isnan(item_similarity)] = 0\n",
    "print(item_similarity[:4, :4])"
   ]
  },
  {
   "cell_type": "code",
   "execution_count": null,
   "metadata": {},
   "outputs": [],
   "source": [
    "# Function to predict ratings\n",
    "def predict(ratings, similarity, type='user'):\n",
    "    if type == 'user':\n",
    "        mean_user_rating = ratings.mean(axis=1)\n",
    "        # Use np.newaxis so that mean_user_rating has same format as ratings\n",
    "        ratings_diff = (ratings - mean_user_rating[:, np.newaxis])\n",
    "        pred = mean_user_rating[:, np.newaxis] + similarity.dot(ratings_diff) / np.array([np.abs(similarity).sum(axis=1)]).T\n",
    "    elif type == 'item':\n",
    "        pred = ratings.dot(similarity) / np.array([np.abs(similarity).sum(axis=1)])\n",
    "    return pred"
   ]
  },
  {
   "cell_type": "code",
   "execution_count": null,
   "metadata": {},
   "outputs": [],
   "source": [
    "# Function to calculate RMSE\n",
    "def rmse(pred, actual):\n",
    "    # Ignore nonzero terms.\n",
    "    pred = pred[actual.nonzero()].flatten()\n",
    "    actual = actual[actual.nonzero()].flatten()\n",
    "    return sqrt(mean_squared_error(pred, actual))"
   ]
  },
  {
   "cell_type": "code",
   "execution_count": null,
   "metadata": {},
   "outputs": [],
   "source": [
    "# Predict ratings on the training data with both similarity score\n",
    "user_prediction = predict(train_data_matrix, user_similarity, type='user')\n",
    "item_prediction = predict(train_data_matrix, item_similarity, type='item')\n",
    "\n",
    "# RMSE on the test data\n",
    "print('User-based CF RMSE: ' + str(rmse(user_prediction, test_data_matrix)))\n",
    "print('Item-based CF RMSE: ' + str(rmse(item_prediction, test_data_matrix)))"
   ]
  },
  {
   "cell_type": "code",
   "execution_count": null,
   "metadata": {},
   "outputs": [],
   "source": [
    "predict(train_data_matrix, user_similarity, type='user')\n",
    "train_data_matrix - train_data_matrix.mean(axis=1)[:, np.newaxis]"
   ]
  },
  {
   "cell_type": "code",
   "execution_count": null,
   "metadata": {},
   "outputs": [],
   "source": [
    "user_prediction"
   ]
  },
  {
   "cell_type": "markdown",
   "metadata": {},
   "source": [
    "I will go with item-based since user-based approach may lead to problems when there are no similar users."
   ]
  },
  {
   "cell_type": "code",
   "execution_count": null,
   "metadata": {},
   "outputs": [],
   "source": [
    "#creating a dictionary for every book\n",
    "listOfDict=[]\n",
    "indexMap = {}\n",
    "reverseIndexMap = {}\n",
    "ptr=0;\n",
    "df = sample_ratings\n",
    "df=df[['user_id','rating']].groupby(df['book_id'])\n",
    "for groupKey in df.groups.keys():\n",
    "    tempDict={}\n",
    "    groupDF = df.get_group(groupKey)\n",
    "    for i in range(0,len(groupDF)):\n",
    "        tempDict[groupDF.iloc[i,0]]=groupDF.iloc[i,1]\n",
    "    indexMap[ptr]=groupKey\n",
    "    reverseIndexMap[groupKey] = ptr\n",
    "    ptr=ptr+1\n",
    "    listOfDict.append(tempDict)"
   ]
  },
  {
   "cell_type": "code",
   "execution_count": null,
   "metadata": {},
   "outputs": [],
   "source": [
    "#Converting the dictionary to a vector\n",
    "dictVectorizer = DictVectorizer(sparse=True)\n",
    "vector = dictVectorizer.fit_transform(listOfDictonaries)"
   ]
  },
  {
   "cell_type": "code",
   "execution_count": null,
   "metadata": {},
   "outputs": [],
   "source": [
    "#find the pairwise similarity of the vector\n",
    "pairwiseSimilarity = cosine_similarity(vector)"
   ]
  },
  {
   "cell_type": "code",
   "execution_count": 235,
   "metadata": {},
   "outputs": [],
   "source": [
    "#function to print books\n",
    "def printBookDetails(bookID):\n",
    "    print(\"Title:\", books[books['id']==bookID]['original_title'].values[0])\n",
    "    print(\"Author:\",books[books['id']==bookID]['authors'].values[0])\n",
    "    print(\"Printing Book-ID:\",bookID)\n",
    "    print(\"=================++++++++++++++=========================\")\n",
    "\n",
    "#function to get top recommendations\n",
    "def getTopRecommandations(bookID):\n",
    "    row = reverseIndexMap[bookID]\n",
    "    print(\"------INPUT BOOK--------\")\n",
    "    printBookDetails(bookID)\n",
    "    print(\"-------RECOMMENDATIONS----------\")\n",
    "    similarBookIDs = [printBookDetails(indexMap[i]) for i in np.argsort(pairwiseSimilarity[row])[-7:-2][::-1]]\n"
   ]
  },
  {
   "cell_type": "code",
   "execution_count": 236,
   "metadata": {},
   "outputs": [
    {
     "ename": "KeyError",
     "evalue": "4671",
     "output_type": "error",
     "traceback": [
      "\u001b[1;31m---------------------------------------------------------------------------\u001b[0m",
      "\u001b[1;31mKeyError\u001b[0m                                  Traceback (most recent call last)",
      "\u001b[1;32m<ipython-input-236-ea57b5ff0db5>\u001b[0m in \u001b[0;36m<module>\u001b[1;34m\u001b[0m\n\u001b[1;32m----> 1\u001b[1;33m \u001b[0mgetTopRecommandations\u001b[0m\u001b[1;33m(\u001b[0m\u001b[1;36m4671\u001b[0m\u001b[1;33m)\u001b[0m\u001b[1;33m\u001b[0m\u001b[1;33m\u001b[0m\u001b[0m\n\u001b[0m",
      "\u001b[1;32m<ipython-input-235-691954e1dfdc>\u001b[0m in \u001b[0;36mgetTopRecommandations\u001b[1;34m(bookID)\u001b[0m\n\u001b[0;32m      8\u001b[0m \u001b[1;31m#function to get top recommendations\u001b[0m\u001b[1;33m\u001b[0m\u001b[1;33m\u001b[0m\u001b[1;33m\u001b[0m\u001b[0m\n\u001b[0;32m      9\u001b[0m \u001b[1;32mdef\u001b[0m \u001b[0mgetTopRecommandations\u001b[0m\u001b[1;33m(\u001b[0m\u001b[0mbookID\u001b[0m\u001b[1;33m)\u001b[0m\u001b[1;33m:\u001b[0m\u001b[1;33m\u001b[0m\u001b[1;33m\u001b[0m\u001b[0m\n\u001b[1;32m---> 10\u001b[1;33m     \u001b[0mrow\u001b[0m \u001b[1;33m=\u001b[0m \u001b[0mreverseIndexMap\u001b[0m\u001b[1;33m[\u001b[0m\u001b[0mbookID\u001b[0m\u001b[1;33m]\u001b[0m\u001b[1;33m\u001b[0m\u001b[1;33m\u001b[0m\u001b[0m\n\u001b[0m\u001b[0;32m     11\u001b[0m     \u001b[0mprint\u001b[0m\u001b[1;33m(\u001b[0m\u001b[1;34m\"------INPUT BOOK--------\"\u001b[0m\u001b[1;33m)\u001b[0m\u001b[1;33m\u001b[0m\u001b[1;33m\u001b[0m\u001b[0m\n\u001b[0;32m     12\u001b[0m     \u001b[0mprintBookDetails\u001b[0m\u001b[1;33m(\u001b[0m\u001b[0mbookID\u001b[0m\u001b[1;33m)\u001b[0m\u001b[1;33m\u001b[0m\u001b[1;33m\u001b[0m\u001b[0m\n",
      "\u001b[1;31mKeyError\u001b[0m: 4671"
     ]
    }
   ],
   "source": [
    "getTopRecommandations(4671)"
   ]
  },
  {
   "cell_type": "markdown",
   "metadata": {},
   "source": [
    "### 3. SVD\n",
    "Matrix Factorization decomposes the ratings matrix into lower dimensional matrices with latent factors/features and less sparsity."
   ]
  },
  {
   "cell_type": "code",
   "execution_count": 158,
   "metadata": {},
   "outputs": [
    {
     "name": "stdout",
     "output_type": "stream",
     "text": [
      "Total Books:  12538\n",
      "Total User:  9667\n"
     ]
    }
   ],
   "source": [
    "#Ratings matrix to be one row per user and one column per movie.\n",
    "print(\"Total Books: \", sample_ratings.shape[0])\n",
    "## Total User only considering user who rated atleast one movie\n",
    "print(\"Total User: \", len(sample_ratings['user_id'].unique()))\n"
   ]
  },
  {
   "cell_type": "code",
   "execution_count": 159,
   "metadata": {},
   "outputs": [
    {
     "name": "stdout",
     "output_type": "stream",
     "text": [
      "book_id  210  277  384  394  462  470  520  524  564  580  ...  9990  9991  \\\n",
      "user_id                                                    ...               \n",
      "10       0.0  0.0  0.0  0.0  0.0  0.0  0.0  0.0  0.0  0.0  ...  0.0   0.0    \n",
      "22       0.0  0.0  0.0  0.0  0.0  0.0  0.0  0.0  0.0  0.0  ...  0.0   0.0    \n",
      "24       0.0  0.0  0.0  0.0  0.0  0.0  0.0  0.0  0.0  0.0  ...  0.0   0.0    \n",
      "32       0.0  0.0  0.0  0.0  0.0  0.0  0.0  0.0  0.0  0.0  ...  0.0   0.0    \n",
      "51       0.0  0.0  0.0  0.0  0.0  0.0  0.0  0.0  0.0  0.0  ...  0.0   0.0    \n",
      "\n",
      "book_id  9992  9993  9994  9995  9997  9998  9999  10000  \n",
      "user_id                                                   \n",
      "10       0.0   0.0   0.0   0.0   0.0   0.0   0.0   0.0    \n",
      "22       0.0   0.0   0.0   0.0   0.0   0.0   0.0   0.0    \n",
      "24       0.0   0.0   0.0   0.0   0.0   0.0   0.0   0.0    \n",
      "32       0.0   0.0   0.0   0.0   0.0   0.0   0.0   0.0    \n",
      "51       0.0   0.0   0.0   0.0   0.0   0.0   0.0   0.0    \n",
      "\n",
      "[5 rows x 5487 columns] (9667, 5487)\n"
     ]
    }
   ],
   "source": [
    "books = books[['book_id', 'authors', 'original_title', 'average_rating']].copy()\n",
    "books_df = sample_ratings.reset_index().pivot_table(index = 'user_id', columns = 'book_id', values = 'rating').fillna(0)\n",
    "print(books_df.head(), books_df.shape)"
   ]
  },
  {
   "cell_type": "code",
   "execution_count": 166,
   "metadata": {},
   "outputs": [
    {
     "name": "stderr",
     "output_type": "stream",
     "text": [
      "C:\\Users\\ambit\\AppData\\Local\\Continuum\\anaconda3\\lib\\site-packages\\ipykernel_launcher.py:2: FutureWarning: Method .as_matrix will be removed in a future version. Use .values instead.\n",
      "  \n"
     ]
    },
    {
     "data": {
      "text/plain": [
       "array([[-0.000729  , -0.000729  , -0.000729  , ..., -0.000729  ,\n",
       "        -0.000729  , -0.000729  ],\n",
       "       [-0.00109349, -0.00109349, -0.00109349, ..., -0.00109349,\n",
       "        -0.00109349, -0.00109349],\n",
       "       [-0.000729  , -0.000729  , -0.000729  , ..., -0.000729  ,\n",
       "        -0.000729  , -0.000729  ],\n",
       "       ...,\n",
       "       [-0.00127574, -0.00127574, -0.00127574, ..., -0.00127574,\n",
       "        -0.00127574, -0.00127574],\n",
       "       [-0.000729  , -0.000729  , -0.000729  , ..., -0.000729  ,\n",
       "        -0.000729  , -0.000729  ],\n",
       "       [-0.000729  , -0.000729  , -0.000729  , ..., -0.000729  ,\n",
       "        -0.000729  , -0.000729  ]])"
      ]
     },
     "execution_count": 166,
     "metadata": {},
     "output_type": "execute_result"
    }
   ],
   "source": [
    "# Normalize by each users mean and convert it from a dataframe to a numpy array\n",
    "R = books_df.as_matrix()\n",
    "user_ratings_mean = np.mean(R, axis = 1)\n",
    "R_mean = R - user_ratings_mean.reshape(-1, 1)\n",
    "R_mean"
   ]
  },
  {
   "cell_type": "code",
   "execution_count": 167,
   "metadata": {},
   "outputs": [
    {
     "name": "stdout",
     "output_type": "stream",
     "text": [
      "[[11.74030939  0.          0.         ...  0.          0.\n",
      "   0.        ]\n",
      " [ 0.         11.74517676  0.         ...  0.          0.\n",
      "   0.        ]\n",
      " [ 0.          0.         11.76224807 ...  0.          0.\n",
      "   0.        ]\n",
      " ...\n",
      " [ 0.          0.          0.         ... 13.665606    0.\n",
      "   0.        ]\n",
      " [ 0.          0.          0.         ...  0.         13.76905842\n",
      "   0.        ]\n",
      " [ 0.          0.          0.         ...  0.          0.\n",
      "  14.32628609]]\n"
     ]
    }
   ],
   "source": [
    "#form the three decomposed matrices\n",
    "U, sigma, Vt = svds(R_mean, k = 50)\n",
    "del(R_mean)\n",
    "sigma = np.diag(sigma)\n",
    "print(sigma)"
   ]
  },
  {
   "cell_type": "code",
   "execution_count": 168,
   "metadata": {},
   "outputs": [
    {
     "name": "stdout",
     "output_type": "stream",
     "text": [
      "[[0.00074057 0.00074112 0.00074818 ... 0.00075166 0.0007483  0.00096754]\n",
      " [0.00111182 0.0011127  0.0011239  ... 0.00112943 0.00112409 0.00147557]\n",
      " [0.00074293 0.00074359 0.00075212 ... 0.00075634 0.00075227 0.00102154]\n",
      " ...\n",
      " [0.00129244 0.00129324 0.00130339 ... 0.0013084  0.00130356 0.00161517]\n",
      " [0.00073896 0.00073944 0.0007455  ... 0.00074849 0.0007456  0.00093218]\n",
      " [0.00074072 0.00074128 0.00074844 ... 0.00075197 0.00074856 0.00097133]]\n",
      "book_id       210       277       384       394       462       470       520  \\\n",
      "0        0.000741  0.000741  0.000748  0.000741  0.000775  0.000746  0.000739   \n",
      "1        0.001112  0.001113  0.001124  0.001112  0.001167  0.001120  0.001110   \n",
      "2        0.000743  0.000744  0.000752  0.000743  0.000785  0.000749  0.000741   \n",
      "3        0.000334  0.000305 -0.000073  0.000334 -0.001592  0.000050  0.000401   \n",
      "4        0.000744  0.000745  0.000754  0.000744  0.000790  0.000751  0.000742   \n",
      "\n",
      "book_id       524       564       580  ...      9990      9991      9992  \\\n",
      "0        0.000741  0.000743  0.000745  ...  0.000758  0.000762  0.000743   \n",
      "1        0.001112  0.001116  0.001119  ...  0.001139  0.001146  0.001116   \n",
      "2        0.000743  0.000746  0.000749  ...  0.000764  0.000769  0.000746   \n",
      "3        0.000334  0.000183  0.000075  ... -0.000610 -0.000855  0.000141   \n",
      "4        0.000744  0.000748  0.000750  ...  0.000767  0.000773  0.000748   \n",
      "\n",
      "book_id      9993      9994      9995      9997      9998      9999     10000  \n",
      "0        0.000759  0.000767  0.000739  0.000743  0.000752  0.000748  0.000968  \n",
      "1        0.001141  0.001154  0.001110  0.001115  0.001129  0.001124  0.001476  \n",
      "2        0.000765  0.000775  0.000742  0.000745  0.000756  0.000752  0.001022  \n",
      "3       -0.000678 -0.001140  0.000394  0.000225 -0.000265 -0.000081 -0.008856  \n",
      "4        0.000769  0.000779  0.000743  0.000747  0.000759  0.000754  0.001048  \n",
      "\n",
      "[5 rows x 5487 columns]\n"
     ]
    }
   ],
   "source": [
    "# add the user means back to get the predicted 5-star ratings\n",
    "all_user_predicted_ratings = np.dot(np.dot(U, sigma), Vt) + user_ratings_mean.reshape(-1, 1)\n",
    "print(all_user_predicted_ratings)\n",
    "# Making Recommendation\n",
    "preds_df = pd.DataFrame(all_user_predicted_ratings, columns = books_df.columns)\n",
    "print(preds_df.head(5))"
   ]
  },
  {
   "cell_type": "code",
   "execution_count": 169,
   "metadata": {},
   "outputs": [],
   "source": [
    "def recommend_books(predictions_df, userID, books_df, original_ratings_df, num_recommendations=5):\n",
    "    \n",
    "    # Get and sort the user's predictions\n",
    "    user_row_number = userID - 1 # UserID starts at 1, not 0\n",
    "    sorted_user_predictions = predictions_df.iloc[user_row_number].sort_values(ascending=False)\n",
    "    \n",
    "    # Get the user's data and merge in the movie information.\n",
    "    user_data = original_ratings_df[original_ratings_df.user_id == (userID)]\n",
    "    user_full = (user_data.merge(books_df, how = 'left', left_on = 'book_id', right_on = 'book_id').\n",
    "                     sort_values(['rating'], ascending=False)\n",
    "                 )\n",
    "\n",
    "#     print 'User {0} has already rated {1} books.', %(.format(userID, user_full.shape[0]))\n",
    "#     print 'Recommending the highest {0} predicted ratings movies not already rated.'.format(num_recommendations)\n",
    "    \n",
    "    # Recommend the highest predicted rating books that the user hasn't read yet.\n",
    "    recommendations = (books_df[~books_df['book_id'].isin(user_full['book_id'])].\n",
    "         merge(pd.DataFrame(sorted_user_predictions).reset_index(), how = 'left',\n",
    "               left_on = 'book_id',\n",
    "               right_on = 'book_id').\n",
    "         rename(columns = {user_row_number: 'Predictions'}).\n",
    "         sort_values('Predictions', ascending = False).\n",
    "                       iloc[:num_recommendations, :-1]\n",
    "                      )\n",
    "\n",
    "    return(user_full, recommendations)\n"
   ]
  },
  {
   "cell_type": "code",
   "execution_count": 170,
   "metadata": {},
   "outputs": [
    {
     "name": "stdout",
     "output_type": "stream",
     "text": [
      "      book_id                 authors  \\\n",
      "2291  5344     Charles Dickens          \n",
      "908   6422     Janet Evanovich          \n",
      "6187  3872     Tom Standage             \n",
      "1587  9915     Bret Easton Ellis        \n",
      "5509  7998     Brian Jacques            \n",
      "4588  8725     Ruth Reichl              \n",
      "1209  9417     Sophie Kinsella          \n",
      "186   5359     John Grisham             \n",
      "435   6534     Patricia Cornwell        \n",
      "3335  7036     Alexander McCall Smith   \n",
      "\n",
      "                                             original_title  average_rating  \n",
      "2291  Hard Times: For These Times                            3.50            \n",
      "908   Four to Score                                          4.17            \n",
      "6187  A History of the World in 6 Glasses                    3.74            \n",
      "1587  Less Than Zero                                         3.58            \n",
      "5509  Outcast of Redwall                                     3.90            \n",
      "4588  Comfort Me with Apples: More Adventures at the Table   4.02            \n",
      "1209  Shopaholic and Sister                                  3.64            \n",
      "186   The Client                                             3.97            \n",
      "435   Post-Mortem:  A Mystery Introducing Dr. Kay Scarpetta  4.01            \n",
      "3335  The Kalahari Typing School for Men                     3.99            \n"
     ]
    }
   ],
   "source": [
    "already_rated, predictions = recommend_books(preds_df, 121, books, ratings, 10)\n",
    "print(pd.DataFrame(predictions))"
   ]
  },
  {
   "cell_type": "code",
   "execution_count": 171,
   "metadata": {},
   "outputs": [],
   "source": [
    "##Testing for RMSE\n",
    "# Load Reader library\n",
    "reader = Reader()\n",
    "\n",
    "# Load ratings dataset with Dataset library\n",
    "data = Dataset.load_from_df(sample_ratings[['user_id', 'book_id', 'rating']], reader)\n",
    "\n",
    "# Split the dataset for 5-fold evaluation\n",
    "#data = data.build_full_trainset()\n",
    "#data.split(n_folds=5)"
   ]
  },
  {
   "cell_type": "code",
   "execution_count": 172,
   "metadata": {},
   "outputs": [
    {
     "name": "stdout",
     "output_type": "stream",
     "text": [
      "Evaluating RMSE of algorithm SVD on 5 split(s).\n",
      "\n",
      "                  Fold 1  Fold 2  Fold 3  Fold 4  Fold 5  Mean    Std     \n",
      "RMSE (testset)    0.9774  0.9799  0.9902  0.9782  0.9729  0.9797  0.0057  \n",
      "Fit time          0.54    0.51    0.55    0.54    0.56    0.54    0.02    \n",
      "Test time         0.02    0.01    0.01    0.01    0.01    0.01    0.00    \n"
     ]
    },
    {
     "data": {
      "text/plain": [
       "{'test_rmse': array([0.97738596, 0.97988088, 0.99015793, 0.97815036, 0.97285469]),\n",
       " 'fit_time': (0.5355141162872314,\n",
       "  0.5126731395721436,\n",
       "  0.5525217056274414,\n",
       "  0.5375902652740479,\n",
       "  0.5585055351257324),\n",
       " 'test_time': (0.020149707794189453,\n",
       "  0.012953042984008789,\n",
       "  0.012996435165405273,\n",
       "  0.012937307357788086,\n",
       "  0.01296544075012207)}"
      ]
     },
     "execution_count": 172,
     "metadata": {},
     "output_type": "execute_result"
    }
   ],
   "source": [
    "# Use the SVD algorithm.\n",
    "svd = SVD()\n",
    "\n",
    "# Compute the RMSE of the SVD algorithm.\n",
    "cross_validate(svd, data, measures=['RMSE'],verbose=True)"
   ]
  },
  {
   "cell_type": "code",
   "execution_count": 65,
   "metadata": {},
   "outputs": [
    {
     "data": {
      "text/html": [
       "<div>\n",
       "<style scoped>\n",
       "    .dataframe tbody tr th:only-of-type {\n",
       "        vertical-align: middle;\n",
       "    }\n",
       "\n",
       "    .dataframe tbody tr th {\n",
       "        vertical-align: top;\n",
       "    }\n",
       "\n",
       "    .dataframe thead th {\n",
       "        text-align: right;\n",
       "    }\n",
       "</style>\n",
       "<table border=\"1\" class=\"dataframe\">\n",
       "  <thead>\n",
       "    <tr style=\"text-align: right;\">\n",
       "      <th></th>\n",
       "      <th>book_id</th>\n",
       "      <th>user_id</th>\n",
       "      <th>rating</th>\n",
       "    </tr>\n",
       "  </thead>\n",
       "  <tbody>\n",
       "    <tr>\n",
       "      <th>932956</th>\n",
       "      <td>9473</td>\n",
       "      <td>21</td>\n",
       "      <td>3</td>\n",
       "    </tr>\n",
       "  </tbody>\n",
       "</table>\n",
       "</div>"
      ],
      "text/plain": [
       "        book_id  user_id  rating\n",
       "932956  9473     21       3     "
      ]
     },
     "execution_count": 65,
     "metadata": {},
     "output_type": "execute_result"
    }
   ],
   "source": [
    "sample_rating[sample_rating['user_id'] == 21].head()"
   ]
  },
  {
   "cell_type": "code",
   "execution_count": 173,
   "metadata": {},
   "outputs": [
    {
     "data": {
      "text/plain": [
       "Prediction(uid=21, iid=1994, r_ui=None, est=3.8814674509022034, details={'was_impossible': False})"
      ]
     },
     "execution_count": 173,
     "metadata": {},
     "output_type": "execute_result"
    }
   ],
   "source": [
    "svd.predict(21, 1994)\n"
   ]
  }
 ],
 "metadata": {
  "kernelspec": {
   "display_name": "Python 3",
   "language": "python",
   "name": "python3"
  },
  "language_info": {
   "codemirror_mode": {
    "name": "ipython",
    "version": 3
   },
   "file_extension": ".py",
   "mimetype": "text/x-python",
   "name": "python",
   "nbconvert_exporter": "python",
   "pygments_lexer": "ipython3",
   "version": "3.7.3"
  }
 },
 "nbformat": 4,
 "nbformat_minor": 4
}
